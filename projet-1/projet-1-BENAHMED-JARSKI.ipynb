{
 "cells": [
  {
   "cell_type": "markdown",
   "metadata": {},
   "source": [
    "IA & Data science (LU3IN0226) -- 2022-2023\n",
    "--------\n",
    "*&copy; Equipe pédagogique: Christophe Marsala, Olivier Schwander, Jean-Noël Vittaut.*"
   ]
  },
  {
   "cell_type": "markdown",
   "metadata": {},
   "source": [
    "<font size=\"+1\" color=\"RED\"><b>[Q]</b></font> <font size=\"+1\"><b>Indiquer dans la boîte ci-dessous vos noms et prénoms :</b></font>"
   ]
  },
  {
   "cell_type": "markdown",
   "metadata": {},
   "source": [
    "*Double-cliquer ici et insérer les noms et prénoms de votre binôme*\n",
    "\n",
    "Paul JARSKI\n",
    "\n",
    "Neil BENAHMED"
   ]
  },
  {
   "cell_type": "markdown",
   "metadata": {},
   "source": [
    "Ce projet peut être fait en binôme (d'un même groupe). Le nom de chaque membre du binôme doit être indiqué, et un seul rendu sur un des deux comptes Moodle doit être fait.\n",
    "\n",
    "Les groupes de plus de 2 personnes ne sont pas autorisés."
   ]
  },
  {
   "cell_type": "markdown",
   "metadata": {},
   "source": [
    "<font color=\"RED\" size=\"+1\"><b>[Q]</b></font> **Renommer ce fichier ipython**\n",
    "\n",
    "Tout en haut de cette page, cliquer sur <tt>projet-1</tt> et rajouter à la suite de <tt>projet-1</tt> les noms des membres du binômes séparés par un tiret.\n",
    "\n",
    "<font color=\"RED\" size=\"+1\">IMPORTANT: soumission de votre fichier final</font>\n",
    "\n",
    "**Nom à donner au notebook** : *projet-1-Nom1_Nom2.ipynb* \n",
    "- *Nom1* et *Nom2* : noms des membres du binôme\n",
    "\n",
    "**Le compte-rendu doit être rendu sur la page Moodle.**"
   ]
  },
  {
   "cell_type": "markdown",
   "metadata": {},
   "source": [
    "# Projet 1 - février-mars 2023\n",
    "\n",
    "\n",
    "<font size=\"+1\" color=\"RED\"><b>Date de rendu : jeudi 22 mars, 18h au plus tard</b></font>\n",
    "<br />\n",
    "\n",
    "\n",
    "Vous devez compléter ce notebook en rajoutant vos expérimentations avec vos algorithmes d'apprentissage sur les 2 datasets fournis dans le répertoire data-projet:\n",
    "- les données data-2D.pkl : données en 2 dimensions, 2 labels\n",
    "- les données data-5D.pkl : données en 5 dimensions, 2 labels\n",
    "\n",
    "## Travail à faire\n",
    "\n",
    "Pour chaque ensemble de données:\n",
    "- les 3 algorithmes d'apprentissage knn, perceptron et perceptron biais doivent être expérimentés et comparés (ATTENTION: on ne veut que des algorithmes que vous avez implémentés vous-même dans cette UE).\n",
    "- des résultats d'expérimentations doivent fournir une comparaison des taux de bonne classification apprentissage / test avec validation croisée en 10.\n",
    "- des courbes (coût, poids, variation d'accuracy,...) doivent être fournies pour étudier les modèles construits.\n",
    "\n",
    "Vos **expérimentations doivent être expliquées**... (utilisez des boîtes Markdown pour saisir vos explications):\n",
    "- une argumentation du type *\"pourquoi vous avez fait cette expérimentation\"* doit être fournie;\n",
    "- une analyse succincte du résultat fourni doit être aussi donnée.\n",
    "\n",
    "\n",
    "\n",
    "Par exemple (indicatif): choix de $k$ pour le knn:\n",
    "- argumentation : pour décider quelle peut être la valeur de $k$ optimale, on décide de tester plusieurs valeurs différentes et de comparer les taux de bonne classification sur la base de test obtenus.\n",
    "- analyse du résultat: on remarque que la valeur $k$ suivante fournie le meilleur résultat.\n",
    "- étude du temps d'exécution.\n",
    "\n",
    "\n",
    "## Travail à rendre\n",
    "Ce qui doit être rendu : un fichier archive (`.tar`, `.tgz`, ou `.zip` uniquement) contenant uniquement ce notebook, dans lequel vous avez reporté toutes les fonctions que vous utilisez : ce notebook doit pouvoir être exécuté sans autre apport (pensez à vous en assurer avant de le rendre). Les fichiers de données ne doivent pas être inclus dans votre archive !\n",
    "\n"
   ]
  },
  {
   "cell_type": "markdown",
   "metadata": {},
   "source": [
    "## Lecture des pickles\n",
    "\n"
   ]
  },
  {
   "cell_type": "code",
   "execution_count": 1,
   "metadata": {},
   "outputs": [],
   "source": [
    "# Importation de librairies standards:\n",
    "import numpy as np\n",
    "import pandas as pd\n",
    "import matplotlib.pyplot as plt\n",
    "import seaborn as sns\n",
    "import random\n",
    "from scipy.spatial import distance\n",
    "\n",
    "\n",
    "%matplotlib inline\n",
    "\n",
    "# Importation de la librairie pickle\n",
    "import pickle as pkl\n",
    "\n",
    "# lecture des donnéees en dimension 2 dans un dataframe pandas\n",
    "data2D = pkl.load(open('data-projet/data-2D.pkl', 'rb')) \n",
    "X2D = np.array(data2D[['x1', 'x2']], dtype=float) # conversion de type pour une meilleure compatibilité\n",
    "Y2D = np.array(data2D['label'], dtype=float)\n",
    "\n",
    "# pour les données en dimension 5, la méthode est la même, modifier seulement les noms des colonnes\n",
    "data5D = pkl.load(open('data-projet/data-5D.pkl','rb'))\n",
    "Y5D = np.array(data5D['label'], dtype=float)"
   ]
  },
  {
   "cell_type": "code",
   "execution_count": 2,
   "metadata": {},
   "outputs": [
    {
     "data": {
      "text/plain": [
       "<bound method Series.unique of 0      -1\n",
       "1      -1\n",
       "2      -1\n",
       "3      -1\n",
       "4      -1\n",
       "       ..\n",
       "1995    1\n",
       "1996    1\n",
       "1997    1\n",
       "1998    1\n",
       "1999    1\n",
       "Name: label, Length: 2000, dtype: int64>"
      ]
     },
     "execution_count": 2,
     "metadata": {},
     "output_type": "execute_result"
    }
   ],
   "source": [
    "data2D['label'].unique\n"
   ]
  },
  {
   "cell_type": "code",
   "execution_count": 3,
   "metadata": {},
   "outputs": [
    {
     "data": {
      "text/html": [
       "<div>\n",
       "<style scoped>\n",
       "    .dataframe tbody tr th:only-of-type {\n",
       "        vertical-align: middle;\n",
       "    }\n",
       "\n",
       "    .dataframe tbody tr th {\n",
       "        vertical-align: top;\n",
       "    }\n",
       "\n",
       "    .dataframe thead th {\n",
       "        text-align: right;\n",
       "    }\n",
       "</style>\n",
       "<table border=\"1\" class=\"dataframe\">\n",
       "  <thead>\n",
       "    <tr style=\"text-align: right;\">\n",
       "      <th></th>\n",
       "      <th>x1</th>\n",
       "      <th>x2</th>\n",
       "      <th>label</th>\n",
       "    </tr>\n",
       "  </thead>\n",
       "  <tbody>\n",
       "    <tr>\n",
       "      <th>0</th>\n",
       "      <td>0.830557</td>\n",
       "      <td>-2.250314</td>\n",
       "      <td>-1</td>\n",
       "    </tr>\n",
       "    <tr>\n",
       "      <th>1</th>\n",
       "      <td>0.627488</td>\n",
       "      <td>-2.533405</td>\n",
       "      <td>-1</td>\n",
       "    </tr>\n",
       "    <tr>\n",
       "      <th>2</th>\n",
       "      <td>-1.279837</td>\n",
       "      <td>-1.630564</td>\n",
       "      <td>-1</td>\n",
       "    </tr>\n",
       "    <tr>\n",
       "      <th>3</th>\n",
       "      <td>2.002088</td>\n",
       "      <td>-3.415239</td>\n",
       "      <td>-1</td>\n",
       "    </tr>\n",
       "    <tr>\n",
       "      <th>4</th>\n",
       "      <td>3.141847</td>\n",
       "      <td>-0.376081</td>\n",
       "      <td>-1</td>\n",
       "    </tr>\n",
       "  </tbody>\n",
       "</table>\n",
       "</div>"
      ],
      "text/plain": [
       "         x1        x2  label\n",
       "0  0.830557 -2.250314     -1\n",
       "1  0.627488 -2.533405     -1\n",
       "2 -1.279837 -1.630564     -1\n",
       "3  2.002088 -3.415239     -1\n",
       "4  3.141847 -0.376081     -1"
      ]
     },
     "execution_count": 3,
     "metadata": {},
     "output_type": "execute_result"
    }
   ],
   "source": [
    "data2D[0:5]"
   ]
  },
  {
   "cell_type": "code",
   "execution_count": 4,
   "metadata": {},
   "outputs": [],
   "source": [
    "# a supprimer plus tard\n",
    "#sns.pairplot(data2D, hue='label')"
   ]
  },
  {
   "cell_type": "code",
   "execution_count": 5,
   "metadata": {},
   "outputs": [
    {
     "data": {
      "text/plain": [
       "array([[ 0.83055692, -2.25031368],\n",
       "       [ 0.62748844, -2.53340502],\n",
       "       [-1.27983681, -1.63056446],\n",
       "       [ 2.00208794, -3.41523902],\n",
       "       [ 3.14184699, -0.37608089]])"
      ]
     },
     "execution_count": 5,
     "metadata": {},
     "output_type": "execute_result"
    }
   ],
   "source": [
    "X2D[0:5]"
   ]
  },
  {
   "cell_type": "code",
   "execution_count": 6,
   "metadata": {},
   "outputs": [
    {
     "data": {
      "text/plain": [
       "array([-1.,  1.])"
      ]
     },
     "execution_count": 6,
     "metadata": {},
     "output_type": "execute_result"
    }
   ],
   "source": [
    "np.unique(Y5D)"
   ]
  },
  {
   "cell_type": "code",
   "execution_count": 7,
   "metadata": {},
   "outputs": [
    {
     "data": {
      "text/plain": [
       "array([-1., -1., -1., ...,  1.,  1.,  1.])"
      ]
     },
     "execution_count": 7,
     "metadata": {},
     "output_type": "execute_result"
    }
   ],
   "source": [
    "Y2D"
   ]
  },
  {
   "cell_type": "markdown",
   "metadata": {},
   "source": [
    "## Code de nos algorithmes implémentés :"
   ]
  },
  {
   "cell_type": "markdown",
   "metadata": {},
   "source": [
    "### Classifieurs"
   ]
  },
  {
   "cell_type": "code",
   "execution_count": 8,
   "metadata": {},
   "outputs": [],
   "source": [
    "class Classifier:\n",
    "    \"\"\" Classe (abstraite) pour représenter un classifieur\n",
    "        Attention: cette classe est ne doit pas être instanciée.\n",
    "    \"\"\"\n",
    "    \n",
    "    def __init__(self, input_dimension):\n",
    "        \"\"\" Constructeur de Classifier\n",
    "            Argument:\n",
    "                - intput_dimension (int) : dimension de la description des exemples\n",
    "            Hypothèse : input_dimension > 0\n",
    "        \"\"\"\n",
    "        self.input_dimension = input_dimension\n",
    "        \n",
    "    def train(self, desc_set, label_set):\n",
    "        \"\"\" Permet d'entrainer le modele sur l'ensemble donné\n",
    "            desc_set: ndarray avec des descriptions\n",
    "            label_set: ndarray avec les labels correspondants\n",
    "            Hypothèse: desc_set et label_set ont le même nombre de lignes\n",
    "        \"\"\"        \n",
    "        raise NotImplementedError(\"Please Implement this method\")\n",
    "    \n",
    "    def score(self,x):\n",
    "        \"\"\" rend le score de prédiction sur x (valeur réelle)\n",
    "            x: une description\n",
    "        \"\"\"\n",
    "        raise NotImplementedError(\"Please Implement this method\")\n",
    "    \n",
    "    def predict(self, x):\n",
    "        \"\"\" rend la prediction sur x (soit -1 ou soit +1)\n",
    "            x: une description\n",
    "        \"\"\"\n",
    "        raise NotImplementedError(\"Please Implement this method\")\n",
    "        \n",
    "    def accuracy(self, desc_set, label_set):\n",
    "        \"\"\" Permet de calculer la qualité du système sur un dataset donné\n",
    "            desc_set: ndarray avec des descriptions\n",
    "            label_set: ndarray avec les labels correspondants\n",
    "            Hypothèse: desc_set et label_set ont le même nombre de lignes\n",
    "        \"\"\"\n",
    "        cpt=0\n",
    "        n = len(desc_set)\n",
    "        predict_label = []\n",
    "        for i in range(n):\n",
    "            predict_label.append(self.predict(desc_set[i]))\n",
    "        accuracy= np.mean(np.array(predict_label)==np.array(label_set))\n",
    "        return accuracy  "
   ]
  },
  {
   "cell_type": "code",
   "execution_count": 9,
   "metadata": {},
   "outputs": [],
   "source": [
    "class ClassifierKNN(Classifier):\n",
    "    \"\"\" Classe pour représenter un classifieur par K plus proches voisins.\n",
    "        Cette classe hérite de la classe Classifier\n",
    "    \"\"\"\n",
    "    def __init__(self, input_dimension, k):\n",
    "        \"\"\" Constructeur de Classifier\n",
    "            Argument:\n",
    "                - intput_dimension (int) : dimension d'entrée des exemples\n",
    "                - k (int) : nombre de voisins à considérer\n",
    "            Hypothèse : input_dimension > 0\n",
    "        \"\"\"\n",
    "        self.input_dimension = input_dimension\n",
    "        self.k = k\n",
    "        \n",
    "        \n",
    "    def score(self,x):\n",
    "        \"\"\" rend la proportion de +1 parmi les k ppv de x (valeur réelle)\n",
    "            x: une description : un ndarray\n",
    "        \"\"\"\n",
    "        #dist = [np.sqrt((x[0]-self.desc_set[i][0])**2+(x[1]-self.desc_set[i][1])**2) for i in range(len(self.desc_set))]\n",
    "        distances = [distance.euclidean(desc, x) for desc in self.desc_set]\n",
    "        top_k_indices = np.argsort(distances)[:self.k]\n",
    "        p = sum(1 for i in top_k_indices if self.label_set[i] == 1) / self.k\n",
    "        return 2 * (p - 0.5)\n",
    "\n",
    "    \n",
    "    def predict(self, x):\n",
    "        \"\"\" rend la prediction sur x (-1 ou +1)\n",
    "            x: une description : un ndarray\n",
    "        \"\"\"\n",
    "        if self.score(x) > 0:\n",
    "            return +1\n",
    "        else:\n",
    "            return -1 #on ne considère pas le cas score==0\n",
    "\n",
    "        \n",
    "    def train(self, desc_set, label_set):\n",
    "        \"\"\" Permet d'entrainer le modele sur l'ensemble donné\n",
    "            desc_set: ndarray avec des descriptions\n",
    "            label_set: ndarray avec les labels correspondants\n",
    "            Hypothèse: desc_set et label_set ont le même nombre de lignes\n",
    "        \"\"\"        \n",
    "        self.desc_set = desc_set\n",
    "        self.label_set = label_set"
   ]
  },
  {
   "cell_type": "code",
   "execution_count": 10,
   "metadata": {},
   "outputs": [],
   "source": [
    "class ClassifierPerceptron(Classifier):\n",
    "    \"\"\" Perceptron de Rosenblatt\n",
    "    \"\"\"\n",
    "    def __init__(self, input_dimension, learning_rate=0.01, init=True ):\n",
    "        \"\"\" Constructeur de Classifier\n",
    "            Argument:\n",
    "                - input_dimension (int) : dimension de la description des exemples (>0)\n",
    "                - learning_rate (par défaut 0.01): epsilon\n",
    "                - init est le mode d'initialisation de w: \n",
    "                    - si True (par défaut): initialisation à 0 de w,\n",
    "                    - si False : initialisation par tirage aléatoire de valeurs petites\n",
    "        \"\"\"\n",
    "        self.input_dimension = input_dimension\n",
    "        self.learning_rate = learning_rate\n",
    "        if init:\n",
    "            self.w = np.zeros(self.input_dimension)\n",
    "        else:\n",
    "            self.w = np.asarray([(2*(np.random.uniform(0,1)) - 1)*0.0001 for i in range(input_dimension)])\n",
    "        self.allw =[self.w.copy()]\n",
    "        \n",
    "        \n",
    "    def train_step(self, desc_set, label_set):\n",
    "        \"\"\" Réalise une unique itération sur tous les exemples du dataset\n",
    "            donné en prenant les exemples aléatoirement.\n",
    "            Arguments:\n",
    "                - desc_set: ndarray avec des descriptions\n",
    "                - label_set: ndarray avec les labels correspondants\n",
    "        \"\"\"        \n",
    "        desc_set2, label_set2 = shuffle(desc_set, label_set)\n",
    "        for xi,yi in zip(desc_set2, label_set2):\n",
    "            if self.predict(xi) != yi:\n",
    "                self.w = self.w + self.learning_rate*yi*xi\n",
    "                self.allw.append(self.w.copy())\n",
    "                \n",
    "\n",
    "    def train(self, desc_set, label_set, nb_max=100, seuil=0.001):\n",
    "        \"\"\" Apprentissage itératif du perceptron sur le dataset donné.\n",
    "            Arguments:\n",
    "                - desc_set: ndarray avec des descriptions\n",
    "                - label_set: ndarray avec les labels correspondants\n",
    "                - nb_max (par défaut: 100) : nombre d'itérations maximale\n",
    "                - seuil (par défaut: 0.001) : seuil de convergence\n",
    "            Retour: la fonction rend une liste\n",
    "                - liste des valeurs de norme de différences\n",
    "        \"\"\"\n",
    "        liste_difference=[]\n",
    "        for i in range(nb_max):\n",
    "            w_avant = self.w.copy()\n",
    "            self.train_step(desc_set,label_set)\n",
    "            difference = np.abs(self.w - w_avant)\n",
    "            change = np.linalg.norm(difference)\n",
    "            liste_difference.append(change)\n",
    "            if change <= seuil:\n",
    "                break\n",
    "        return liste_difference\n",
    "        \n",
    "        \n",
    "    def get_allw(self):\n",
    "        return self.allw\n",
    "            \n",
    "        \n",
    "    def score(self,x):\n",
    "        \"\"\" rend le score de prédiction sur x (valeur réelle)\n",
    "            x: une description\n",
    "        \"\"\"\n",
    "        return np.vdot(x,self.w)\n",
    "    \n",
    "    \n",
    "    def predict(self, x):\n",
    "        \"\"\" rend la prediction sur x (soit -1 ou soit +1)\n",
    "            x: une description\n",
    "        \"\"\"\n",
    "        return 1 if self.score(x) > 0 else -1"
   ]
  },
  {
   "cell_type": "code",
   "execution_count": 11,
   "metadata": {},
   "outputs": [],
   "source": [
    "class ClassifierPerceptronBiais(ClassifierPerceptron):\n",
    "    \"\"\" Perceptron de Rosenblatt avec biais\n",
    "        Variante du perceptron de base\n",
    "    \"\"\"\n",
    "    def __init__(self, input_dimension, learning_rate=0.01, init=True):\n",
    "        \"\"\" Constructeur de Classifier\n",
    "            Argument:\n",
    "                - input_dimension (int) : dimension de la description des exemples (>0)\n",
    "                - learning_rate (par défaut 0.01): epsilon\n",
    "                - init est le mode d'initialisation de w: \n",
    "                    - si True (par défaut): initialisation à 0 de w,\n",
    "                    - si False : initialisation par tirage aléatoire de valeurs petites\n",
    "        \"\"\"\n",
    "        super().__init__(input_dimension, learning_rate, init)\n",
    "        \n",
    "        \n",
    "    def train_step(self, desc_set, label_set):\n",
    "        \"\"\" Réalise une unique itération sur tous les exemples du dataset\n",
    "            donné en prenant les exemples aléatoirement.\n",
    "            Arguments:\n",
    "                - desc_set: ndarray avec des descriptions\n",
    "                - label_set: ndarray avec les labels correspondants\n",
    "        \"\"\"   \n",
    "        n =  len(desc_set)       \n",
    "        indexes =[i for i in range(n)]\n",
    "        np.random.shuffle(indexes)\n",
    "        desc_set2 = desc_set[indexes]\n",
    "        label_set2 = label_set[indexes]\n",
    "        for xi,yi in zip(desc_set2, label_set2):\n",
    "            if self.score(xi)*yi <= 1:\n",
    "                self.w = self.w + self.learning_rate*(yi - self.score(xi))*xi\n",
    "                self.allw.append(self.w.copy())     "
   ]
  },
  {
   "cell_type": "markdown",
   "metadata": {},
   "source": [
    "### Train-test split et validation croisée"
   ]
  },
  {
   "cell_type": "code",
   "execution_count": 12,
   "metadata": {},
   "outputs": [],
   "source": [
    "def genere_train_test(desc_set, label_set, n_pos, n_neg):\n",
    "    \"\"\" permet de générer une base d'apprentissage et une base de test\n",
    "        desc_set: ndarray avec des descriptions\n",
    "        label_set: ndarray avec les labels correspondants\n",
    "        n_pos: nombre d'exemples de label +1 à mettre dans la base d'apprentissage\n",
    "        n_neg: nombre d'exemples de label -1 à mettre dans la base d'apprentissage\n",
    "        Hypothèses: \n",
    "           - desc_set et label_set ont le même nombre de lignes)\n",
    "           - n_pos et n_neg, ainsi que leur somme, sont inférieurs à n (le nombre d'exemples dans desc_set)\n",
    "    \"\"\"    \n",
    "    label_set_pos = label_set[label_set == +1]\n",
    "    label_set_neg = label_set[label_set == -1]\n",
    "    desc_set_pos = desc_set[label_set == + 1]\n",
    "    desc_set_neg = desc_set[label_set == -1]\n",
    "    \n",
    "    ind_positif = random.sample([i for i in range(0,label_set_pos.shape[0])],len(label_set_pos))\n",
    "    ind_negatif = random.sample([i for i in range(0,label_set_neg.shape[0])],len(label_set_neg))\n",
    "    \n",
    "    desc_set_pos = desc_set_pos[ind_positif]\n",
    "    desc_set_neg = desc_set_neg[ind_negatif]\n",
    "    \n",
    "    label_set_pos = label_set_pos[ind_positif]\n",
    "    label_set_neg = label_set_neg[ind_negatif]\n",
    "    \n",
    "    train_desc = np.concatenate((desc_set_pos[:n_pos],  desc_set_neg[:n_neg]),axis=0)\n",
    "    train_label = np.concatenate((label_set_pos[:n_pos], label_set_neg[:n_neg]),axis=0) \n",
    "    test_desc =  np.concatenate((desc_set_pos[n_pos:], desc_set_neg[n_neg:]),axis=0)\n",
    "    test_label = np.concatenate((label_set_pos[n_pos:], label_set_neg[n_neg:]),axis=0)\n",
    "\n",
    "    return (train_desc, train_label), (test_desc, test_label)"
   ]
  },
  {
   "cell_type": "code",
   "execution_count": 13,
   "metadata": {},
   "outputs": [],
   "source": [
    "def crossval_strat(X, Y, n_iterations, iteration):\n",
    "    index_pos = [ i for i in range(len(Y)) if Y[i]==1]\n",
    "    index_neg = [ i for i in range(len(Y)) if Y[i]== -1]\n",
    "\n",
    "    index_pos_test = index_pos[iteration*(len(index_pos) // n_iterations ): (iteration+1)*(len(index_pos) // n_iterations) ]\n",
    "    index_neg_test = index_neg[iteration*(len(index_neg) // n_iterations ): (iteration+1)*(len(index_neg) // n_iterations) ]\n",
    "    \n",
    "    Xtest = np.concatenate(( X[index_neg_test] , X[index_pos_test]  ))\n",
    "    Ytest =  np.concatenate(( Y[index_neg_test] , Y[index_pos_test] ))\n",
    "    \n",
    "    index_app = [i for i in range(len(Y)) if ((i not in index_pos_test) and (i not in index_neg_test) )]\n",
    "\n",
    "    Xapp =  X[index_app]\n",
    "    Yapp =  Y[index_app]\n",
    "    return Xapp, Yapp, Xtest, Ytest"
   ]
  },
  {
   "cell_type": "code",
   "execution_count": 14,
   "metadata": {},
   "outputs": [],
   "source": [
    "def analyse_perfs(L):\n",
    "    \"\"\" L : liste de nombres réels non vide\n",
    "        rend le tuple (moyenne, écart-type)\n",
    "    \"\"\"\n",
    "    return (np.mean(L),np.std(L))"
   ]
  },
  {
   "cell_type": "code",
   "execution_count": 15,
   "metadata": {},
   "outputs": [],
   "source": [
    "def validation_croisee_knn(niter, X, Y, dims, k):   \n",
    "    index = np.random.permutation(X.shape[0]) # mélange des index\n",
    "    X_melange = X[index]\n",
    "    Y_melange = Y[index]\n",
    "    perf = []\n",
    "    for i in range(niter):\n",
    "        Xapp,Yapp,Xtest,Ytest = crossval_strat(X_melange, Y_melange, niter, i)\n",
    "        knn = ClassifierKNN(dims,k)\n",
    "        knn.train(Xapp, Yapp)\n",
    "        perf.append(knn.accuracy(Xtest, Ytest))\n",
    "    return perf, analyse_perfs(perf)"
   ]
  },
  {
   "cell_type": "markdown",
   "metadata": {},
   "source": [
    "## CLASSIFIEUR KNN"
   ]
  },
  {
   "cell_type": "markdown",
   "metadata": {},
   "source": [
    "### Données 2D"
   ]
  },
  {
   "cell_type": "code",
   "execution_count": null,
   "metadata": {},
   "outputs": [],
   "source": []
  },
  {
   "cell_type": "markdown",
   "metadata": {},
   "source": [
    "#### Estimation d'une bonne valeur de k\n",
    "On teste ci-dessous de différentes valeurs de k.  À partir de k=5 le modèle est assez fiable.  À partir de k=23 on n'a pas du tout intérêt à augmenter la valeur de k, car la fiabilité du modèle diminue."
   ]
  },
  {
   "cell_type": "code",
   "execution_count": 16,
   "metadata": {},
   "outputs": [],
   "source": [
    "#Parametres...à modifier\n",
    "pourcentage_train = 0.7\n",
    "k_max = 30  #max value de k à tester"
   ]
  },
  {
   "cell_type": "code",
   "execution_count": 17,
   "metadata": {},
   "outputs": [],
   "source": [
    "#Code de génération du test-train split...pas à modifier\n",
    "npos_total = Y2D[Y2D == +1].shape[0]\n",
    "nneg_total = Y2D[Y2D == -1].shape[0]\n",
    "\n",
    "npos_train = int(npos_total * pourcentage_train)\n",
    "nneg_train = int(nneg_total * pourcentage_train)\n",
    "\n",
    "(X_train, y_train), (X_test, y_test) = genere_train_test(X2D, Y2D, npos_train, nneg_train)\n"
   ]
  },
  {
   "cell_type": "code",
   "execution_count": 18,
   "metadata": {},
   "outputs": [
    {
     "data": {
      "text/plain": [
       "Text(0, 0.5, 'Accuracy')"
      ]
     },
     "execution_count": 18,
     "metadata": {},
     "output_type": "execute_result"
    },
    {
     "data": {
      "image/png": "[encoded data removed]",
      "text/plain": [
       "<Figure size 1000x600 with 1 Axes>"
      ]
     },
     "metadata": {},
     "output_type": "display_data"
    }
   ],
   "source": [
    "accuracies = []\n",
    "\n",
    "for k in range(1,k_max+1):\n",
    "    knn = ClassifierKNN(2,k)\n",
    "    knn.train(X_train, y_train)\n",
    "    acc = knn.accuracy(X_test, y_test)\n",
    "    accuracies.append(acc)\n",
    "    \n",
    "plt.figure(figsize=(10,6))\n",
    "plt.plot(range(1,k_max+1),accuracies,color='blue', linestyle='dashed', marker='o',\n",
    "         markerfacecolor='red', markersize=10)\n",
    "plt.title('Accuracy vs. Valeur de k')\n",
    "plt.xlabel('k')\n",
    "plt.ylabel('Accuracy')"
   ]
  },
  {
   "cell_type": "markdown",
   "metadata": {},
   "source": [
    "#### Cross-validation\n",
    "de k = 5, k=10"
   ]
  },
  {
   "cell_type": "code",
   "execution_count": 19,
   "metadata": {},
   "outputs": [],
   "source": [
    "k=5\n",
    "niter = 10\n",
    "\n",
    "index = np.random.permutation(X2D.shape[0]) # mélange des index\n",
    "X2D_melange = X2D[index]\n",
    "Y2D_melange = Y2D[index]\n",
    "perf_5 = []\n",
    "for i in range(niter):\n",
    "    Xapp,Yapp,Xtest,Ytest = crossval_strat(X2D_melange, Y2D_melange, niter, i)\n",
    "    knn = ClassifierKNN(2,k)\n",
    "    knn.train(Xapp, Yapp)\n",
    "    perf_5.append(knn.accuracy(Xtest, Ytest))"
   ]
  },
  {
   "cell_type": "code",
   "execution_count": 20,
   "metadata": {},
   "outputs": [
    {
     "data": {
      "text/plain": [
       "[0.92, 0.88, 0.915, 0.93, 0.915, 0.9, 0.91, 0.94, 0.915, 0.9]"
      ]
     },
     "execution_count": 20,
     "metadata": {},
     "output_type": "execute_result"
    }
   ],
   "source": [
    "#def validation_croisee_knn(niter, X, Y, dims, k):   \n",
    "\n",
    "perf, (moy,ecart_type) = validation_croisee_knn(10, X2D, Y2D, 2, 5)\n",
    "perf"
   ]
  },
  {
   "cell_type": "code",
   "execution_count": 21,
   "metadata": {},
   "outputs": [],
   "source": [
    "k=10\n",
    "niter=10\n",
    "\n",
    "index = index = np.random.permutation(X2D.shape[0])\n",
    "X2D_melange = X2D[index]\n",
    "Y2D_melange = Y2D[index]\n",
    "perf_10 = []\n",
    "for i in range(niter):\n",
    "    Xapp,Yapp,Xtest,Ytest = crossval_strat(X2D_melange, Y2D_melange, niter, i)\n",
    "    knn = ClassifierKNN(2,k)\n",
    "    knn.train(Xapp, Yapp)\n",
    "    perf_10.append(knn.accuracy(Xtest, Ytest)) \n"
   ]
  },
  {
   "cell_type": "code",
   "execution_count": 22,
   "metadata": {},
   "outputs": [
    {
     "data": {
      "text/plain": [
       "[<matplotlib.lines.Line2D at 0x7f8d9e64e670>]"
      ]
     },
     "execution_count": 22,
     "metadata": {},
     "output_type": "execute_result"
    },
    {
     "data": {
      "image/png": "[encoded data removed]",
      "text/plain": [
       "<Figure size 640x480 with 2 Axes>"
      ]
     },
     "metadata": {},
     "output_type": "display_data"
    }
   ],
   "source": [
    "fig, ax = plt.subplots(2,1)\n",
    "ax[0].plot(range(0,3),[1,2,-1])\n",
    "ax[1].plot(range(0,4),[1,2,3,0])"
   ]
  },
  {
   "cell_type": "code",
   "execution_count": 27,
   "metadata": {},
   "outputs": [],
   "source": [
    "perfs = []\n",
    "moyennes = []\n",
    "ecart_types = []\n",
    "for i in range(5,21):\n",
    "    perf, (moy,ecart_type) = validation_croisee_knn(10, X2D, Y2D, 2, i)\n",
    "    perfs.append(perf)\n",
    "    moyennes.append(moy)\n",
    "    ecart_types.append(ecart_type)\n",
    "    \n",
    "\n",
    "\n",
    "    "
   ]
  },
  {
   "cell_type": "code",
   "execution_count": 28,
   "metadata": {},
   "outputs": [
    {
     "data": {
      "text/plain": [
       "Text(0, 0.5, 'écart type')"
      ]
     },
     "execution_count": 28,
     "metadata": {},
     "output_type": "execute_result"
    },
    {
     "data": {
      "image/png": "[encoded data removed]",
      "text/plain": [
       "<Figure size 640x480 with 2 Axes>"
      ]
     },
     "metadata": {},
     "output_type": "display_data"
    }
   ],
   "source": [
    "fig, ax = plt.subplots(2,1)\n",
    "\n",
    "ax[0].plot(range(5,21),moyennes,color='blue', linestyle='dashed', marker='o',\n",
    "         markerfacecolor='red', markersize=10)\n",
    "ax[0].set_xlabel('k')\n",
    "ax[0].set_ylabel('moyenne')\n",
    "ax[1].plot(range(5,21),ecart_types,color='blue', linestyle='dashed', marker='o',\n",
    "         markerfacecolor='red', markersize=10)\n",
    "ax[1].set_xlabel('k')\n",
    "ax[1].set_ylabel('écart type')\n",
    "    "
   ]
  },
  {
   "cell_type": "code",
   "execution_count": null,
   "metadata": {},
   "outputs": [],
   "source": [
    "# on stocke les accuracies dans une liste :\n",
    "\n",
    "accuracies = []\n",
    "X2D_test = X2D[0:10]\n",
    "Y2D_test = Y2D[0:10]\n",
    "\n",
    "# seuil max des valeurs de k à regarder:\n",
    "seuil_k = 1\n",
    "# toutes les valeurs de k à regarder:\n",
    "valeurs_k = [k for k in range(1,seuil_k,2)]\n",
    "\n",
    "# ------------------------ A COMPLETER \n",
    "\n",
    "for i in valeurs_k:\n",
    "    un_KNN3 = ClassifierKNN(2,i)\n",
    "    un_KNN3.train(X2D,Y2D)\n",
    "    accuracies.append(un_KNN3.accuracy(X2D,Y2D))\n",
    "\n",
    "# ---------------------------------------------\n",
    "for i in range(0,len(valeurs_k)):\n",
    "    print(\"Accuracy pour \",valeurs_k[i],\":\",accuracies[i])\n"
   ]
  },
  {
   "cell_type": "markdown",
   "metadata": {},
   "source": [
    "### Données 5D"
   ]
  },
  {
   "cell_type": "code",
   "execution_count": null,
   "metadata": {},
   "outputs": [],
   "source": [
    "#Parametres...à modifier\n",
    "pourcentage_train = 0.7\n",
    "k_max = 10  #max value de k à tester"
   ]
  },
  {
   "cell_type": "code",
   "execution_count": null,
   "metadata": {},
   "outputs": [],
   "source": [
    "#Code de génération du test-train split...pas à modifier\n",
    "npos_total = Y5D[Y5D == +1].shape[0]\n",
    "nneg_total = Y5D[Y5D == -1].shape[0]\n",
    "\n",
    "npos_train = int(npos_total * pourcentage_train)\n",
    "nneg_train = int(nneg_total * pourcentage_train)\n",
    "\n",
    "(X_train, y_train), (X_test, y_test) = genere_train_test(X5D, Y5D, npos_train, nneg_train)"
   ]
  },
  {
   "cell_type": "code",
   "execution_count": null,
   "metadata": {},
   "outputs": [],
   "source": [
    "accuracies = []\n",
    "\n",
    "for k in range(1,k_max+1):\n",
    "    knn = ClassifierKNN(5,k)\n",
    "    knn.train(X_train, y_train)\n",
    "    acc = knn.accuracy(X_test, y_test)\n",
    "    accuracies.append(acc)\n",
    "    \n",
    "plt.figure(figsize=(10,6))\n",
    "plt.plot(range(1,k_max+1),accuracies,color='blue', linestyle='dashed', marker='o',\n",
    "         markerfacecolor='red', markersize=10)\n",
    "plt.title('Accuracy vs. Valeur de k')\n",
    "plt.xlabel('k')\n",
    "plt.ylabel('Accuracy')"
   ]
  },
  {
   "cell_type": "code",
   "execution_count": null,
   "metadata": {},
   "outputs": [],
   "source": []
  },
  {
   "cell_type": "markdown",
   "metadata": {},
   "source": [
    "## Perceptron : \n",
    "## Données 2D "
   ]
  },
  {
   "cell_type": "code",
   "execution_count": null,
   "metadata": {},
   "outputs": [],
   "source": [
    "#Code de génération du test-train split...pas à modifier\n",
    "npos_total = Y2D[Y2D == +1].shape[0]\n",
    "nneg_total = Y2D[Y2D == -1].shape[0]\n",
    "\n",
    "npos_train = int(npos_total * pourcentage_train)\n",
    "nneg_train = int(nneg_total * pourcentage_train)\n",
    "\n",
    "(X_train, y_train), (X_test, y_test) = genere_train_test(X2D, Y2D, npos_train, nneg_train)\n"
   ]
  },
  {
   "cell_type": "code",
   "execution_count": null,
   "metadata": {},
   "outputs": [],
   "source": []
  },
  {
   "cell_type": "code",
   "execution_count": null,
   "metadata": {},
   "outputs": [],
   "source": []
  },
  {
   "cell_type": "code",
   "execution_count": null,
   "metadata": {},
   "outputs": [],
   "source": [
    "class ClassifierPerceptronBiais(classif.ClassifierPerceptron):\n",
    "    \"\"\" Perceptron de Rosenblatt avec biais\n",
    "        Variante du perceptron de base\n",
    "    \"\"\"\n",
    "    def __init__(self, input_dimension, learning_rate=0.01, init=True):\n",
    "        \"\"\" Constructeur de Classifier\n",
    "            Argument:\n",
    "                - input_dimension (int) : dimension de la description des exemples (>0)\n",
    "                - learning_rate (par défaut 0.01): epsilon\n",
    "                - init est le mode d'initialisation de w: \n",
    "                    - si True (par défaut): initialisation à 0 de w,\n",
    "                    - si False : initialisation par tirage aléatoire de valeurs petites\n",
    "        \"\"\"\n",
    "        # Appel du constructeur de la classe mère\n",
    "        super().__init__(input_dimension, learning_rate, init)\n",
    "        # Affichage pour information (décommentez pour la mise au point)\n",
    "        # print(\"Init perceptron biais: w= \",self.w,\" learning rate= \",learning_rate)\n",
    "        \n",
    "    def train_step(self, desc_set, label_set):\n",
    "        \"\"\" Réalise une unique itération sur tous les exemples du dataset\n",
    "            donné en prenant les exemples aléatoirement.\n",
    "            Arguments:\n",
    "                - desc_set: ndarray avec des descriptions\n",
    "                - label_set: ndarray avec les labels correspondants\n",
    "        \"\"\"   \n",
    "        \n",
    "        #desc_set2, label_set2 = shuffle(desc_set, label_set)\n",
    "        n =  len(desc_set)       \n",
    "        indexes =[i for i in range(n)]\n",
    "        np.random.shuffle(indexes)\n",
    "        desc_set2 = desc_set[indexes]\n",
    "        label_set2 = label_set[indexes]\n",
    "        for xi,yi in zip(desc_set2, label_set2):\n",
    "            if self.score(xi)*yi <= 1:\n",
    "                self.w = self.w + self.learning_rate*(yi - self.score(xi))*xi\n",
    "                self.allw.append(self.w.copy())"
   ]
  }
 ],
 "metadata": {
  "kernelspec": {
   "display_name": "Python 3 (ipykernel)",
   "language": "python",
   "name": "python3"
  },
  "language_info": {
   "codemirror_mode": {
    "name": "ipython",
    "version": 3
   },
   "file_extension": ".py",
   "mimetype": "text/x-python",
   "name": "python",
   "nbconvert_exporter": "python",
   "pygments_lexer": "ipython3",
   "version": "3.9.13"
  }
 },
 "nbformat": 4,
 "nbformat_minor": 1
}
