{
 "cells": [
  {
   "attachments": {},
   "cell_type": "markdown",
   "metadata": {},
   "source": [
    "IA & Data science (LU3IN0226) -- 2022-2023\n",
    "--------\n",
    "*&copy; Equipe pédagogique: Christophe Marsala, Olivier Schwander, Jean-Noël Vittaut.*"
   ]
  },
  {
   "attachments": {},
   "cell_type": "markdown",
   "metadata": {},
   "source": [
    "<font size=\"+1\" color=\"RED\"><b>[Q]</b></font> <font size=\"+1\"><b>Indiquer dans la boîte ci-dessous vos noms et prénoms :</b></font>"
   ]
  },
  {
   "attachments": {},
   "cell_type": "markdown",
   "metadata": {},
   "source": [
    "Neil BENAHMED\n",
    "\n",
    "Paul JARSKI"
   ]
  },
  {
   "attachments": {},
   "cell_type": "markdown",
   "metadata": {},
   "source": [
    "Ce projet peut être fait en binôme (et c'est fortement conseillé) ou tout seul.\n",
    "\n",
    "Le nom de chaque membre du binôme doit être indiqué, et un seul rendu sur un des deux comptes Moodle doit être fait.\n",
    "\n",
    "Les groupes de plus de 2 personnes ne sont pas autorisés."
   ]
  },
  {
   "attachments": {},
   "cell_type": "markdown",
   "metadata": {},
   "source": [
    "<font color=\"RED\" size=\"+1\"><b>[Q]</b></font> **Renommer ce fichier ipython**\n",
    "\n",
    "Tout en haut de cette page, cliquer sur <tt>projet-2</tt> et rajouter à la suite de <tt>projet-2</tt> les noms des membres du binômes séparés par un tiret.\n",
    "\n",
    "<font color=\"RED\" size=\"+1\">IMPORTANT: soumission de votre fichier final</font>\n",
    "\n",
    "**Nom à donner au notebook** : *projet-2-Nom1_Nom2.ipynb* \n",
    "- *Nom1* et *Nom2* : noms des membres du binôme\n",
    "\n",
    "**Le compte-rendu doit être rendu sur la page Moodle.**"
   ]
  },
  {
   "attachments": {},
   "cell_type": "markdown",
   "metadata": {},
   "source": [
    "# Projet 2 - avril-mai 2023\n",
    "\n",
    "\n",
    "<font size=\"+1\" color=\"RED\"><b>Date de rendu : lundi 22 mai 2023, avant 18h</b></font>\n",
    "    \n",
    "<b>Attention! le site Moodle ferme à 18h pile !</b> prévoyez de vous y connecter au moins 15mn avant la fermeture...\n",
    "\n",
    "Vous devez compléter ce notebook en rajoutant vos expérimentations avec vos algorithmes d'apprentissage sur les données fournies dans le répertoire `data`.\n",
    "\n",
    "## Travail à faire\n",
    "\n",
    "Appliquer les algorithmes d'apprentissage vus tout au long du semestre sur les données afin de mettre en évidence des résultats intéressants.\n",
    "Deux problèmes, au moins, doivent être traités:\n",
    "- un problème d'apprentissage supervisé\n",
    "- un problème d'apprentissage non supervisé\n",
    "\n",
    "\n",
    "## Travail à rendre\n",
    "Ce qui doit être remis avant la date limite : un fichier archive (`.tar`, `.tgz`, ou `.zip` uniquement) contenant:\n",
    "- ce notebook complété. Il doit pouvoir être exécuté sans autre apport (pensez à vous en assurer avant de le rendre). \n",
    "- votre librairie iads sous la forme d'une archive avec votre répertoire `iads/` contenant tous les fichiers nécessaires \n",
    "- un fichier PDF dont le nom est de la forme: *projet-1-Nom1_Nom2.pdf* qui correspond à un poster décrivant l'ensemble des expérimentations menées et les résultats obtenus.\n",
    "\n",
    "\n",
    "<b>IMPORTANT</b>: \n",
    "- Les fichiers de données ne doivent pas être inclus dans votre archive ! \n",
    "- Pensez à vérifier que votre archive contient bien tous les fichiers demandés et QUE les fichiers demandés.\n",
    "\n",
    "## Soutenance des projets\n",
    "La soutenance aura lieu le <font size=\"+1\" color=\"RED\">**mercredi 24 mai 2023**</font>, à partir de 14h. Un ordre de passage ainsi que la salle de TME où aura lieu les soutenances seront affichées sur le Moodle la veille.\n",
    "\n",
    "La <b>soutenance est obligatoire</b> : tout projet pour lequel une soutenance n'a pas eu lieu sera noté $0$.\n",
    "\n",
    "Modalités de la soutenance:\n",
    "- durée de la soutenance : 10 mn pour un binôme, 7 mn pour un monôme ;\n",
    "- elle a lieu devant un ordinateur avec le notebook et le poster comme support ;\n",
    "    - elle commence par une rapide présentation des expérimentations réalisées et résultats obtenus (max. 4 à 5mns)\n",
    "    - puis elle se poursuit par des questions posées individuellement aux membres du binômes sur les expériences ou le code python réalisé.\n",
    "- la note de soutenance est individuelle pour chaque membre d'un binôme.\n",
    "\n",
    "\n"
   ]
  },
  {
   "attachments": {},
   "cell_type": "markdown",
   "metadata": {},
   "source": [
    "**Très important** : les fichiers de données doivent être placés de façon à respecter la structure de fichiers suivante :\n",
    "\n",
    "          --iads/\n",
    "              -- Classifiers.py\n",
    "              -- etc.\n",
    "          -- projet/\n",
    "              -- ce_notebook.ipynb\n",
    "              -- data/\n",
    "                  -- AGRIBALYSE3-ingredients.csv\n",
    "                  -- AGRIBALYSE3-etapes.csv\n",
    "                  -- AGRIBALYSE3-synthese.csv\n",
    "\n",
    "\n",
    "Dans le notebook que vous rendrez, le chargement des fichiers de données considèrera donc cette arborescence.\n"
   ]
  },
  {
   "attachments": {},
   "cell_type": "markdown",
   "metadata": {},
   "source": [
    "# Les données Agribalyse (version 3.1)\n",
    "\n",
    "Les données sont issues des données publiques du site de l'ADEME: https://agribalyse.ademe.fr/\n",
    "Il est conseillé de parcourir la documentation de ces données sur le site ci-dessus pour se familiariser avec les différentes informations qu'elles fournissent.\n",
    "\n",
    "Pour ce projet, vous travaillerez sur les données sur les produits alimentaires dont la version originale est visible ici : https://doc.agribalyse.fr/documentation/acces-donnees\n",
    "\n",
    "Si vous n'arrivez pas à télécharger ou à ouvrir ce fichier, des versions de ce fichier au format libreoffice et au format Excel 97 sont fournies dans l'archive `data_tableur`. Il est conseillé de regarder un de ces fichiers car vous y trouverez des informations complémentaires sur les noms des colonnes des 3 fichiers CSV de `data` décrits ci-dessous.\n",
    "\n",
    "Pour vous aider à manipuler les données nous vous fournissons dans l'archive `data` : les 3 tables du fichiers sont fournies sous la forme de 3 fichiers CSV directement lisibles par la commande `read_csv` de Pandas (le séparateur de colonnes est le `';'`). Ce sont ces 3 fichiers à utiliser dans votre notebook. Un exemple de chargement est donné plus loin dans ce notebook. Les fichiers sont:\n",
    "- AGRIBALYSE3-ingredients.csv\n",
    "- AGRIBALYSE3-etapes.csv\n",
    "- AGRIBALYSE3-synthese.csv\n",
    "\n",
    "**Remarque**: les données Agribalyse de 2021 ont fait l'objet du projet de l'an dernier, cette année c'est une nouvelle version étendue de ces données qui sont utilisées pour ce projet, nous attendons donc des analyses qui tirent partie des nouveautés de cette nouvelle version."
   ]
  },
  {
   "attachments": {},
   "cell_type": "markdown",
   "metadata": {},
   "source": [
    "## Exemples"
   ]
  },
  {
   "cell_type": "code",
   "execution_count": 174,
   "metadata": {},
   "outputs": [
    {
     "name": "stdout",
     "output_type": "stream",
     "text": [
      "The autoreload extension is already loaded. To reload it, use:\n",
      "  %reload_ext autoreload\n"
     ]
    }
   ],
   "source": [
    "# Importation des librairies standards:\n",
    "import numpy as np\n",
    "import pandas as pd\n",
    "import matplotlib.pyplot as plt\n",
    "%matplotlib inline  \n",
    "\n",
    "# Importation de votre librairie iads:\n",
    "# La ligne suivante permet de préciser le chemin d'accès à la librairie iads\n",
    "import sys\n",
    "sys.path.append('../')   # iads doit être dans le répertoire frère du répertoire courant !\n",
    "\n",
    "# Importation de la librairie iads\n",
    "import iads as iads\n",
    "\n",
    "# importation de Classifiers\n",
    "from iads import Classifiers as cl\n",
    "\n",
    "# importation de utils\n",
    "from iads import utils as ut\n",
    "\n",
    "# importation de evaluation\n",
    "from iads import evaluation as ev\n",
    "\n",
    "# importation de Clustering\n",
    "from iads import Clustering as clust\n",
    "\n",
    "# commande TRES utile pour recharger automatiquement le code que vous modifiez dans les modules\n",
    "%load_ext autoreload\n",
    "%autoreload 2"
   ]
  },
  {
   "cell_type": "code",
   "execution_count": 175,
   "metadata": {},
   "outputs": [
    {
     "name": "stdout",
     "output_type": "stream",
     "text": [
      "Nombre de lignes:  2517\n",
      "Nombre de colonnes:  29\n"
     ]
    }
   ],
   "source": [
    "data_synthese = pd.read_csv(\"data/AGRIBALYSE3-synthese.csv\", sep=';') \n",
    "data_synthese.columns\n",
    "print(\"Nombre de lignes: \",len(data_synthese))\n",
    "print(\"Nombre de colonnes: \",len(data_synthese.columns))"
   ]
  },
  {
   "cell_type": "code",
   "execution_count": 176,
   "metadata": {},
   "outputs": [
    {
     "name": "stdout",
     "output_type": "stream",
     "text": [
      "col  0 :  Code AGB\n",
      "col  1 :  Code CIQUAL\n",
      "col  2 :  Groupe d'aliment\n",
      "col  3 :  Sous-groupe d'aliment\n",
      "col  4 :  Nom du Produit en Français\n",
      "col  5 :  LCI Name\n",
      "col  6 :  code saison\n",
      "col  7 :  code avion\n",
      "col  8 :  Livraison\n",
      "col  9 :  Matériau d'emballage\n",
      "col  10 :  Préparation\n",
      "col  11 :  DQR \tmoyenne =  2.7681644815256274\n",
      "col  12 :  Score unique EF 3.1 \tmoyenne =  0.6889596344855025\n",
      "col  13 :  Changement climatique \tmoyenne =  5.420519666269371\n",
      "col  14 :  Appauvrissement de la couche d'ozone \tmoyenne =  5.383361620977347e-07\n",
      "col  15 :  Rayonnements ionisants \tmoyenne =  1.0168216924910598\n",
      "col  16 :  Formation photochimique d'ozone \tmoyenne =  0.0216259181565355\n",
      "col  17 :  Particules fines \tmoyenne =  5.735583075089373e-07\n",
      "col  18 :  Effets toxicologiques sur la santé humaine : substances non-cancérogènes \tmoyenne =  1.0743762415574125e-07\n",
      "col  19 :  Effets toxicologiques sur la santé humaine : substances cancérogènes \tmoyenne =  3.885454350417177e-09\n",
      "col  20 :  Acidification terrestre et eaux douces \tmoyenne =  0.07895298053237951\n",
      "col  21 :  Eutrophisation eaux douces \tmoyenne =  0.0008419094557012315\n",
      "col  22 :  Eutrophisation marine \tmoyenne =  0.02819352800953516\n",
      "col  23 :  Eutrophisation terrestre \tmoyenne =  0.31052913388955117\n",
      "col  24 :  Écotoxicité pour écosystèmes aquatiques d'eau douce \tmoyenne =  54.213323798172524\n",
      "col  25 :  Utilisation du sol \tmoyenne =  328.5981263408829\n",
      "col  26 :  Épuisement des ressources eau \tmoyenne =  5.726230393325388\n",
      "col  27 :  Épuisement des ressources énergétiques \tmoyenne =  49.799157727453334\n",
      "col  28 :  Épuisement des ressources minéraux \tmoyenne =  2.201983392928089e-05\n"
     ]
    }
   ],
   "source": [
    "for i in range(0,len(data_synthese.columns)):\n",
    "    if i>10:\n",
    "        print(\"col \",i,\": \",data_synthese.columns[i], \"\\tmoyenne = \",data_synthese[data_synthese.columns[i]].mean())\n",
    "    else:\n",
    "        print(\"col \",i,\": \",data_synthese.columns[i])"
   ]
  },
  {
   "cell_type": "code",
   "execution_count": 177,
   "metadata": {},
   "outputs": [
    {
     "name": "stdout",
     "output_type": "stream",
     "text": [
      "Nombre de lignes:  2517\n",
      "Nombre de colonnes:  132\n"
     ]
    }
   ],
   "source": [
    "data_etapes = pd.read_csv(\"data/AGRIBALYSE3-etapes.csv\", sep=';') \n",
    "data_etapes.columns\n",
    "print(\"Nombre de lignes: \",len(data_etapes))\n",
    "print(\"Nombre de colonnes: \",len(data_etapes.columns))"
   ]
  },
  {
   "cell_type": "code",
   "execution_count": 178,
   "metadata": {
    "scrolled": false
   },
   "outputs": [
    {
     "name": "stdout",
     "output_type": "stream",
     "text": [
      "col  0 :  Code AGB\n",
      "col  1 :  Code CIQUAL\n",
      "col  2 :  Groupe d aliment\n",
      "col  3 :  Sous-groupe d aliment\n",
      "col  4 :  Nom du Produit en Français\n",
      "col  5 :  LCI Name\n",
      "col  6 :  DQR\n",
      "col  7 :  Nom et code\n",
      "col  8 :  Agriculture\n",
      "col  9 :  Transformation\n",
      "col  10 :  Emballage\n",
      "col  11 :  Transport\n",
      "col  12 :  Supermarché et distribution\n",
      "col  13 :  Consommation\n",
      "col  14 :  Total\n",
      "col  15 :  Agriculture.1\n",
      "col  16 :  Transformation.1\n",
      "col  17 :  Emballage.1\n",
      "col  18 :  Transport.1\n",
      "col  19 :  Supermarché et distribution.1\n",
      "col  20 :  Consommation.1\n",
      "col  21 :  Total.1\n",
      "col  22 :  Agriculture.2\n",
      "col  23 :  Transformation.2\n",
      "col  24 :  Emballage.2\n",
      "col  25 :  Transport.2\n",
      "col  26 :  Supermarché et distribution.2\n",
      "col  27 :  Consommation.2\n",
      "col  28 :  Total.2\n",
      "col  29 :  Agriculture.3\n",
      "col  30 :  Transformation.3\n",
      "col  31 :  Emballage.3\n",
      "col  32 :  Transport.3\n",
      "col  33 :  Supermarché et distribution.3\n",
      "col  34 :  Consommation.3\n",
      "col  35 :  Total.3\n",
      "col  36 :  Agriculture.4\n",
      "col  37 :  Transformation.4\n",
      "col  38 :  Emballage.4\n",
      "col  39 :  Transport.4\n",
      "col  40 :  Supermarché et distribution.4\n",
      "col  41 :  Consommation.4\n",
      "col  42 :  Total.4\n",
      "col  43 :  Agriculture.5\n",
      "col  44 :  Transformation.5\n",
      "col  45 :  Emballage.5\n",
      "col  46 :  Transport.5\n",
      "col  47 :  Supermarché et distribution.5\n",
      "col  48 :  Consommation.5\n",
      "col  49 :  Total.5\n",
      "col  50 :  Agriculture.6\n",
      "col  51 :  Transformation.6\n",
      "col  52 :  Emballage.6\n",
      "col  53 :  Transport.6\n",
      "col  54 :  Supermarché et distribution.6\n",
      "col  55 :  Consommation.6\n",
      "col  56 :  Total.6\n",
      "col  57 :  Agriculture.7\n",
      "col  58 :  Transformation.7\n",
      "col  59 :  Emballage.7\n",
      "col  60 :  Transport.7\n",
      "col  61 :  Supermarché et distribution.7\n",
      "col  62 :  Consommation.7\n",
      "col  63 :  Total.7\n",
      "col  64 :  Agriculture.8\n",
      "col  65 :  Transformation.8\n",
      "col  66 :  Emballage.8\n",
      "col  67 :  Transport.8\n",
      "col  68 :  Supermarché et distribution.8\n",
      "col  69 :  Consommation.8\n",
      "col  70 :  Total.8\n",
      "col  71 :  Agriculture.9\n",
      "col  72 :  Transformation.9\n",
      "col  73 :  Emballage.9\n",
      "col  74 :  Transport.9\n",
      "col  75 :  Supermarché et distribution.9\n",
      "col  76 :  Consommation.9\n",
      "col  77 :  Total.9\n",
      "col  78 :  Agriculture.10\n",
      "col  79 :  Transformation.10\n",
      "col  80 :  Emballage.10\n",
      "col  81 :  Transport.10\n",
      "col  82 :  Supermarché et distribution.10\n",
      "col  83 :  Consommation.10\n",
      "col  84 :  Total.10\n",
      "col  85 :  Agriculture.11\n",
      "col  86 :  Transformation.11\n",
      "col  87 :  Emballage.11\n",
      "col  88 :  Transport.11\n",
      "col  89 :  Supermarché et distribution.11\n",
      "col  90 :  Consommation.11\n",
      "col  91 :  Total.11\n",
      "col  92 :  Agriculture.12\n",
      "col  93 :  Transformation.12\n",
      "col  94 :  Emballage.12\n",
      "col  95 :  Transport.12\n",
      "col  96 :  Supermarché et distribution.12\n",
      "col  97 :  Consommation.12\n",
      "col  98 :  Total.12\n",
      "col  99 :  Agriculture.13\n",
      "col  100 :  Transformation.13\n",
      "col  101 :  Emballage.13\n",
      "col  102 :  Transport.13\n",
      "col  103 :  Supermarché et distribution.13\n",
      "col  104 :  Consommation.13\n",
      "col  105 :  Total.13\n",
      "col  106 :  Agriculture.14\n",
      "col  107 :  Transformation.14\n",
      "col  108 :  Emballage.14\n",
      "col  109 :  Transport.14\n",
      "col  110 :  Supermarché et distribution.14\n",
      "col  111 :  Consommation.14\n",
      "col  112 :  Total.14\n",
      "col  113 :  Agriculture.15\n",
      "col  114 :  Transformation.15\n",
      "col  115 :  Emballage.15\n",
      "col  116 :  Transport.15\n",
      "col  117 :  Supermarché et distribution.15\n",
      "col  118 :  Consommation.15\n",
      "col  119 :  Total.15\n",
      "col  120 :  Agriculture.16\n",
      "col  121 :  Transformation.16\n",
      "col  122 :  Emballage.16\n",
      "col  123 :  Transport.16\n",
      "col  124 :  Supermarché et distribution.16\n",
      "col  125 :  Consommation.16\n",
      "col  126 :  Total.16\n",
      "col  127 :  DQR Overall\n",
      "col  128 :  P\n",
      "col  129 :  TiR\n",
      "col  130 :  GR\n",
      "col  131 :  TeR\n"
     ]
    }
   ],
   "source": [
    "for i in range(0,len(data_etapes.columns)):\n",
    "    print(\"col \",i,\": \",data_etapes.columns[i])"
   ]
  },
  {
   "cell_type": "code",
   "execution_count": 179,
   "metadata": {
    "scrolled": false
   },
   "outputs": [
    {
     "name": "stdout",
     "output_type": "stream",
     "text": [
      "Quelques infos :\n",
      "----\n",
      "Agriculture \tmoyenne =  0.5684966870458406\n",
      "Transformation \tmoyenne =  0.056136918226633324\n",
      "Emballage \tmoyenne =  0.02242675546471597\n",
      "Transport \tmoyenne =  0.026165883152808857\n",
      "Supermarché et distribution \tmoyenne =  0.007877125406877268\n",
      "Consommation \tmoyenne =  0.007633790367775273\n",
      "Total \tmoyenne =  0.6887371596646522\n",
      "----\n",
      "Agriculture.1 \tmoyenne =  4.283405101720905\n",
      "Transformation.1 \tmoyenne =  0.4956679004686108\n",
      "Emballage.1 \tmoyenne =  0.25511460216686355\n",
      "Transport.1 \tmoyenne =  0.31395988182510964\n",
      "Supermarché et distribution.1 \tmoyenne =  0.03147132845606259\n",
      "Consommation.1 \tmoyenne =  0.042848097985972104\n",
      "Total.1 \tmoyenne =  5.422466912623518\n",
      "----\n",
      "Agriculture.2 \tmoyenne =  3.3849700977868863e-07\n",
      "Transformation.2 \tmoyenne =  3.3468371653456784e-08\n",
      "Emballage.2 \tmoyenne =  8.733627654263909e-08\n",
      "Transport.2 \tmoyenne =  7.39595480802746e-08\n",
      "Supermarché et distribution.2 \tmoyenne =  2.4693114096368837e-09\n",
      "Consommation.2 \tmoyenne =  2.6369538328196176e-09\n",
      "Total.2 \tmoyenne =  5.383674712975938e-07\n",
      "----\n",
      "Agriculture.3 \tmoyenne =  0.22347594415358327\n",
      "Transformation.3 \tmoyenne =  0.509689582884064\n",
      "Emballage.3 \tmoyenne =  0.026443116230250266\n",
      "Transport.3 \tmoyenne =  0.020708397043810254\n",
      "Supermarché et distribution.3 \tmoyenne =  0.124289809269087\n",
      "Consommation.3 \tmoyenne =  0.11212322565223509\n",
      "Total.3 \tmoyenne =  1.0167300752330282\n",
      "----\n",
      "Agriculture.4 \tmoyenne =  0.018124962240729955\n",
      "Transformation.4 \tmoyenne =  0.0011453623181971702\n",
      "Emballage.4 \tmoyenne =  0.0007314176762902194\n",
      "Transport.4 \tmoyenne =  0.0014836005704080204\n",
      "Supermarché et distribution.4 \tmoyenne =  6.676431156404086e-05\n",
      "Consommation.4 \tmoyenne =  7.66614940653192e-05\n",
      "Total.4 \tmoyenne =  0.02162876861125479\n",
      "----\n",
      "Agriculture.5 \tmoyenne =  0.0005214051127095384\n",
      "Transformation.5 \tmoyenne =  1.9120084943812506e-05\n",
      "Emballage.5 \tmoyenne =  1.133561329913974e-05\n",
      "Transport.5 \tmoyenne =  1.9328471702804955e-05\n",
      "Supermarché et distribution.5 \tmoyenne =  1.3286906450673484e-06\n",
      "Consommation.5 \tmoyenne =  1.2579847468561866e-06\n",
      "Total.5 \tmoyenne =  0.000573775958047217\n",
      "----\n",
      "Agriculture.6 \tmoyenne =  9.718748033812473e-05\n",
      "Transformation.6 \tmoyenne =  4.7483418004346795e-06\n",
      "Emballage.6 \tmoyenne =  1.549677617036938e-06\n",
      "Transport.6 \tmoyenne =  2.6674671603893626e-06\n",
      "Supermarché et distribution.6 \tmoyenne =  6.102224520907146e-07\n",
      "Consommation.6 \tmoyenne =  6.866494222022356e-07\n",
      "Total.6 \tmoyenne =  0.00010744983879027829\n",
      "----\n",
      "Agriculture.7 \tmoyenne =  0.00032713994599624895\n",
      "Transformation.7 \tmoyenne =  2.7288002301783744e-05\n",
      "Emballage.7 \tmoyenne =  1.6013641315341666e-05\n",
      "Transport.7 \tmoyenne =  1.2757204312951923e-05\n",
      "Supermarché et distribution.7 \tmoyenne =  2.612588474352418e-06\n",
      "Consommation.7 \tmoyenne =  2.654884403709549e-06\n",
      "Total.7 \tmoyenne =  0.0003884662668043907\n",
      "----\n",
      "Agriculture.8 \tmoyenne =  0.0741199274705543\n",
      "Transformation.8 \tmoyenne =  0.0019294206534052462\n",
      "Emballage.8 \tmoyenne =  0.0009938508669833145\n",
      "Transport.8 \tmoyenne =  0.0016654054182892314\n",
      "Supermarché et distribution.8 \tmoyenne =  0.00013376208977747235\n",
      "Consommation.8 \tmoyenne =  0.00012646567892165525\n",
      "Total.8 \tmoyenne =  0.07896883217793138\n",
      "----\n",
      "Agriculture.9 \tmoyenne =  0.0006482900240314143\n",
      "Transformation.9 \tmoyenne =  9.650625283613507e-05\n",
      "Emballage.9 \tmoyenne =  4.7709151366905094e-05\n",
      "Transport.9 \tmoyenne =  2.180896351662702e-05\n",
      "Supermarché et distribution.9 \tmoyenne =  7.896331532033684e-06\n",
      "Consommation.9 \tmoyenne =  9.6236331831904e-06\n",
      "Total.9 \tmoyenne =  0.0008318343564663051\n",
      "----\n",
      "Agriculture.10 \tmoyenne =  0.026064589481928923\n",
      "Transformation.10 \tmoyenne =  0.0013067283733852165\n",
      "Emballage.10 \tmoyenne =  0.00021445496123043527\n",
      "Transport.10 \tmoyenne =  0.00046832170440357427\n",
      "Supermarché et distribution.10 \tmoyenne =  2.983514000902644e-05\n",
      "Consommation.10 \tmoyenne =  4.74257950576201e-05\n",
      "Total.10 \tmoyenne =  0.02813135545601476\n",
      "----\n",
      "Agriculture.11 \tmoyenne =  0.2973492946411109\n",
      "Transformation.11 \tmoyenne =  0.00565223360207286\n",
      "Emballage.11 \tmoyenne =  0.001990867124021054\n",
      "Transport.11 \tmoyenne =  0.00511935318708182\n",
      "Supermarché et distribution.11 \tmoyenne =  0.0002525249092678204\n",
      "Consommation.11 \tmoyenne =  0.00024866463985077003\n",
      "Total.11 \tmoyenne =  0.31061293810340573\n",
      "----\n",
      "Agriculture.12 \tmoyenne =  48.98883914287014\n",
      "Transformation.12 \tmoyenne =  2.549722494496489\n",
      "Emballage.12 \tmoyenne =  0.7692215217318236\n",
      "Transport.12 \tmoyenne =  1.553317906032585\n",
      "Supermarché et distribution.12 \tmoyenne =  0.13806092456130353\n",
      "Consommation.12 \tmoyenne =  0.18844663102527084\n",
      "Total.12 \tmoyenne =  54.187608620717526\n",
      "----\n",
      "Agriculture.13 \tmoyenne =  310.9915033641978\n",
      "Transformation.13 \tmoyenne =  13.675075234293063\n",
      "Emballage.13 \tmoyenne =  1.3458717057608307\n",
      "Transport.13 \tmoyenne =  2.285032864065951\n",
      "Supermarché et distribution.13 \tmoyenne =  0.1424060331910615\n",
      "Consommation.13 \tmoyenne =  0.13453906984119676\n",
      "Total.13 \tmoyenne =  328.5744282713505\n",
      "----\n",
      "Agriculture.14 \tmoyenne =  5.385374418478616\n",
      "Transformation.14 \tmoyenne =  0.14930567352159582\n",
      "Emballage.14 \tmoyenne =  0.1369397340264995\n",
      "Transport.14 \tmoyenne =  0.013780953101468034\n",
      "Supermarché et distribution.14 \tmoyenne =  0.0279730040350978\n",
      "Consommation.14 \tmoyenne =  0.010837126147001488\n",
      "Total.14 \tmoyenne =  5.724210909310313\n",
      "----\n",
      "Agriculture.15 \tmoyenne =  21.537600423417633\n",
      "Transformation.15 \tmoyenne =  14.029094337067578\n",
      "Emballage.15 \tmoyenne =  4.567783046302378\n",
      "Transport.15 \tmoyenne =  4.288577241244697\n",
      "Supermarché et distribution.15 \tmoyenne =  2.770083682731052\n",
      "Consommation.15 \tmoyenne =  2.549797561227566\n",
      "Total.15 \tmoyenne =  49.74293629199102\n",
      "----\n",
      "Agriculture.16 \tmoyenne =  0.015244014435140198\n",
      "Transformation.16 \tmoyenne =  0.0023014939844706655\n",
      "Emballage.16 \tmoyenne =  0.001662843844455704\n",
      "Transport.16 \tmoyenne =  0.0012823188364461699\n",
      "Supermarché et distribution.16 \tmoyenne =  0.0007804375020440739\n",
      "Consommation.16 \tmoyenne =  0.0007088726532150333\n",
      "Total.16 \tmoyenne =  0.021979981255771795\n"
     ]
    }
   ],
   "source": [
    "print(\"Quelques infos :\")\n",
    "for i in range(0,17):\n",
    "    print(\"----\")\n",
    "    for col in ['Agriculture', 'Transformation', 'Emballage', 'Transport', 'Supermarché et distribution', \\\n",
    "                'Consommation', 'Total']:\n",
    "        if i>0:\n",
    "            nom_col = col + \".\" +str(i)\n",
    "        else:\n",
    "            nom_col = col\n",
    "        print(nom_col,\"\\tmoyenne = \",data_etapes[nom_col].mean())"
   ]
  },
  {
   "cell_type": "code",
   "execution_count": 180,
   "metadata": {},
   "outputs": [
    {
     "name": "stdout",
     "output_type": "stream",
     "text": [
      "Nombre de lignes:  6856\n",
      "Nombre de colonnes:  27\n"
     ]
    }
   ],
   "source": [
    "data_ingredients = pd.read_csv(\"data/AGRIBALYSE3-ingredients.csv\",sep=\";\")\n",
    "data_ingredients.columns\n",
    "print(\"Nombre de lignes: \",len(data_ingredients))\n",
    "print(\"Nombre de colonnes: \",len(data_ingredients.columns))"
   ]
  },
  {
   "cell_type": "code",
   "execution_count": 181,
   "metadata": {},
   "outputs": [
    {
     "name": "stdout",
     "output_type": "stream",
     "text": [
      "0 :  Ciqual AGB\n",
      "1 :  Ciqual code\n",
      "2 :  Groupe d'aliment\n",
      "3 :  Sous-groupe d'aliment\n",
      "4 :  Nom Français\n",
      "5 :  LCI Name\n",
      "6 :  Ingredients\n",
      "7 :  Code et Nom\n",
      "8 :  Groupe\n",
      "9 :  Sous-groupe\n",
      "10 :  Formation photochimique d'ozone \tmoyennne =  0.14901077587806696\n",
      "11 :  Particules fines \tmoyennne =  1.1694919040652145\n",
      "12 :  Effets toxicologiques sur la santé humaine : substances non-cancérogènes \tmoyennne =  9.663670448533415e-08\n",
      "13 :  Effets toxicologiques sur la santé humaine : substances cancérogènes \tmoyennne =  0.32177220746506924\n",
      "14 :  Acidification terrestre et eaux douces \tmoyennne =  0.0038680513541169905\n",
      "15 :  Eutrophisation eaux douces \tmoyennne =  1.1525166083035612e-07\n",
      "16 :  Eutrophisation marine \tmoyennne =  2.5530761424091244e-08\n",
      "17 :  Eutrophisation terrestre \tmoyennne =  9.025745752722709e-10\n",
      "18 :  Écotoxicité pour écosystèmes aquatiques d'eau douce \tmoyennne =  0.015834018204143707\n",
      "19 :  Utilisation du sol \tmoyennne =  0.0001705105635242942\n",
      "20 :  Épuisement des ressources eau \tmoyennne =  0.005420029504769188\n",
      "21 :  Épuisement des ressources énergétiques \tmoyennne =  0.06377478486649865\n",
      "22 :  Épuisement des ressources minéraux \tmoyennne =  13.45604458169234\n",
      "23 :  Pt/kg de produit \tmoyennne =  70.52662867740453\n",
      "24 :  m3 depriv./kg de produit \tmoyennne =  1.362213190190878\n",
      "25 :  MJ/kg de produit \tmoyennne =  12.915748203498485\n",
      "26 :  kg Sb eq/kg de produit \tmoyennne =  4.652159787008768e-06\n"
     ]
    }
   ],
   "source": [
    "for i in range(0,len(data_ingredients.columns)):\n",
    "    if i<10:\n",
    "        print(i,\": \", data_ingredients.columns[i])\n",
    "    else:\n",
    "        print(i,\": \", data_ingredients.columns[i], \\\n",
    "              \"\\tmoyennne = \", data_ingredients[data_ingredients.columns[i]].mean())"
   ]
  },
  {
   "attachments": {},
   "cell_type": "markdown",
   "metadata": {},
   "source": [
    "## Préparation des données\n",
    "\n",
    "On a décidé de séparer les données en deux groupes: produits contenant des ingrédients d'origine animale et produits purement végétaux.\n",
    "C'était une tâche compliquée par le fait que les listes d'ingrédients n'étaient pas complètes.  D'abord c'était pas trop difficile, mais on a fini par trier les dernières centaines de valeurs à la main.\n",
    "\n",
    "On recommande de passer au titre suivant dans ce notebook.\n",
    "\n",
    "On sépare le dataframe 'synthese' en groupe végétal, animal et jusqu'ici inconnu.  D'abord on trie les groupes, puis les sous-groupes:"
   ]
  },
  {
   "cell_type": "code",
   "execution_count": 182,
   "metadata": {},
   "outputs": [
    {
     "data": {
      "text/plain": [
       "array(['aides culinaires et ingrédients divers', 'aliments infantiles',\n",
       "       'boissons', 'entrées et plats composés',\n",
       "       'fruits, légumes, légumineuses et oléagineux', 'glaces et sorbets',\n",
       "       'lait et produits laitiers', 'matières grasses',\n",
       "       'produits céréaliers', 'produits sucrés',\n",
       "       'viandes, œufs, poissons'], dtype=object)"
      ]
     },
     "execution_count": 182,
     "metadata": {},
     "output_type": "execute_result"
    }
   ],
   "source": [
    "data_synthese[\"Groupe d'aliment\"].unique()"
   ]
  },
  {
   "cell_type": "code",
   "execution_count": 183,
   "metadata": {},
   "outputs": [
    {
     "name": "stdout",
     "output_type": "stream",
     "text": [
      "Tailles des dataframes: \n",
      "\n",
      "\tdata_veg 479\n",
      "\tdata_ani 868\n",
      "\tinconnus 1170\n"
     ]
    }
   ],
   "source": [
    "data_veg = data_synthese[data_synthese[\"Groupe d'aliment\"].isin(['fruits, légumes, légumineuses et oléagineux', 'produits sucrés'])]\n",
    "data_ani = data_synthese[data_synthese[\"Groupe d'aliment\"].isin(['lait et produits laitiers','viandes, œufs, poissons'])]\n",
    "inconnus = data_synthese[data_synthese[\"Groupe d\\'aliment\"].isin(['aides culinaires et ingrédients divers', 'produits céréaliers', 'aliments infantiles','boissons', 'entrées et plats composés','glaces et sorbets','matières grasses']) ]\n",
    "\n",
    "\n",
    "print(f\"Tailles des dataframes: \\n\\n\\tdata_veg {data_veg.shape[0]}\\n\\tdata_ani {data_ani.shape[0]}\\n\\tinconnus {inconnus.shape[0]}\")"
   ]
  },
  {
   "cell_type": "code",
   "execution_count": 184,
   "metadata": {},
   "outputs": [
    {
     "data": {
      "text/plain": [
       "array(['algues', 'herbes', 'ingrédients divers', 'épices',\n",
       "       'aides culinaires', 'sauces', 'sels', 'condiments',\n",
       "       'denrées destinées à une alimentation particulière',\n",
       "       'céréales et biscuits infantiles', 'laits et boissons infantiles',\n",
       "       'desserts infantiles', 'petits pots salés et plats infantiles',\n",
       "       'boisson alcoolisées', 'boissons sans alcool', 'eaux',\n",
       "       'plats composés', 'feuilletées et autres entrées', 'soupes',\n",
       "       'plats végétariens', 'sandwichs',\n",
       "       'pizzas, tartes et crêpes salées', 'salades composées et crudités',\n",
       "       'glaces', 'desserts glacés', 'sorbets', 'beurres',\n",
       "       'huiles et graisses végétales', 'autres matières grasses',\n",
       "       'huiles de poissons', 'margarines', 'pâtes, riz et céréales',\n",
       "       'farines et pâtes à tarte', 'gâteaux et pâtisseries',\n",
       "       'pains et viennoiseries', 'céréales de petit-déjeuner et biscuits'],\n",
       "      dtype=object)"
      ]
     },
     "execution_count": 184,
     "metadata": {},
     "output_type": "execute_result"
    }
   ],
   "source": [
    "inconnus['Sous-groupe d\\'aliment'].unique()"
   ]
  },
  {
   "cell_type": "code",
   "execution_count": 185,
   "metadata": {},
   "outputs": [
    {
     "name": "stdout",
     "output_type": "stream",
     "text": [
      "True\n"
     ]
    }
   ],
   "source": [
    "new_ani = inconnus[inconnus['Sous-groupe d\\'aliment'].isin(['laits et boissons infantiles','beurres','autres matières grasses','glaces','huiles de poissons'])]\n",
    "new_veg = inconnus[inconnus['Sous-groupe d\\'aliment'].isin(['margarines','huiles et graisses végétales','algues','herbes','épices','boisson alcoolisées','eaux','sorbets','condiments'])]\n",
    "new_inconnus = inconnus[inconnus['Sous-groupe d\\'aliment'].isin(['ingrédients divers',\n",
    "       'aides culinaires', 'sauces', 'sels',\n",
    "       'denrées destinées à une alimentation particulière',\n",
    "       'céréales et biscuits infantiles',\n",
    "       'desserts infantiles', 'petits pots salés et plats infantiles',\n",
    "       'boissons sans alcool',\n",
    "       'plats composés', 'feuilletées et autres entrées', 'soupes',\n",
    "       'plats végétariens', 'sandwichs',\n",
    "       'pizzas, tartes et crêpes salées', 'salades composées et crudités',\n",
    "       'desserts glacés',\n",
    "       'pâtes, riz et céréales',\n",
    "       'farines et pâtes à tarte', 'gâteaux et pâtisseries',\n",
    "       'pains et viennoiseries', 'céréales de petit-déjeuner et biscuits'])]\n",
    "\n",
    "#pour vérifier la validité de la partition\n",
    "print(  inconnus.shape[0] == (new_ani.shape[0] + new_veg.shape[0] + new_inconnus.shape[0])  )"
   ]
  },
  {
   "cell_type": "code",
   "execution_count": 186,
   "metadata": {},
   "outputs": [
    {
     "name": "stdout",
     "output_type": "stream",
     "text": [
      "Tailles des dataframes: \n",
      "\n",
      "\tdata_veg 714\n",
      "\tdata_ani 910\n",
      "\tinconnus 893\n"
     ]
    }
   ],
   "source": [
    "data_veg = pd.concat([data_veg, new_veg])\n",
    "data_ani = pd.concat([data_ani, new_ani])\n",
    "inconnus = new_inconnus\n",
    "\n",
    "print(f\"Tailles des dataframes: \\n\\n\\tdata_veg {data_veg.shape[0]}\\n\\tdata_ani {data_ani.shape[0]}\\n\\tinconnus {inconnus.shape[0]}\")\n"
   ]
  },
  {
   "attachments": {},
   "cell_type": "markdown",
   "metadata": {},
   "source": [
    "Ensuite on affecte les inconnus selon la présence d'ingrédients d'origine animale (connue grâce au dataframe data_ingredients):"
   ]
  },
  {
   "cell_type": "code",
   "execution_count": 187,
   "metadata": {},
   "outputs": [
    {
     "data": {
      "text/plain": [
       "array(['Abats de bœuf', 'Abats de porc', 'Abats de poulet',\n",
       "       'Abats de veau', 'Abricot', 'Ail', 'Amande', 'Amidon de maïs',\n",
       "       'Amidon de pomme de terre', 'Ananas', 'Anchois', 'Anchois commun',\n",
       "       'Asperges', 'Aubergine', 'Autres étapes', 'Avocat', 'Avoine',\n",
       "       'Baie', 'Basilic', 'Beurre', 'Bière', \"Blanc d'oeuf\", 'Blé dur',\n",
       "       \"Boisson à base d'avoine\", 'Boisson à base de soja',\n",
       "       'Bouchées ou émincé au soja', 'Bouillon', 'Brocoli', 'Bœuf haché',\n",
       "       'Cacahuète', 'Café', 'Calamar', 'Camembert', 'Cannelle ',\n",
       "       'Carotte', 'Cassonade', 'Cerises', 'Champignon', 'Chicorée',\n",
       "       'Chicorée rouge', 'Chocolat au lait', 'Chocolat noir',\n",
       "       'Chou blanc', 'Chou vert', 'Choucroute', 'Choufleur', 'Châtaigne',\n",
       "       'Ciboulette ou oignon de printemps', 'Citron', 'Clous de girofle',\n",
       "       'Comté', 'Concentré de tomates', 'Concombre', 'Congre',\n",
       "       'Coquille Saint-Jacques', 'Coriandre', 'Courgette',\n",
       "       'Cresson de jardin', 'Crevette', 'Céleri', 'Céleri-rave',\n",
       "       'Eau de Vie', 'Eau de coco', 'Emmental', 'Endive',\n",
       "       \"Endive d'hiver\", 'Epinard', 'Estragon', \"Farine d'avoine\",\n",
       "       'Farine de blé', 'Farine de maïs', 'Farine de millet',\n",
       "       'Farine de riz', 'Farine de sarrasin', 'Farine de seigle',\n",
       "       'Farine de soja', 'Fenouil',\n",
       "       'Fond de veau pour la sauce et la cuisson', 'Fraise', 'Fraises',\n",
       "       'Framboises', 'Frites', 'Fromage', 'Fromage de Cheddar',\n",
       "       'Fromage fondu', 'Fromage frais crémeux', 'Fromage mozzarella',\n",
       "       'Fromage à pâte dure', 'Fructose', 'Fruit de mer',\n",
       "       'Fruits confits', 'Fèves', 'Galette ou pavé au soja', 'Gingembre',\n",
       "       'Glutamate', 'Gluten de blé', 'Grain de maïs',\n",
       "       'Grain de maïs séché', 'Graine de lin', 'Graine de soja',\n",
       "       'Graine de sésame', 'Graines de pavot', 'Graines de tournesol',\n",
       "       'Graisse de porc', 'Graisse végétale (type margarine)', 'Grenade',\n",
       "       'Grondin rouge', 'Groseille', 'Gruyère',\n",
       "       'Haché végétal à base de soja', 'Haricot', 'Haricot mungo',\n",
       "       'Haricot rouge', 'Haricot vert', 'Herbes de Provence',\n",
       "       'Homard de Norvège', 'Huil de lin',\n",
       "       \"Huile combinée (mélange d'huile d'olive et d'huile de graines)\",\n",
       "       \"Huile d'arachide\", \"Huile d'olive\", 'Huile de coco',\n",
       "       'Huile de colza', 'Huile de palme', 'Huile de poisson',\n",
       "       'Huile de soja', 'Huile de tournesol', 'Jambon cuit',\n",
       "       \"Jaune d'œuf\", \"Jus d'orange\", 'Jus de cerise', 'Jus de citron',\n",
       "       'Jus de fruits mélangé', 'Jus de pomme', 'Jus de raisin', 'Lait',\n",
       "       'Lait concentré', 'Lait de coco', 'Lait de coco ou crème de coco',\n",
       "       'Lait demi-écremé', 'Lait écrémé', 'Lentilles', 'Levure',\n",
       "       \"Lieu ou colin d'Alaska\", 'Lotte ', 'Léthicine de soja', 'Manioc',\n",
       "       'Mayonnaise', 'Menthe', 'Merguez', 'Miel', 'Millet', 'Mixage',\n",
       "       'Morue', 'Moule', 'Moutarde', 'Mélange de chicorée et de café',\n",
       "       'Mélange de céréales et légumineuses', 'Navet', 'Noix',\n",
       "       'Noix de cajou', 'Noix de coco', 'Noix de muscade', 'Oignons',\n",
       "       'Olives', 'Omelette', 'Orange', 'Origan', 'Pain perdu',\n",
       "       'Pain pour hamburger/hot-dog', 'Pamplemousse/pomelos ', 'Parmesan',\n",
       "       'Patate douce', 'Persil', 'Petits pois', 'Pignons de pin',\n",
       "       'Piment', 'Poire', 'Poireau', 'Pois chiches',\n",
       "       'Poisson Saint-Pierre', 'Poivre', 'Pomme de table',\n",
       "       'Pommes de terre', 'Potiron', 'Poudre de cacao',\n",
       "       'Protéine de soja', 'Prune', 'Pulpe de tomate', 'Purée de banane',\n",
       "       'Purée de carotte', 'Purée de framboise', 'Purée de mangue',\n",
       "       'Pâtes', 'Pêche', 'Raisin', 'Raisin de table', 'Rascasse',\n",
       "       'Reblochon', 'Riz non décortiqué', 'Romarin', 'Roquefort',\n",
       "       'Safran', 'Salade', 'Salade verte', 'Sarrasin', 'Sauce au curry',\n",
       "       'Sauce barbecue', 'Sauce de fromage', 'Sauce soja',\n",
       "       'Saucisse de porc', 'Saucisses sèches', 'Saumon', 'Seitan', 'Sel',\n",
       "       'Sirop', 'Sirop de glucose', 'Sole au citron', 'Son de blé',\n",
       "       'Sucre', 'Sucre blanc', 'Thon', 'Thym', 'Thé', 'Tofu', 'Tomate',\n",
       "       'Tomates', 'Tomme', 'Tortilla à base de blé', 'Total', 'Vanille',\n",
       "       'Viande', 'Viande avec os', \"Viande d'agneau sans os\",\n",
       "       'Viande de bœuf sans os', 'Viande de moutton sans os',\n",
       "       'Viande de porc maigre', 'Viande de poulet sans os',\n",
       "       'Viande de veau sans os', 'Vin blanc', 'Vin rouge', 'Yaourt',\n",
       "       'Échalote', 'Œuf de poule'], dtype=object)"
      ]
     },
     "execution_count": 187,
     "metadata": {},
     "output_type": "execute_result"
    }
   ],
   "source": [
    "np.unique(data_ingredients['Ingredients'].values)"
   ]
  },
  {
   "cell_type": "code",
   "execution_count": 188,
   "metadata": {},
   "outputs": [],
   "source": [
    "veg = np.array(['Abricot', 'Ail', 'Amande', 'Amidon de maïs',\n",
    "       'Amidon de pomme de terre', 'Ananas',\n",
    "       'Asperges', 'Aubergine', 'Avocat', 'Avoine',\n",
    "       'Baie', 'Basilic', 'Bière', 'Blé dur',\n",
    "       \"Boisson à base d'avoine\", 'Boisson à base de soja',\n",
    "       'Bouchées ou émincé au soja', 'Brocoli', 'Cacahuète',\n",
    "       'Café', 'Cannelle ',\n",
    "       'Carotte', 'Cassonade', 'Cerises', 'Champignon', 'Chicorée',\n",
    "       'Chicorée rouge', 'Chocolat noir',\n",
    "       'Chou blanc', 'Chou vert', 'Choucroute', 'Choufleur', 'Châtaigne',\n",
    "       'Ciboulette ou oignon de printemps', 'Citron', 'Clous de girofle',\n",
    "       'Concentré de tomates', 'Concombre', \n",
    "       'Coriandre', 'Courgette',\n",
    "       'Cresson de jardin', 'Céleri', 'Céleri-rave',\n",
    "       'Eau de Vie', 'Eau de coco', 'Endive',\n",
    "       \"Endive d'hiver\", 'Epinard', 'Estragon', \"Farine d'avoine\",\n",
    "       'Farine de blé', 'Farine de maïs', 'Farine de millet',\n",
    "       'Farine de riz', 'Farine de sarrasin', 'Farine de seigle',\n",
    "       'Farine de soja', 'Fenouil',\n",
    "       'Fraise', 'Fraises',\n",
    "       'Framboises', 'Frites',\n",
    "       'Fructose', \n",
    "       'Fruits confits', 'Fèves', 'Galette ou pavé au soja', 'Gingembre',\n",
    "       'Glutamate', 'Gluten de blé', 'Grain de maïs',\n",
    "       'Grain de maïs séché', 'Graine de lin', 'Graine de soja',\n",
    "       'Graine de sésame', 'Graines de pavot', 'Graines de tournesol',\n",
    "       'Graisse végétale (type margarine)', 'Grenade',\n",
    "       'Groseille', \n",
    "       'Haché végétal à base de soja', 'Haricot', 'Haricot mungo',\n",
    "       'Haricot rouge', 'Haricot vert', 'Herbes de Provence',\n",
    "       'Huil de lin',\n",
    "       \"Huile combinée (mélange d'huile d'olive et d'huile de graines)\",\n",
    "       \"Huile d'arachide\", \"Huile d'olive\", 'Huile de coco',\n",
    "       'Huile de colza', 'Huile de palme', \n",
    "       'Huile de soja', 'Huile de tournesol',\n",
    "       \"Jus d'orange\", 'Jus de cerise', 'Jus de citron',\n",
    "       'Jus de fruits mélangé', 'Jus de pomme', 'Jus de raisin', \n",
    "       'Lait de coco', 'Lait de coco ou crème de coco',\n",
    "       'Lentilles', 'Levure',\n",
    "       'Léthicine de soja', 'Manioc',\n",
    "       'Menthe', 'Millet', \n",
    "       'Moutarde', 'Mélange de chicorée et de café',\n",
    "       'Mélange de céréales et légumineuses', 'Navet', 'Noix',\n",
    "       'Noix de cajou', 'Noix de coco', 'Noix de muscade', 'Oignons',\n",
    "       'Olives', 'Orange', 'Origan',\n",
    "       'Pamplemousse/pomelos ', \n",
    "       'Patate douce', 'Persil', 'Petits pois', 'Pignons de pin',\n",
    "       'Piment', 'Poire', 'Poireau', 'Pois chiches',\n",
    "       'Poivre', 'Pomme de table',\n",
    "       'Pommes de terre', 'Potiron', 'Poudre de cacao',\n",
    "       'Protéine de soja', 'Prune', 'Pulpe de tomate', 'Purée de banane',\n",
    "       'Purée de carotte', 'Purée de framboise', 'Purée de mangue',\n",
    "       'Pêche', 'Raisin', 'Raisin de table','Riz non décortiqué', 'Romarin',\n",
    "       'Safran', 'Salade', 'Salade verte', 'Sarrasin', 'Sauce au curry',\n",
    "       'Sauce barbecue', 'Sauce soja',\n",
    "       'Seitan', 'Sel',\n",
    "       'Sirop', 'Sirop de glucose', 'Son de blé',\n",
    "       'Sucre', 'Sucre blanc', 'Thym', 'Thé', 'Tofu', 'Tomate',\n",
    "       'Tomates', 'Vanille',\n",
    "       'Vin blanc', 'Vin rouge', \n",
    "       'Échalote'])\n",
    "\n",
    "\n",
    "ani = np.array(['Abats de bœuf', 'Abats de porc', 'Abats de poulet',\n",
    "       'Abats de veau','Anchois', 'Anchois commun',\n",
    "       'Beurre', \"Blanc d'oeuf\", 'Bœuf haché',\n",
    "       'Calamar', 'Camembert', 'Chocolat au lait',\n",
    "       'Comté', 'Congre',\n",
    "       'Coquille Saint-Jacques', 'Crevette', 'Emmental',\n",
    "       'Fond de veau pour la sauce et la cuisson','Fromage', 'Fromage de Cheddar',\n",
    "       'Fromage fondu', 'Fromage frais crémeux', 'Fromage mozzarella',\n",
    "       'Fromage à pâte dure', 'Fruit de mer',\n",
    "       'Graisse de porc', \n",
    "       'Grondin rouge', 'Gruyère',\n",
    "       'Homard de Norvège',  'Huile de poisson',\n",
    "       'Jambon cuit',\n",
    "       \"Jaune d'œuf\", 'Lait',\n",
    "       'Lait concentré', \n",
    "       'Lait demi-écremé', 'Lait écrémé', \n",
    "       \"Lieu ou colin d'Alaska\", 'Lotte ',\n",
    "       'Mayonnaise', 'Merguez', 'Miel',\n",
    "       'Morue', 'Moule', \n",
    "       'Omelette', \n",
    "       'Parmesan',\n",
    "       'Poisson Saint-Pierre', 'Rascasse',\n",
    "       'Reblochon', 'Roquefort',\n",
    "       'Sauce de fromage',\n",
    "       'Saucisse de porc', 'Saucisses sèches', 'Saumon', \n",
    "       'Sole au citron', 'Thon', 'Tomme', \n",
    "       'Viande', 'Viande avec os', \"Viande d'agneau sans os\",\n",
    "       'Viande de bœuf sans os', 'Viande de moutton sans os',\n",
    "       'Viande de porc maigre', 'Viande de poulet sans os',\n",
    "       'Viande de veau sans os', 'Yaourt',\n",
    "       'Œuf de poule','Pain perdu'])\n"
   ]
  },
  {
   "attachments": {},
   "cell_type": "markdown",
   "metadata": {},
   "source": [
    "Ici on a découvert que les listes d'ingrédients ne sont pas exhaustives, donc il a fallu trier les données restantes à la main"
   ]
  },
  {
   "cell_type": "code",
   "execution_count": 189,
   "metadata": {},
   "outputs": [],
   "source": [
    "new_inconnus = []\n",
    "new_ani = []\n",
    "new_veg = []\n",
    "\n",
    "for _,produit in inconnus.iterrows():\n",
    "    ingredients = data_ingredients[data_ingredients['Ciqual code'] == str(produit['Code CIQUAL'])]\n",
    "    if ingredients.shape[0] == 0:\n",
    "        new_inconnus.append(produit['Code CIQUAL'])\n",
    "    elif ingredients[ingredients['Ingredients'].isin(ani)].shape[0] > 0:\n",
    "        new_ani.append(produit['Code CIQUAL'])\n",
    "    else:\n",
    "        new_veg.append(produit['Code CIQUAL'])"
   ]
  },
  {
   "cell_type": "code",
   "execution_count": 190,
   "metadata": {},
   "outputs": [
    {
     "name": "stdout",
     "output_type": "stream",
     "text": [
      "37002 Tomato sauce for pizza base\n",
      "11172 Aromatic stock cube, for fish, dehydrated\n",
      "25620 Guacamole, prepacked\n",
      "11112 Harissa (hot spicy sauce), prepacked\n",
      "25621 Hummus\n",
      "11008 Ketchup\n",
      "20916 Miso\n",
      "25525 Topping sauce for pizza\n",
      "11214 Soy \"cream\" preparation\n",
      "11163 Sweet and sour sauce, prepacked\n",
      "11132 Curry sauce, prepacked\n",
      "11170 Basque-style sauce or tomato sauce with sweet peppers, prepacked\n",
      "11194 Nuoc mam sauce or fish sauce, prepacked\n",
      "11104 Soy sauce, prepacked\n",
      "11177 Tomato sauce, w mushrooms, prepacked\n",
      "11107 Tomato sauce, with onions, prepacked\n",
      "11178 Tomato sauce, w olives, prepacked\n",
      "11207 Tomato sauce, w vegetables, prepacked\n",
      "11219 Vegetable Bolognese sauce\n",
      "11110 Salad dressing, (50-75% of oil), prepacked\n",
      "13157 Baby food jar with banana\n",
      "13158 Baby food jar without banana\n",
      "20248 Vegetable dish for baby, with starch, from 6-8 months\n",
      "20252 Soup for baby, with vegetables and potatoes\n",
      "20253 Soup for baby, with vegetables, cereals and milk\n",
      "18905 Oat-based drink, plain, prepacked\n",
      "18907 Coconut-based drink, plain, prepacked\n",
      "18343 Fruit juice with milk\n",
      "18902 Soy drink, flavoured, with sugar\n",
      "18903 Soy drink, flavoured, enriched in calcium, w sugar or fruit concentrate\n",
      "18900 Soy drink, plain, prepacked\n",
      "18901 Soy drink, plain, fortified with calcium\n",
      "18065 Still soft drink with tea extract, flavoured, without sugar and with artificial sweeteners\n",
      "18015 Still soft drink with tea extract, with sugar and artificial sweetener(s)\n",
      "18106 Instant cocoa or chocolate beverage, with sugar, fortified with vitamins and chemical elements, ready-to-drink (reconstituted with standard semi-skimm\n",
      "18104 Instant cocoa or chocolate beverage, with sugar, ready-to-drink (reconstituted with standard semi-skimmed milk)\n",
      "18353 Energy drink, without sugar and with artificial sweetener(s)\n",
      "18352 Energy drink, with sugar\n",
      "18049 Fruit soft drink, carbonated (less than 10% of fruit juice), with sugar\n",
      "18033 Fruit soft drink, carbonated (less than 10% of fruit juice), with sugar and artificial sweetener(s)\n",
      "18019 Fruit soft drink, carbonated (10-50% of fruit juice), with sugar\n",
      "18026 Soft drink, carbonated, without fruit juice, with sugar\n",
      "18078 Soft drink, carbonated, without fruit juice, with sugar and artificial sweetener(s)\n",
      "18058 Syrup (mint, strawberries flavouredetc.), with sugar diluted in water\n",
      "18150 Mix of chicory and coffee, powder, instant, non rehydrated\n",
      "18220 Lemon or lime base, for beverage, without sugar (to be diluted)\n",
      "18060 Cola, without sugar and with artificial sweetener(s)\n",
      "18068 Cola, without sugar, with artificial sweetener(s) and with caffeine\n",
      "18018 Cola, with sugar\n",
      "18037 Cola, with sugar and artificial sweetener(s)\n",
      "18067 Cola, with sugar and without caffeine\n",
      "18039 Lemonade with a flavoured syrup\n",
      "2 Mixed red fruits juice, pure juice\n",
      "2011 Mixed fruits juice, orange based, multivitamin\n",
      "2048 Fruit juice, mixed - apple base, standard\n",
      "2069 Mixed fruits juice, reconstituted from a concentrate, multivitamin\n",
      "2002 Mixed fruits juice, pure juice, multivitamin\n",
      "2035 Mixed fruits juice, pure juice\n",
      "18035 Lemonade, without sugar, with artificial sweetener(s)\n",
      "18010 Lemonade, with sugar\n",
      "18016 Lemonade, with sugar and artificial sweetener(s)\n",
      "2060 Mixed fruits nectar, multivitamin\n",
      "2061 Mixed fruits nectar\n",
      "18017 Syrup, with sugar (to be diluted)\n",
      "2500 Smoothie\n",
      "18013 Tonic drink, without sugar, with artificial sweetener(s)\n",
      "18344 Tonic drink, with sugar\n",
      "18014 Tonic drink, with sugar and artificial sweetener(s)\n",
      "25930 Broth, stock or bouillon, beef\n",
      "25948 Broth, stock or bouillon, vegetables\n",
      "25589 Plant-based ball with wheat and/or soybean, prepacked\n",
      "25002 White bean stew, canned\n",
      "25605 Greek-style marinated mushrooms\n",
      "25220 Sauerkraut, without garnish, drained, cooked\n",
      "25150 Couscous with vegetables\n",
      "20914 Soy patty or vegetable escalope\n",
      "25571 Falafel\n",
      "7812 Fougasse, filled\n",
      "25234 Cereal patty (without soybean)\n",
      "25593 Plant-based patty or steak from wheat and soybean (vegan), prepacked\n",
      "25596 Soy-based patty, plain (vegetable steak), prepacked\n",
      "30181 Soy-based minced, prepacked\n",
      "25227 Soybean and wheat-based nuggets (vegan)\n",
      "20240 Piperade, Basque-style (fondue of sweet peppers and tomatoes flavoured with onions and garlics)\n",
      "20273 Vegetables pan-fried or stir-fried, Asian-style, frozen, raw\n",
      "20498 Vegetables pan-fried with mushrooms (country-style), frozen\n",
      "20274 Grilled vegetables pan-fried, Mediterranean-style, frozen, raw\n",
      "20262 Vegetables pan-fried without mushrooms, frozen, raw\n",
      "25018 Ratatouille cooked\n",
      "25196 Riste (Eggplant, tomatoes, onions)\n",
      "26259 Coleslaw, w sauce, prepacked\n",
      "25615 Prepared pasta salad, vegetarian\n",
      "25614 Prepared rice salad\n",
      "25913 Soup, carrots, prepacked, to be reheated\n",
      "25949 Soup, tomato and vermicelli, dehydrated and reconstituted\n",
      "25933 Soup, tomatoes and vermicelli, prepacked, to be reheated\n",
      "25935 Soup, tomatoes, dehydrated and reconstituted\n",
      "25914 Soup, tomatoes, prepacked, to be reheated\n",
      "25917 Soup, pistou (basil, garlic and olive oil), dehydrated and reconstituted\n",
      "25953 Soup, pistou (basil, garlic and olive oil), prepacked, to be reheated\n",
      "25934 Soup, cereals and vegetables, dehydrated and reconstituted\n",
      "25905 Soup, mixed vegetables, dehydrated and reconstituted\n",
      "25903 Soup, mixed vegetables, prepacked, to be reheated\n",
      "25964 Soup, green vegetables, dehydrated and reconstituted\n",
      "25963 Soup, green vegetables, prepacked, to be reheated\n",
      "25900 Soup, lentils, prepacked, to be reheated\n",
      "25925 Soup, leek and potato, dehydrated and reconstituted\n",
      "25907 Soup, leek and potato, prepacked, to be reheated\n",
      "25965 Soup, split peas, prepacked, to be reheated\n",
      "25967 Soup, gazpacho, cold\n",
      "25956 Soup, minestrone, dehydrated and reconstituted\n",
      "25916 Soup, minestrone, prepacked, to be reheated\n",
      "25608 Tabbouleh, prepacked\n",
      "20904 Tofu, plain\n",
      "25524 Provencal-style tomato (breaded tomatoes stuffed with garlic and parsley)\n",
      "7301 Rusk, w eggs\n",
      "7300 Rusk\n",
      "7340 Rusk, wholemeal or rich in fibre\n",
      "7330 Rusk, multigrain\n",
      "7310 Rusk, unsalted\n",
      "38405 Salty snacks, made from potato\n",
      "38407 Salty snacks, puff pastry\n",
      "38404 Puffed salty snacks, made from maize/corn, with peanuts\n",
      "38400 Puffed salty snacks, made from maize/corn, without peanuts\n",
      "38106 Puffed salty snacks, made from potato\n",
      "38108 Puffed salty snacks, made from potato and soy\n",
      "38401 Salty snacks, crackers, garnished or filled with cheese\n",
      "38402 Salty snacks, crackers, plain\n",
      "38403 Salty snacks, crackers, reduced fat\n",
      "38107 Salty snacks, mini pretzels or sticks\n",
      "38406 Coated peanuts\n",
      "38105 Corn chips or tortilla chips\n",
      "38408 Salted crispy crepe with cheese, prepacked\n",
      "38500 Crouton with garlic, herbs or onions, prepacked\n",
      "7430 Croutons\n",
      "7432 Croutons, plain, prepacked\n",
      "7352 Puffed rice textured bread, wholemeal\n",
      "23801 Buckwheat crepe, plain, prepacked\n",
      "7353 Puffed cereals textured bread\n",
      "26264 Gnocchi, from potato, raw\n",
      "25510 Gnocchi, from potato, cooked\n",
      "26265 Gnocchi, from semolina, raw\n",
      "25479 Gnocchi, from semolina, cooked\n",
      "7525 Grissini or bread stick\n",
      "51550 Khatfa (phyllo or filo pastry), prepacked\n",
      "9612 Mix of cereals and legumes, raw\n",
      "7256 English muffin, wholewheat flour, prepacked\n",
      "7115 Bran grain bread\n",
      "7260 Bread, home-made, with flour for home-made bread preparation\n",
      "7110 Bread, wholemeal or integral bread (made with flour type 150)\n",
      "7012 Bread, French bread, ball, 400g\n",
      "7261 Country-style bread, home-made (with flour for bread making machine)\n",
      "7125 Rye bread, and wheat\n",
      "7004 Toasted bread, home-made\n",
      "7400 Rusk, slice, wheat\n",
      "7425 Rusk , slice, multigrain\n",
      "7180 Pita bread\n",
      "7262 Rolls for hamburger/hotdog (buns), wholemeal, prepacked\n",
      "7002 Bread, French bread (baguette or ball), with yeast\n",
      "7255 Bread, French bread, (baguette or ball), multigrain, from bakery\n",
      "7025 Bread (baguette or ball), made with type T55-T110 flour\n",
      "7010 Brown bread, French bread (baguette or ball), with flour type 80 or 110\n",
      "7100 Country-style bread, French bread (baguette or ball)\n",
      "7001 Bread, French bread, baguette\n",
      "7007 Bread, French bread, baguette, unsalted\n",
      "7160 Bread, French bread, without salt\n",
      "7130 Bread, gluten free\n",
      "37001 Pizza base, raw\n",
      "96778 Pizza base, cooked\n",
      "23402 Thin-crust pizza shell, raw\n",
      "23445 Phyllo or filo dough, raw\n",
      "9874 Dried pasta, gluten-free, raw\n",
      "9824 Dried pasta, gluten-free, cooked, unsalted\n",
      "9230 Pop-corn or oil popped maize, salted\n",
      "7813 Corn tortilla wrap, to be filled\n",
      "9901 Rice noodle, cooked, unsalted\n",
      "9900 Rice noodle, dried\n",
      "True\n"
     ]
    }
   ],
   "source": [
    "supposed_veg = inconnus[inconnus['Code CIQUAL'].isin(new_veg)]\n",
    "supposed_veg\n",
    "\n",
    "for ciqual, name in zip(supposed_veg['Code CIQUAL'], supposed_veg['LCI Name']):\n",
    "    print(ciqual, name)\n",
    "\n",
    "#on trouve 11194, 20253, 18106, 18104, 25930, 7301, 38401 mal classés, le reste probablement bon\n",
    "for num in [11194, 20253, 18106, 18104, 25930, 7301, 38401]:\n",
    "    new_veg.remove(num)   \n",
    "new_ani += [11194, 20253, 18106, 18104, 25930, 7301, 38401]\n",
    "\n",
    "df_new_inconnus = inconnus[inconnus['Code CIQUAL'].isin(new_inconnus)]\n",
    "df_new_ani = inconnus[inconnus['Code CIQUAL'].isin(new_ani)]\n",
    "df_new_veg = inconnus[inconnus['Code CIQUAL'].isin(new_veg)]\n",
    "\n",
    "#test\n",
    "print(inconnus.shape[0] == df_new_inconnus.shape[0] + df_new_veg.shape[0] + df_new_ani.shape[0])\n",
    "\n",
    "\n",
    "\n"
   ]
  },
  {
   "cell_type": "code",
   "execution_count": 191,
   "metadata": {},
   "outputs": [
    {
     "name": "stdout",
     "output_type": "stream",
     "text": [
      "Tailles des dataframes: \n",
      "\n",
      "\tdata_veg 884\n",
      "\tdata_ani 1478\n",
      "\tinconnus 155\n"
     ]
    }
   ],
   "source": [
    "inconnus = df_new_inconnus\n",
    "data_ani = pd.concat([data_ani, df_new_ani])\n",
    "data_veg = pd.concat([data_veg, df_new_veg])\n",
    "\n",
    "print(f\"Tailles des dataframes: \\n\\n\\tdata_veg {data_veg.shape[0]}\\n\\tdata_ani {data_ani.shape[0]}\\n\\tinconnus {inconnus.shape[0]}\")"
   ]
  },
  {
   "cell_type": "code",
   "execution_count": 192,
   "metadata": {},
   "outputs": [
    {
     "name": "stdout",
     "output_type": "stream",
     "text": [
      "9345 Amaranth, raw\n",
      "9310 Oat, raw\n",
      "9003 Khorasan wheat\n",
      "9060 Durum wheat, whole, raw\n",
      "9080 Wheat, whole, pre-cooked, raw\n",
      "9081 Durum wheat pre-cooked, whole grain, cooked, unsalted\n",
      "9010 Wheat, whole, raw\n",
      "9690 Wheat bulgur, raw\n",
      "9691 Wheat bulgur, cooked, unsalted\n",
      "9681 Couscous (durum wheat semolina pre-cooked with steam), raw\n",
      "9683 Couscous (durum wheat semolina pre-cooked with steam), cooked, unsalted\n",
      "9001 Spelt, raw\n",
      "51510 Frik (crushed immature durum wheat), raw\n",
      "51511 Frik (crushed immature durum wheat), cooked, unsalted\n",
      "9200 Corn or maize grain, raw\n",
      "9330 Millet, whole\n",
      "9331 Millet, cooked, unsalted\n",
      "9320 Barley, whole, raw\n",
      "9322 Pearled barley, boiled/cooked in water, unsalted\n",
      "9321 Pearled barley, raw\n",
      "9810 Dried pasta, raw\n",
      "9811 Dried pasta, cooked, unsalted\n",
      "9870 Dried pasta, wholemeal, raw\n",
      "9871 Dried pasta, wholemeal, cooked, unsalted\n",
      "9821 Dried egg pasta, raw\n",
      "9615 Polenta or maize semolina, cooked, unsalted\n",
      "9614 Polenta or Maize/corn semolina, pre-cooked, dried\n",
      "9340 Quinoa FR, raw\n",
      "9341 Quinoa FR, boiled/cooked in water, unsalted\n",
      "9341 Quinoa, boiled/cooked in water, unsalted\n",
      "9340 Quinoa, raw\n",
      "9101 Rice, parboiled, raw\n",
      "9105 Rice, parboiled, cooked, unsalted\n",
      "9100 Rice, raw\n",
      "9104 Rice, cooked, unsalted\n",
      "9102 Rice, brown, raw\n",
      "9103 Rice, brown, cooked, unsalted\n",
      "9109 Rice, red, raw\n",
      "9110 Rice, red, cooked, unsalted\n",
      "9108 Wild rice, raw\n",
      "9111 Wild rice, cooked, unsalted\n",
      "9119 Basmati rice, raw\n",
      "9121 Rice, mix of species (white, wholegrain, wild, red,etc.), raw\n",
      "9380 Buckwheat, whole, raw\n",
      "9390 Rye, whole, raw\n",
      "9610 Durum wheat semolina, raw\n",
      "9360 Sorghum, whole, raw\n",
      "True\n"
     ]
    }
   ],
   "source": [
    "#Séparation des céréales\n",
    "cereales = inconnus[inconnus['Sous-groupe d\\'aliment'] == 'pâtes, riz et céréales']\n",
    "\n",
    "for ciqual, name in zip(cereales['Code CIQUAL'], cereales['LCI Name']):\n",
    "    print(ciqual, name)\n",
    "\n",
    "#9821 est animal, le reste est végétal\n",
    "new_ani = cereales[cereales['Code CIQUAL'] == 9821]\n",
    "new_veg = cereales[cereales['Code CIQUAL'] != 9821]\n",
    "new_inconnus = inconnus[inconnus['Sous-groupe d\\'aliment'] != 'pâtes, riz et céréales']\n",
    "\n",
    "#Test\n",
    "print(inconnus.shape[0] == new_ani.shape[0] + new_veg.shape[0] + new_inconnus.shape[0])"
   ]
  },
  {
   "cell_type": "code",
   "execution_count": 193,
   "metadata": {},
   "outputs": [
    {
     "name": "stdout",
     "output_type": "stream",
     "text": [
      "Tailles des dataframes: \n",
      "\n",
      "\tdata_veg 930\n",
      "\tdata_ani 1479\n",
      "\tinconnus 108\n"
     ]
    }
   ],
   "source": [
    "inconnus = new_inconnus\n",
    "data_ani = pd.concat([data_ani, new_ani])\n",
    "data_veg = pd.concat([data_veg, new_veg])\n",
    "\n",
    "print(f\"Tailles des dataframes: \\n\\n\\tdata_veg {data_veg.shape[0]}\\n\\tdata_ani {data_ani.shape[0]}\\n\\tinconnus {inconnus.shape[0]}\")"
   ]
  },
  {
   "cell_type": "code",
   "execution_count": 194,
   "metadata": {},
   "outputs": [
    {
     "name": "stdout",
     "output_type": "stream",
     "text": [
      "18904 Rice-based drink, plain\n",
      "18011 Coconut water\n",
      "18107 Almond drink not sweet, not fortified, prepacked\n",
      "18030 Bottled water, flavoured, without sugar and with artificial sweeteners\n",
      "18028 Bottled water, flavoured, without sugar and artificial sweeteners\n",
      "18012 Bottled water, flavoured, w sugar\n",
      "18340 Fruit soft drink, carbonated (less than 10% of fruit juice), without sugar and with artificial sweetener(s)\n",
      "18345 Fruit soft drink, carbonated (less than 10% of fruit juice), without sugar and artificial sweetener(s)\n",
      "19127 Strawberry flavoured milk, with sugar, partially skimmed, fortified with vitamins D\n",
      "19122 Chocolate flavoured milk, with sugar, partially skimmed, fortified with vitamins and chemicals elements\n",
      "18304 Fruit soft drink, still (10-50% of fruit juice), reduced sugar\n",
      "18339 Fruit soft drink, still (10-50% of fruit juice), with sugar\n",
      "18023 Fruit soft drink, still (less than 10% of fruit juice), with sugar\n",
      "18309 Fruit soft drink, still (fruit juice content unspecified), with sugar\n",
      "18021 Fruit soft drink, still (less than 10% of fruit juice), without sugar and with artificial sweetener(s)\n",
      "18100 Cocoa powder, without sugar, powder, instant, non rehydrated\n",
      "18072 Decaffeinated instant coffee, without sugar, ready-to-drink\n",
      "18070 Decaffeinated not instant coffee, without sugar, ready-to-drink\n",
      "18071 Espresso coffee, not instant coffee, without sugar, ready-to-drink\n",
      "18069 Decaffeinated coffee, powder, instant, non rehydrated\n",
      "18073 Instant coffee, without sugar, ready-to-drink\n",
      "18003 Coffee, ground\n",
      "18004 Not instant coffee, without sugar, ready-to-drink\n",
      "18005 Coffee, powder, instant, non rehydrated\n",
      "18152 Chicory, powder, instant\n",
      "2000 Pineapple juice, reconstituted from a concentrate\n",
      "2073 Pineapple juice, pure juice\n",
      "1 Beetroot juice, pure juice\n",
      "2006 Carrot juice, pure juice\n",
      "2028 Lemon juice, pure juice\n",
      "2023 Mango juice, fresh\n",
      "2027 Grapefruit juice, pure juice\n",
      "2074 Apple juice, pure juice\n",
      "2016 Grape juice, pure juice\n",
      "2053 Tomato juice, pure juice (average)\n",
      "2012 Orange juice, reconstituted from a concentrate\n",
      "2013 Orange juice, home-made\n",
      "18041 Coconut milk or coconut cream\n",
      "2043 Apricot nectar\n",
      "2366 Banana nectar\n",
      "2370 Mango nectar\n",
      "2371 Peach nectar\n",
      "2054 Pear nectar\n",
      "2375 Orange nectar\n",
      "18101 Cocoa or chocolate powder, for beverages, with sugar, non rehydrated\n",
      "18168 Cocoa or chocolate powder, for beverages, with sugar, fortified with vitamins, non rehydrated\n",
      "18167 Cocoa or chocolate powder, for beverages, with sugar, fortified with vitamins and chemical elements, non rehydrated\n",
      "18020 Tea, brewed, without sugar\n",
      "18154 Black tea, brewed, without sugar\n",
      "18156 Oolong tea, brewed, without sugar\n",
      "18155 Green tea, brewed, without sugar\n",
      "18022 Infusion, brewed, without sugar\n",
      "True\n"
     ]
    }
   ],
   "source": [
    "#Séparation des boissons\n",
    "boissons = inconnus[inconnus['Groupe d\\'aliment'] == 'boissons']\n",
    "for ciqual, name in zip(boissons['Code CIQUAL'], boissons['LCI Name']):\n",
    "    print(ciqual, name)\n",
    "\n",
    "#19127, 19122 animal, le reste végétal\n",
    "new_ani = boissons[boissons['Code CIQUAL'].isin([19127, 19122])]\n",
    "new_veg = boissons[~boissons['Code CIQUAL'].isin([19127,19122])]\n",
    "new_inconnus = inconnus[inconnus['Groupe d\\'aliment'] != 'boissons']\n",
    "\n",
    "#Test\n",
    "print(inconnus.shape[0] == new_ani.shape[0] + new_veg.shape[0] + new_inconnus.shape[0])"
   ]
  },
  {
   "cell_type": "code",
   "execution_count": 195,
   "metadata": {},
   "outputs": [
    {
     "name": "stdout",
     "output_type": "stream",
     "text": [
      "Tailles des dataframes: \n",
      "\n",
      "\tdata_veg 980\n",
      "\tdata_ani 1481\n",
      "\tinconnus 56\n"
     ]
    }
   ],
   "source": [
    "inconnus = new_inconnus\n",
    "data_ani = pd.concat([data_ani, new_ani])\n",
    "data_veg = pd.concat([data_veg, new_veg])\n",
    "\n",
    "print(f\"Tailles des dataframes: \\n\\n\\tdata_veg {data_veg.shape[0]}\\n\\tdata_ani {data_ani.shape[0]}\\n\\tinconnus {inconnus.shape[0]}\")"
   ]
  },
  {
   "cell_type": "code",
   "execution_count": 196,
   "metadata": {},
   "outputs": [
    {
     "name": "stdout",
     "output_type": "stream",
     "text": [
      "11507 Sodium bicarbonate\n",
      "11082 Pure sea salt, no enrichment\n",
      "11007 Gelatine, dried\n",
      "42200 Soy lecithin\n",
      "11009 Nutritional yeast\n",
      "11046 Baking powder or raising agent\n",
      "11010 Baker's yeast, compressed\n",
      "11045 Baker's yeast, dehydrated\n",
      "11044 Celery salt\n",
      "11058 Salt, white, for human consumption (sea, igneous or rock), iodine added, no other enrichment\n",
      "11017 Salt, white, for human consumption (sea, igneous or rock), no enrichment\n",
      "11083 Sea salt, grey, no enrichment\n",
      "31089 Syrup, agave\n",
      "31034 Syrup, maple\n",
      "20919 Light syrup for canned fruits in syrup\n",
      "20918 Syrup for canned fruits in syrup\n",
      "9640 Oat bran\n",
      "9621 Wheat bran\n",
      "9641 Maize/corn bran\n",
      "9643 Rice bran\n",
      "20917 Tempeh\n",
      "13167 Instant cereal (powder to be reconstituted) for baby from 4/6 months\n",
      "13168 Instant cereal (powder to be reconstituted) for baby from 6 months\n",
      "9082 Durum wheat, pre-cooked, cooked, in a microwaveable bag\n",
      "9083 Durum wheat pre-cooked, whole grain, cooked, to pan-fry\n",
      "25539 Fish on skewer\n",
      "25415 Veggie burger\n",
      "25415 Cheeseburger, double, from fast foods restaurant\n",
      "20194 Haricot beans with tomato sauce, canned\n",
      "25063 Rabbit with mustard sauce\n",
      "25077 Salmon with sorrel\n",
      "7815 Wheat tortilla wrap, filled with soy-based, vegetarian\n",
      "9510 Maize/corn starch\n",
      "9437 Wheat flour, self-raising\n",
      "9410 Wheat flour, type 110\n",
      "9415 Wheat flour, type 150\n",
      "9440 Wheat flour, type 55 (for pastry)\n",
      "9436 Wheat flour, type 55 (for bread)\n",
      "9435 Wheat flour, type 65\n",
      "9445 Wheat flour, type 80\n",
      "9545 Maize/corn flour\n",
      "9555 Millet flour\n",
      "9580 Chick pea flour\n",
      "9520 Rice flour\n",
      "9540 Buckwheat flour\n",
      "9533 Rye flour, type 130\n",
      "9530 Rye flour, type 170\n",
      "9532 Rye flour, type 85\n",
      "20900 Soya flour\n",
      "9480 Spelt flour\n",
      "9550 Barley flour\n",
      "9311 Oatmeal flakes\n",
      "32140 Oat flakes, pre-cooked, raw\n",
      "9313 Oat flakes, boiled/cooked in water\n",
      "9231 Pop-corn or air-popped maize, unsalted\n",
      "7815 Wheat tortilla wrap, to be filled\n",
      "True\n"
     ]
    }
   ],
   "source": [
    "#Dernières lignes à trier\n",
    "for ciqual, name in zip(inconnus['Code CIQUAL'], inconnus['LCI Name']):\n",
    "    print(ciqual, name)\n",
    "\n",
    "#11507, 11082, 11046, 11044, 11058, 11017, 11083 - minéral\n",
    "#11007, 25539, 25415, 25063, 25077 - animal\n",
    "#le reste végétal\n",
    "\n",
    "mins = inconnus[inconnus['Code CIQUAL'].isin([11507, 11082, 11046, 11044, 11058, 11017, 11083])]\n",
    "new_ani = inconnus[inconnus['Code CIQUAL'].isin([11007, 25539, 25415, 25063, 25077])]\n",
    "new_veg = inconnus[~inconnus['Code CIQUAL'].isin([11507, 11082, 11046, 11044, 11058, 11017, 11083, 11007, 25539, 25415, 25063, 25077])]\n",
    "\n",
    "\n",
    "#Test\n",
    "print(inconnus.shape[0] == new_ani.shape[0] + new_veg.shape[0] + mins.shape[0])\n",
    "\n"
   ]
  },
  {
   "cell_type": "code",
   "execution_count": 197,
   "metadata": {},
   "outputs": [
    {
     "name": "stdout",
     "output_type": "stream",
     "text": [
      "Tailles des dataframes: \n",
      "\n",
      "\tdata_veg 1023\n",
      "\tdata_ani 1487\n",
      "\tinconnus 0\n"
     ]
    }
   ],
   "source": [
    "inconnus = np.array([])\n",
    "data_ani = pd.concat([data_ani, new_ani])\n",
    "data_veg = pd.concat([data_veg, new_veg])\n",
    "\n",
    "print(f\"Tailles des dataframes: \\n\\n\\tdata_veg {data_veg.shape[0]}\\n\\tdata_ani {data_ani.shape[0]}\\n\\tinconnus {inconnus.shape[0]}\")"
   ]
  },
  {
   "attachments": {},
   "cell_type": "markdown",
   "metadata": {},
   "source": [
    "Et c'est fini!  Toutes les données sont triées."
   ]
  },
  {
   "attachments": {},
   "cell_type": "markdown",
   "metadata": {},
   "source": [
    "## Suppression de colonnes inutiles et normalisation\n"
   ]
  },
  {
   "attachments": {},
   "cell_type": "markdown",
   "metadata": {},
   "source": [
    "Selon la documentation des données, il existe une seule valeur moyenne pondérée, le score unique EF, qui est nécessairement arbitraire.  On ne l'a pas utilisée, car on va faire notre propre analyse des données sur les dégâts environnementaux associés à chaque produit."
   ]
  },
  {
   "cell_type": "code",
   "execution_count": 198,
   "metadata": {},
   "outputs": [],
   "source": [
    "ani = np.array(clust.normalisation(data_ani.iloc[:,13:]))\n",
    "veg = np.array(clust.normalisation(data_veg.iloc[:,13:]))\n",
    "\n",
    "# animal : +1\n",
    "# veg : -1\n",
    "n_pos = ani.shape[0]\n",
    "n_neg = veg.shape[0]"
   ]
  },
  {
   "attachments": {},
   "cell_type": "markdown",
   "metadata": {},
   "source": [
    "## Apprentissage supervisé"
   ]
  },
  {
   "attachments": {},
   "cell_type": "markdown",
   "metadata": {},
   "source": [
    "Préparation de la matrices d'exemples X, et les labels Y:"
   ]
  },
  {
   "cell_type": "code",
   "execution_count": 199,
   "metadata": {},
   "outputs": [],
   "source": [
    "X = np.concatenate((ani,veg),axis=0)"
   ]
  },
  {
   "cell_type": "code",
   "execution_count": 200,
   "metadata": {},
   "outputs": [
    {
     "data": {
      "text/plain": [
       "(2510, 16)"
      ]
     },
     "execution_count": 200,
     "metadata": {},
     "output_type": "execute_result"
    }
   ],
   "source": [
    "X.shape"
   ]
  },
  {
   "cell_type": "code",
   "execution_count": 201,
   "metadata": {},
   "outputs": [
    {
     "data": {
      "text/plain": [
       "(2510,)"
      ]
     },
     "execution_count": 201,
     "metadata": {},
     "output_type": "execute_result"
    }
   ],
   "source": [
    "Y = np.array([+1 for i in range(ani.shape[0])]+[-1 for i in range(veg.shape[0])])\n",
    "Y.shape"
   ]
  },
  {
   "cell_type": "code",
   "execution_count": 202,
   "metadata": {},
   "outputs": [],
   "source": [
    "# mélange des indices\n",
    "index = np.random.permutation(X.shape[0]) # mélange des index\n",
    "X = X[index]\n",
    "Y = Y[index]"
   ]
  },
  {
   "attachments": {},
   "cell_type": "markdown",
   "metadata": {},
   "source": [
    "Maintenant on a une matrice d'exemples X et un vecteur Y correspondant de labels.  Les données sont prêtes pour l'apprentissage supervisé par arbres numériques et perceptron."
   ]
  },
  {
   "attachments": {},
   "cell_type": "markdown",
   "metadata": {},
   "source": [
    "### Classification avec l'arbre numerique :\n"
   ]
  },
  {
   "attachments": {},
   "cell_type": "markdown",
   "metadata": {},
   "source": [
    "Train test split:"
   ]
  },
  {
   "cell_type": "code",
   "execution_count": 203,
   "metadata": {},
   "outputs": [],
   "source": [
    "(Xtrain, Ytrain), (Xtest, Ytest) = ut.genere_train_test(X,Y, int(n_pos * 0.7), int(n_neg * 0.7)) # 70% des données pour le train, le reste pour le test\n",
    "\n"
   ]
  },
  {
   "cell_type": "code",
   "execution_count": 204,
   "metadata": {},
   "outputs": [
    {
     "name": "stderr",
     "output_type": "stream",
     "text": [
      "/home/paul/anaconda3/lib/python3.9/site-packages/numpy/lib/scimath.py:378: RuntimeWarning: divide by zero encountered in log\n",
      "  return nx.log(x)/nx.log(n)\n"
     ]
    }
   ],
   "source": [
    "decision_tree = cl.ClassifierArbreNumerique(16,epsilon=0.00001,LNoms=['Changement climatique',\n",
    "       'Appauvrissement de la couche d\\'ozone', 'Rayonnements ionisants',\n",
    "       'Formation photochimique d\\'ozone', 'Particules fines',\n",
    "       'Effets toxicologiques sur la santé humaine : substances non-cancérogènes',\n",
    "       'Effets toxicologiques sur la santé humaine : substances cancérogènes',\n",
    "       'Acidification terrestre et eaux douces', 'Eutrophisation eaux douces',\n",
    "       'Eutrophisation marine', 'Eutrophisation terrestre',\n",
    "       'Écotoxicité pour écosystèmes aquatiques d\\'eau douce',\n",
    "       'Utilisation du sol', 'Épuisement des ressources eau',\n",
    "       'Épuisement des ressources énergétiques',\n",
    "       'Épuisement des ressources minéraux'])\n",
    "\n",
    "decision_tree.train(X,Y)\n"
   ]
  },
  {
   "cell_type": "code",
   "execution_count": 205,
   "metadata": {},
   "outputs": [],
   "source": [
    "import graphviz as gv\n",
    "gtree = gv.Digraph(format='png')\n",
    "decision_tree.affiche(gtree)"
   ]
  },
  {
   "attachments": {},
   "cell_type": "markdown",
   "metadata": {},
   "source": [
    "### Classification avec perceptron\n"
   ]
  },
  {
   "cell_type": "code",
   "execution_count": 206,
   "metadata": {},
   "outputs": [],
   "source": [
    "#parametre du perceptron : \n",
    "dim = 16\n",
    "eps = 1e-3    # learning rate\n",
    "poids_0 = True   # valeur initiale des poids à 0"
   ]
  },
  {
   "cell_type": "code",
   "execution_count": 207,
   "metadata": {},
   "outputs": [
    {
     "data": {
      "text/plain": [
       "<matplotlib.legend.Legend at 0x7fd76b57ac70>"
      ]
     },
     "execution_count": 207,
     "metadata": {},
     "output_type": "execute_result"
    },
    {
     "data": {
      "image/png": "[encoded data removed]",
      "text/plain": [
       "<Figure size 640x480 with 1 Axes>"
      ]
     },
     "metadata": {},
     "output_type": "display_data"
    }
   ],
   "source": [
    "perceptron1 = cl.ClassifierPerceptronBiais(dim, eps, poids_0)\n",
    "\n",
    "les_differences = perceptron1.train(Xtrain, Ytrain, 300, 0.001)\n",
    "\n",
    "# récupération de l'évolution des w au cours de l'apprentissage \n",
    "# perceptron initialisé à 0\n",
    "# si allw est sous forme de liste de couples [w1, w2], on doit la convertir en np.array pour la suite:\n",
    "allw = np.array(perceptron1.get_allw()) \n",
    "\n",
    "# Tracé de l'évolution de la fonction cout:\n",
    "cout_liste = ev.couts_vect(allw,Xtrain,Ytrain)\n",
    "plt.figure()\n",
    "plt.plot(cout_liste) # première coordonnée du vecteur poids: w1\n",
    "plt.title('Evolution de la fonction cout')\n",
    "plt.xlabel('iterations')\n",
    "plt.legend(['C'])\n",
    "\n",
    "# Sauvegarde de la figure obtenue (décommenter la ligne ci-dessous):\n",
    "#plt.savefig('out/cvg.png')\n"
   ]
  },
  {
   "cell_type": "code",
   "execution_count": 208,
   "metadata": {},
   "outputs": [
    {
     "name": "stdout",
     "output_type": "stream",
     "text": [
      "Accuracy sur le test :  0.9986737400530504\n"
     ]
    }
   ],
   "source": [
    "test_accuracy = perceptron1.accuracy(Xtest, Ytest)\n",
    "print(\"Accuracy sur le test : \", test_accuracy)"
   ]
  },
  {
   "cell_type": "code",
   "execution_count": 209,
   "metadata": {},
   "outputs": [
    {
     "name": "stdout",
     "output_type": "stream",
     "text": [
      "Perf  ([0.98, 1.0, 1.0, 1.0, 0.996, 0.996, 1.0, 0.992, 0.996, 0.996], 0.9956000000000002, 0.0057827329179203895)\n",
      "Analyse performances :  (0.9956000000000002, 0.0057827329179203895)\n"
     ]
    }
   ],
   "source": [
    "# test sur les données jouet X, Y supposées pré-existantes\n",
    "\n",
    "index = np.random.permutation(len(X)) # mélange des index\n",
    "Xm = X[index]\n",
    "Ym = Y[index]\n",
    "niter = 10\n",
    "perf = []\n",
    "\n",
    "# Paramètres pour le perceptron:\n",
    "dim = 16\n",
    "eps = 1e-3    # learning rate\n",
    "poids_0 = True   # valeur initiale des poids à 0\n",
    "\n",
    "perceptron4 = cl.ClassifierPerceptronBiais(dim, eps, poids_0)\n",
    "perf = ev.validation_croisee(perceptron4, (Xm,Ym), niter )\n",
    "print(\"Perf \", perf)\n",
    "\n",
    "print(\"Analyse performances : \", ev.analyse_perfs(perf[0]))"
   ]
  },
  {
   "attachments": {},
   "cell_type": "markdown",
   "metadata": {},
   "source": [
    "### Kmoyennes\n",
    "\n",
    "Il faut un dataframe de la base X"
   ]
  },
  {
   "cell_type": "code",
   "execution_count": 176,
   "metadata": {},
   "outputs": [],
   "source": [
    "df_X = pd.DataFrame(data=X, columns = [\"X\"+str(i) for i in range(X.shape[1])])"
   ]
  },
  {
   "cell_type": "code",
   "execution_count": 177,
   "metadata": {},
   "outputs": [
    {
     "name": "stdout",
     "output_type": "stream",
     "text": [
      "iteration 1 Inertie : 212.3730 Difference: 212.3730\n",
      "iteration 2 Inertie : 184.1451 Difference: 28.2279\n",
      "iteration 3 Inertie : 169.0751 Difference: 15.0699\n",
      "iteration 4 Inertie : 158.3270 Difference: 10.7481\n",
      "iteration 5 Inertie : 150.6134 Difference: 7.7136\n",
      "iteration 6 Inertie : 145.8546 Difference: 4.7588\n",
      "iteration 7 Inertie : 142.6071 Difference: 3.2476\n",
      "iteration 8 Inertie : 139.8762 Difference: 2.7309\n",
      "iteration 9 Inertie : 138.2435 Difference: 1.6327\n",
      "iteration 10 Inertie : 137.2581 Difference: 0.9854\n",
      "iteration 11 Inertie : 136.0768 Difference: 1.1813\n",
      "iteration 12 Inertie : 134.3745 Difference: 1.7023\n",
      "iteration 13 Inertie : 133.5842 Difference: 0.7903\n",
      "iteration 14 Inertie : 132.9362 Difference: 0.6481\n",
      "iteration 15 Inertie : 132.6337 Difference: 0.3025\n",
      "iteration 16 Inertie : 132.1701 Difference: 0.4636\n",
      "iteration 17 Inertie : 131.6993 Difference: 0.4708\n",
      "iteration 18 Inertie : 131.5652 Difference: 0.1342\n",
      "iteration 19 Inertie : 131.5054 Difference: 0.0597\n",
      "iteration 20 Inertie : 131.2850 Difference: 0.2204\n",
      "iteration 21 Inertie : 129.8828 Difference: 1.4022\n",
      "iteration 22 Inertie : 126.7164 Difference: 3.1664\n",
      "iteration 23 Inertie : 125.8460 Difference: 0.8703\n",
      "iteration 24 Inertie : 125.5499 Difference: 0.2961\n",
      "iteration 25 Inertie : 125.4494 Difference: 0.1005\n",
      "iteration 26 Inertie : 125.3921 Difference: 0.0573\n",
      "iteration 27 Inertie : 125.3453 Difference: 0.0468\n",
      "iteration 28 Inertie : 125.3182 Difference: 0.0271\n",
      "iteration 29 Inertie : 125.3021 Difference: 0.0161\n",
      "iteration 30 Inertie : 125.2971 Difference: 0.0050\n",
      "iteration 31 Inertie : 125.2968 Difference: 0.0003\n",
      "iteration 32 Inertie : 125.2967 Difference: 0.0001\n",
      "iteration 33 Inertie : 125.2967 Difference: 0.0001\n",
      "iteration 34 Inertie : 125.2967 Difference: 0.0000\n"
     ]
    }
   ],
   "source": [
    "C, U = clust.kmoyennes(10, df_X, 0.0000001, 1000, verbose = True)"
   ]
  },
  {
   "cell_type": "code",
   "execution_count": 181,
   "metadata": {},
   "outputs": [
    {
     "data": {
      "text/plain": [
       "array([[6.19, 2.41e-07, 0.669, ..., 2.15, 33.3, 1.61e-05],\n",
       "       [5.96, 2.39e-07, 0.677, ..., 2.08, 33.4, 1.56e-05],\n",
       "       [5.97, 2.4e-07, 0.676, ..., 2.08, 33.4, 1.56e-05],\n",
       "       ...,\n",
       "       [13.1, 3.81e-07, 1.79, ..., 3.47, 68.5, 3.02e-05],\n",
       "       [5.49, 3.44e-07, 0.695, ..., 5.44, 49.8, 2.43e-05],\n",
       "       [6.34, 6.55e-07, 1.08, ..., 1.07, 72.9, 6.64e-05]], dtype=object)"
      ]
     },
     "execution_count": 181,
     "metadata": {},
     "output_type": "execute_result"
    }
   ],
   "source": [
    "ani_array = np.array(data_ani)\n",
    "ani_array[:,13:]"
   ]
  },
  {
   "cell_type": "code",
   "execution_count": 182,
   "metadata": {},
   "outputs": [
    {
     "name": "stdout",
     "output_type": "stream",
     "text": [
      "200\n"
     ]
    }
   ],
   "source": [
    "len(U[1])\n",
    "print ( len(U[1]) + len(U[0]))"
   ]
  },
  {
   "cell_type": "code",
   "execution_count": 208,
   "metadata": {},
   "outputs": [],
   "source": [
    "count_ani = 0\n",
    "count_veg = 0\n",
    "X_array = np.array(df_X.iloc[U[7]])\n",
    "ani_array = np.array(data_ani)\n",
    "ani_array = ani_array[:,13:]\n",
    "veg_array = np.array(data_veg)\n",
    "veg_array = veg_array[:,13:]"
   ]
  },
  {
   "cell_type": "code",
   "execution_count": 209,
   "metadata": {},
   "outputs": [
    {
     "name": "stdout",
     "output_type": "stream",
     "text": [
      " produit animal - vegetal trouvé en commun :  218  vegetal :  -2\n",
      "produit animaux totaux de base :  1487\n",
      "produit vegetaux totaux de base :  1023\n"
     ]
    }
   ],
   "source": [
    "for x in X_array:\n",
    "    if x in ani:\n",
    "        label = 1\n",
    "        count_ani +=1\n",
    "    elif x in veg:\n",
    "        label = -1\n",
    "        count_veg +=-1\n",
    "    #label = perceptron1.predict(np.array(x))\n",
    "\n",
    "print (\" produit animal - vegetal trouvé en commun : \", count_ani, \" vegetal : \", count_veg)\n",
    "print(\"produit animaux totaux de base : \", len(ani_array) )\n",
    "print(\"produit vegetaux totaux de base : \", len(veg_array) )"
   ]
  },
  {
   "cell_type": "code",
   "execution_count": 213,
   "metadata": {},
   "outputs": [
    {
     "data": {
      "text/plain": [
       "Text(0.5, 0, 'k')"
      ]
     },
     "execution_count": 213,
     "metadata": {},
     "output_type": "execute_result"
    },
    {
     "data": {
      "image/png": "[encoded data removed]",
      "text/plain": [
       "<Figure size 640x480 with 1 Axes>"
      ]
     },
     "metadata": {},
     "output_type": "display_data"
    }
   ],
   "source": [
    "XieBeni_values = []\n",
    "Dunn_values = []\n",
    "\n",
    "for k in range (2,3):\n",
    "    C, U = clust.kmoyennes(k, df_X, 0.0001, 100, verbose = False)\n",
    "    XieBeni_values.append( clust.XieBeni(df_X, C, U) )\n",
    "    Dunn_values.append(clust.Dunn(df_X, C, U))\n",
    "\n",
    "plt.figure()\n",
    "plt.plot(XieBeni_values) \n",
    "plt.plot(Dunn_values) \n",
    "plt.title('Evolution des valeures en fonction de k')\n",
    "plt.xlabel('k')\n",
    "\n"
   ]
  },
  {
   "cell_type": "code",
   "execution_count": 214,
   "metadata": {},
   "outputs": [
    {
     "name": "stdout",
     "output_type": "stream",
     "text": [
      "[401.91538476910875]\n"
     ]
    }
   ],
   "source": [
    "print(\"Xiebeni : \", XieBeni_values)\n",
    "print(\"Dunn : \", Dunn_values)"
   ]
  },
  {
   "cell_type": "code",
   "execution_count": null,
   "metadata": {},
   "outputs": [],
   "source": []
  },
  {
   "cell_type": "code",
   "execution_count": null,
   "metadata": {},
   "outputs": [],
   "source": [
    "plt.figure()\n",
    "plt.plot(XieBeni_values) \n",
    "plt.plot(Dunn_values) \n",
    "plt.title('Evolution des valeures en fonction de k')\n",
    "plt.xlabel('k')"
   ]
  }
 ],
 "metadata": {
  "kernelspec": {
   "display_name": "Python 3",
   "language": "python",
   "name": "python3"
  },
  "language_info": {
   "codemirror_mode": {
    "name": "ipython",
    "version": 3
   },
   "file_extension": ".py",
   "mimetype": "text/x-python",
   "name": "python",
   "nbconvert_exporter": "python",
   "pygments_lexer": "ipython3",
   "version": "3.10.6"
  }
 },
 "nbformat": 4,
 "nbformat_minor": 1
}
