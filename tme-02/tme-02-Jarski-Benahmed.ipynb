{
 "cells": [
  {
   "cell_type": "markdown",
   "metadata": {},
   "source": [
    "IA & Data science (LU3IN0226) -- 2022-2023\n",
    "--------\n",
    "*&copy; Equipe pédagogique: Christophe Marsala, Olivier Schwander, Jean-Noël Vittaut.*\n"
   ]
  },
  {
   "cell_type": "markdown",
   "metadata": {},
   "source": [
    "#  Semaine 2 : algorithme des k plus proches voisins"
   ]
  },
  {
   "cell_type": "markdown",
   "metadata": {},
   "source": [
    "<font size=\"+1\" color=\"RED\">**[Q]**</font> **Indiquer dans la boîte ci-dessous vos noms et prénoms :**"
   ]
  },
  {
   "cell_type": "markdown",
   "metadata": {},
   "source": [
    "*Double-cliquer ici et insérer les noms et prénoms de votre binôme*\n",
    "\n",
    "JARSKI Paul\n",
    "\n",
    "BENAHMED Neil"
   ]
  },
  {
   "cell_type": "markdown",
   "metadata": {},
   "source": [
    "<font color=\"RED\" size=\"+1\">**[Q]**</font> **Renommer ce fichier ipython**\n",
    "\n",
    "Tout en haut de cette page, cliquer sur <tt>tme-02</tt> et rajouter à la suite de <tt>tme-02</tt> les noms des membres du binômes séparés par un tiret."
   ]
  },
  {
   "cell_type": "markdown",
   "metadata": {},
   "source": [
    "<font color=\"RED\" size=\"+1\">IMPORTANT: soumission de votre fichier final</font>\n",
    "\n",
    "**Nom à donner au fichier à poster** : *Nom1_Nom2.ipynb* \n",
    "- *Nom1* et *Nom2* : noms des membres du binôme\n",
    "- ne pas compresser ou faire une archive: il faut rendre le fichier ipython tel quel, éventuellement, si vous avez d'autres fichiers vous les rendez séparément.\n",
    "\n",
    "**Echancier pour la soumission de votre compte-rendu:**\n",
    "- le compte-rendu d'une séance doit être remis obligatoirement <font color=\"RED\">avant la séance suivante</font>.\n",
    "\n",
    "**Le compte-rendu est soumis sur la page Moodle.**"
   ]
  },
  {
   "cell_type": "markdown",
   "metadata": {},
   "source": [
    "## Présentation ##\n",
    "\n",
    "Dans ce TME, nous allons mettre en place une \"architecture\" de code nous permettant petit à petit de tester tout au long du semestre différents modèles d'apprentissage supervisé. Dans nos séances, nous allons nous restreindre au cas binaire où les étiquettes des exemples sont $+1$ ou $-1$.\n",
    "\n",
    "\n",
    "### Objectifs de ce TME\n",
    "\n",
    "Le travail à réaliser est le suivant :\n",
    "- continuer à apprendre à (bien) utiliser jupyter notebook\n",
    "- générer aléatoirement des datasets jouets pour expérimenter\n",
    "- se familiariser avec la classe `Classifier` et implémenter un premier classifieur simple\n",
    "- implémenter l'algorithme des $k$ plus proches voisins\n",
    "- réaliser des expérimentations pour étudier les performances de cet algorithme"
   ]
  },
  {
   "cell_type": "markdown",
   "metadata": {},
   "source": [
    "### Quelques commandes utiles:\n",
    "\n",
    "Remarque: les numéros de version indiqués ne sont pas forcément ceux de votre environnement ..."
   ]
  },
  {
   "cell_type": "code",
   "execution_count": 9,
   "metadata": {},
   "outputs": [
    {
     "name": "stdout",
     "output_type": "stream",
     "text": [
      "Version Python:  3.9.13 (main, Aug 25 2022, 23:26:10) \n",
      "[GCC 11.2.0]\n"
     ]
    }
   ],
   "source": [
    "# Pour connaître la version de python utilisée:\n",
    "import sys\n",
    "print(\"Version Python: \",sys.version)\n",
    "\n",
    "# une version >= 3.7 est recommandée\n",
    "\n",
    "# Voici la mienne:\n",
    "# Version Python:  3.9.13 (main, Aug 25 2022, 18:29:29) \n",
    "# [Clang 12.0.0 ]"
   ]
  },
  {
   "cell_type": "markdown",
   "metadata": {},
   "source": [
    "Pour savoir si une librairie est installée :"
   ]
  },
  {
   "cell_type": "code",
   "execution_count": 10,
   "metadata": {},
   "outputs": [
    {
     "name": "stdout",
     "output_type": "stream",
     "text": [
      "numpy                         1.21.5\n",
      "numpydoc                      1.4.0\n",
      "Note: you may need to restart the kernel to use updated packages.\n"
     ]
    }
   ],
   "source": [
    "pip list | grep numpy"
   ]
  },
  {
   "cell_type": "markdown",
   "metadata": {},
   "source": [
    "Si vous souhaitez utiliser une librairie qui n'est pas installé, revoyez le TME 1 qui donne l'instruction d'installation par pip."
   ]
  },
  {
   "cell_type": "markdown",
   "metadata": {},
   "source": [
    "Les imports suivants seront généralement nécessaires pour nos séances:"
   ]
  },
  {
   "cell_type": "code",
   "execution_count": 11,
   "metadata": {},
   "outputs": [
    {
     "name": "stdout",
     "output_type": "stream",
     "text": [
      "The autoreload extension is already loaded. To reload it, use:\n",
      "  %reload_ext autoreload\n"
     ]
    }
   ],
   "source": [
    "import numpy as np\n",
    "import pandas as pd\n",
    "from datetime import datetime as dt\n",
    "import matplotlib.pyplot as plt\n",
    "%matplotlib inline  \n",
    "\n",
    "\n",
    "# Les instructions suivantes sont TRES utile pour recharger automatiquement \n",
    "# le code modifié dans les librairies externes\n",
    "%load_ext autoreload\n",
    "%autoreload 2\n",
    "\n",
    "\n",
    "\n",
    "#shuffle de sklearn\n",
    "from sklearn.utils import shuffle"
   ]
  },
  {
   "cell_type": "markdown",
   "metadata": {},
   "source": [
    "**Remarques :**\n",
    "Sauf indication contraire, les vecteurs et les matrices seront représentés par des `np.ndarray` numpy.\n",
    "\n",
    "La construction la plus simple d'un `np.ndarray` se fait en utilisant la fonction `np.array()` de numpy.\n",
    "\n",
    "La concaténation de vecteurs pour contruire une matrice s'obtient à l'aide de la fonction `vstack` de numpy."
   ]
  },
  {
   "cell_type": "code",
   "execution_count": 13,
   "metadata": {},
   "outputs": [
    {
     "name": "stdout",
     "output_type": "stream",
     "text": [
      "Type de vecteur_1:  <class 'numpy.ndarray'>\n",
      "vecteur_1 :  [0.  1.5 4.2]\n",
      "Type de vecteur_2:  <class 'numpy.ndarray'>\n",
      "vecteur_2 :  [ 1.1   3.8  20.01]\n",
      "Type de vecteur_3:  <class 'numpy.ndarray'>\n",
      "vecteur_3 :  [ 1.1   5.3  24.21]\n",
      "Type de matrice_1:  <class 'numpy.ndarray'>\n",
      "resultat_1 : \n",
      " [[ 0.    1.5   4.2 ]\n",
      " [ 1.1   3.8  20.01]\n",
      " [ 1.1   5.3  24.21]]\n",
      "Type de resultat_2:  <class 'numpy.ndarray'>\n",
      "resultat_2 : \n",
      " [ 0.    1.5   4.2   1.1   3.8  20.01  1.1   5.3  24.21]\n"
     ]
    }
   ],
   "source": [
    "# Exemples de vecteurs (des ndarray)\n",
    "\n",
    "vecteur_1 = np.array([0, 1.5, 4.2])\n",
    "print(\"Type de vecteur_1: \",type(vecteur_1))\n",
    "print(\"vecteur_1 : \",vecteur_1)\n",
    "\n",
    "vecteur_2 = np.array([1.1, 3.8, 20.01])\n",
    "print(\"Type de vecteur_2: \",type(vecteur_2))\n",
    "print(\"vecteur_2 : \",vecteur_2)\n",
    "\n",
    "vecteur_3 = vecteur_1 + vecteur_2\n",
    "print(\"Type de vecteur_3: \",type(vecteur_3))\n",
    "print(\"vecteur_3 : \",vecteur_3)\n",
    "\n",
    "# Exemple d'utilisation de vstack (pour plus de détails, voir la doc numpy sur le web)\n",
    "resultat_1 = np.vstack( (vecteur_1, vecteur_2, vecteur_3) )\n",
    "print(\"Type de matrice_1: \",type(resultat_1))\n",
    "print(\"resultat_1 : \\n\",resultat_1)\n",
    "\n",
    "\n",
    "# On peut aussi utiliser concatenante (pour plus de détails, voir la doc numpy sur le web)\n",
    "resultat_2 = np.concatenate( (vecteur_1, vecteur_2, vecteur_3) )\n",
    "print(\"Type de resultat_2: \",type(resultat_2))\n",
    "print(\"resultat_2 : \\n\",resultat_2)\n"
   ]
  },
  {
   "cell_type": "markdown",
   "metadata": {},
   "source": [
    "## Étape 1: dataset\n",
    "\n",
    "La première étape consiste à construire un ensemble d'exemples d'apprentissage que l'on appelle par la suite simplement *dataset*. Un dataset est un ensemble de couples $\\{(x_1,y_1),...,(x_n,y_n)\\}$. \n",
    "\n",
    "Pour nos implémentations, les $x_i$ et $y_i$ seront des tableaux qui seront stockés sous la forme de <code>ndarray</code> Numpy.\n"
   ]
  },
  {
   "cell_type": "markdown",
   "metadata": {},
   "source": [
    "### Génération de données ''Jouet''\n",
    "\n",
    "Nous allons pour l'instant nous intéresser à des datasets \"jouet\" générés selon des distributions choisies à la main. \n",
    "\n",
    "Pour pouvoir visualiser nos données, nous allons nous restreindre à des dataset en 2 dimensions pour la description (entrée $x_i$ ) et l'étiquette (sortie $y_i$). \n",
    "On aura donc ici: $x_i \\in \\mathbb{R}^2$ et $y_i \\in \\{-1;+1\\}$."
   ]
  },
  {
   "cell_type": "markdown",
   "metadata": {},
   "source": [
    "#### Tirage aléatoire selon une loi uniforme\n",
    "\n",
    "Commençons par un dataset dont les exemples sont générés par un tirage aléatoire selon une loi uniforme.\n",
    "\n",
    "Pour cela, nous utiliserons la fonction `numpy.random.uniform`:\n",
    "\n",
    "https://numpy.org/doc/stable/reference/random/generated/numpy.random.uniform.html\n",
    "\n",
    "Cette fonction renvoie :\n",
    "- soit un nombre réel obtenu par un tirage aléatoire\n",
    "- soit `ndarray` dont les dimensions ont été précisées et qui contient un ensemble de nombres réels tirés aléatoirement"
   ]
  },
  {
   "cell_type": "code",
   "execution_count": 14,
   "metadata": {},
   "outputs": [
    {
     "data": {
      "text/plain": [
       "0.8773730719279554"
      ]
     },
     "execution_count": 14,
     "metadata": {},
     "output_type": "execute_result"
    }
   ],
   "source": [
    "np.random.uniform()  # rend un réel aléatoire de l'intervalle [0.0, 1.0[ (tirage uniforme)"
   ]
  },
  {
   "cell_type": "code",
   "execution_count": 15,
   "metadata": {},
   "outputs": [
    {
     "data": {
      "text/plain": [
       "1.8892234130504537"
      ]
     },
     "execution_count": 15,
     "metadata": {},
     "output_type": "execute_result"
    }
   ],
   "source": [
    "np.random.uniform(-7,5) # rend un réel aléatoire de l'intervalle [-7, 5[ (tirage uniforme)"
   ]
  },
  {
   "cell_type": "code",
   "execution_count": 16,
   "metadata": {},
   "outputs": [
    {
     "data": {
      "text/plain": [
       "array([[ 1.36418889,  1.42980901, -2.68610619],\n",
       "       [-3.47689787,  2.71233387,  2.72136074],\n",
       "       [ 3.40486782,  3.95888663, -0.86389121],\n",
       "       [-0.98180446,  2.57954215,  0.79956717]])"
      ]
     },
     "execution_count": 16,
     "metadata": {},
     "output_type": "execute_result"
    }
   ],
   "source": [
    "np.random.uniform(-7,5,(4,3)) # rend un tableau de 4x3 réels aléatoires pris dans [-7, 5[ (tirage uniforme)"
   ]
  },
  {
   "cell_type": "markdown",
   "metadata": {},
   "source": [
    "Pour générer aléatoirement les étiquettes (aussi appelées <i>labels</i> ou <i>classes</i>) (qui sont donc des valeurs de {-1, +1}), une contrainte supplémentaire s'ajoute: on souhaite que dans le dataset, il y ait autant d'exemples de chaque classe.\n",
    "\n",
    "Ainsi, si on veut générer un ensemble de 20 labels de telle sorte qu'il y ait exactement 10 valeurs -1 et 10 valeurs +1 dans cet ensemble, la méthode la plus simple est de construire une liste en additionnant une liste de 10 valeurs -1 et une liste de 10 valeurs +1. Pour notre implémentation, cette liste doit ensuite être convertie en `ndarray`."
   ]
  },
  {
   "cell_type": "code",
   "execution_count": 17,
   "metadata": {},
   "outputs": [
    {
     "name": "stdout",
     "output_type": "stream",
     "text": [
      "type : <class 'numpy.ndarray'>\n"
     ]
    },
    {
     "data": {
      "text/plain": [
       "array([-1, -1, -1, -1, -1, -1, -1, -1, -1, -1,  1,  1,  1,  1,  1,  1,  1,\n",
       "        1,  1,  1])"
      ]
     },
     "execution_count": 17,
     "metadata": {},
     "output_type": "execute_result"
    }
   ],
   "source": [
    "Lnd = np.asarray([-1 for i in range(0,10)] + [+1 for i in range(0,10)])\n",
    "print(\"type :\", type(Lnd))\n",
    "Lnd"
   ]
  },
  {
   "cell_type": "markdown",
   "metadata": {},
   "source": [
    "Lors de la mise au point d'un programme qui utilise l'aléatoire, il est important de pouvoir travailler sur des séquences aléatoires qui soient toujours les mêmes.\n",
    "Pour cela, on doit préciser une initialisation de la séquence aléatoire, cela se fait en utilisant la commande `numpy.random.seed` :\n",
    "\n",
    "https://numpy.org/doc/stable/reference/random/generated/numpy.random.seed.html\n",
    "\n",
    "Cette fonction permet de donner une valeur (que l'on nomme la *graine* de la séquence) pour initialiser la séquence de tirages aléatoires, ainsi, avec la même valeur donnée on obtiendra toujours la même séquence de tirages aléatoires.\n",
    "\n",
    "Par exemple :"
   ]
  },
  {
   "cell_type": "code",
   "execution_count": 18,
   "metadata": {},
   "outputs": [
    {
     "data": {
      "text/plain": [
       "array([-2.50919762,  9.01428613,  4.63987884,  1.97316968, -6.87962719,\n",
       "       -6.88010959, -8.83832776,  7.32352292,  2.02230023,  4.16145156])"
      ]
     },
     "execution_count": 18,
     "metadata": {},
     "output_type": "execute_result"
    }
   ],
   "source": [
    "np.random.seed(42)\n",
    "np.random.uniform(-10,10,10)"
   ]
  },
  {
   "cell_type": "code",
   "execution_count": 19,
   "metadata": {},
   "outputs": [
    {
     "data": {
      "text/plain": [
       "array([-2.50919762,  9.01428613,  4.63987884,  1.97316968, -6.87962719,\n",
       "       -6.88010959, -8.83832776,  7.32352292,  2.02230023,  4.16145156])"
      ]
     },
     "execution_count": 19,
     "metadata": {},
     "output_type": "execute_result"
    }
   ],
   "source": [
    "np.random.seed(42)\n",
    "np.random.uniform(-10,10,10)"
   ]
  },
  {
   "cell_type": "markdown",
   "metadata": {},
   "source": [
    "<font color=\"RED\" size=\"+1\">**[Q]**</font> En utilisant la fonction précédente, créer 2 variables :\n",
    "- `data1_desc` : qui est un tableau de 100 exemples de dimension 2 dont les valeurs pour chaque dimension sont tirées aléatoirement dans l'intervalle [-5,5[ \n",
    "- `data1_label` : qui est un tableau de 100 entiers de {-1,+1} tirés aléatoirement de façon uniformes et tel qu'il y ait autant de valeurs +1 que de valeurs -1."
   ]
  },
  {
   "cell_type": "code",
   "execution_count": 20,
   "metadata": {},
   "outputs": [
    {
     "data": {
      "text/plain": [
       "array([-1, -1, -1, -1, -1, -1, -1, -1, -1, -1, -1, -1, -1, -1, -1, -1, -1,\n",
       "       -1, -1, -1, -1, -1, -1, -1, -1, -1, -1, -1, -1, -1, -1, -1, -1, -1,\n",
       "       -1, -1, -1, -1, -1, -1, -1, -1, -1, -1, -1, -1, -1, -1, -1, -1,  1,\n",
       "        1,  1,  1,  1,  1,  1,  1,  1,  1,  1,  1,  1,  1,  1,  1,  1,  1,\n",
       "        1,  1,  1,  1,  1,  1,  1,  1,  1,  1,  1,  1,  1,  1,  1,  1,  1,\n",
       "        1,  1,  1,  1,  1,  1,  1,  1,  1,  1,  1,  1,  1,  1,  1])"
      ]
     },
     "execution_count": 20,
     "metadata": {},
     "output_type": "execute_result"
    }
   ],
   "source": [
    "np.random.seed(42)   # on prend 42 comme graine\n",
    "\n",
    "# ------------------------ Décommenter et compléter les lignes suivantes :\n",
    "data1_desc = np.random.uniform(-5,5,(100,2))\n",
    "\n",
    "data1_label = np.asarray([-1 for i in range(0,50)] + [+1 for i in range(0,50)])\n",
    "#np.random.shuffle(data1_label) \n",
    "data1_label "
   ]
  },
  {
   "cell_type": "code",
   "execution_count": 21,
   "metadata": {},
   "outputs": [
    {
     "data": {
      "text/plain": [
       "100"
      ]
     },
     "execution_count": 21,
     "metadata": {},
     "output_type": "execute_result"
    }
   ],
   "source": [
    "len(data1_desc) # nombre de lignes de data_desc"
   ]
  },
  {
   "cell_type": "code",
   "execution_count": 23,
   "metadata": {},
   "outputs": [
    {
     "data": {
      "text/plain": [
       "(100, 2)"
      ]
     },
     "execution_count": 23,
     "metadata": {},
     "output_type": "execute_result"
    }
   ],
   "source": [
    "data1_desc.shape # Dimensions de data_desc"
   ]
  },
  {
   "cell_type": "code",
   "execution_count": 24,
   "metadata": {},
   "outputs": [
    {
     "data": {
      "text/plain": [
       "array([[-1.25459881,  4.50714306],\n",
       "       [ 2.31993942,  0.98658484],\n",
       "       [-3.4398136 , -3.4400548 ],\n",
       "       [-4.41916388,  3.66176146],\n",
       "       [ 1.01115012,  2.08072578]])"
      ]
     },
     "execution_count": 24,
     "metadata": {},
     "output_type": "execute_result"
    }
   ],
   "source": [
    "data1_desc[0:5,:]"
   ]
  },
  {
   "cell_type": "code",
   "execution_count": 25,
   "metadata": {},
   "outputs": [
    {
     "data": {
      "text/plain": [
       "array([4.85650454, 4.86886937])"
      ]
     },
     "execution_count": 25,
     "metadata": {},
     "output_type": "execute_result"
    }
   ],
   "source": [
    "# maximum des valeurs par colonne:\n",
    "data1_desc.max(0)"
   ]
  },
  {
   "cell_type": "code",
   "execution_count": 26,
   "metadata": {},
   "outputs": [
    {
     "data": {
      "text/plain": [
       "array([-4.94477883, -4.83412171])"
      ]
     },
     "execution_count": 26,
     "metadata": {},
     "output_type": "execute_result"
    }
   ],
   "source": [
    "# minimum des valeurs par colonne:\n",
    "data1_desc.min(0)"
   ]
  },
  {
   "cell_type": "code",
   "execution_count": 27,
   "metadata": {},
   "outputs": [
    {
     "data": {
      "text/plain": [
       "array([-1, -1, -1, -1, -1])"
      ]
     },
     "execution_count": 27,
     "metadata": {},
     "output_type": "execute_result"
    }
   ],
   "source": [
    "data1_label[0:5]"
   ]
  },
  {
   "cell_type": "markdown",
   "metadata": {},
   "source": [
    "<font color=\"RED\" size=\"+1\">**[Q]**</font> Ecrire la fonction `genere_dataset_uniform` qui prend en argument le nombre de dimensions $p$, le nombre $n$  d'exemples **de chaque classe**, ainsi que 2 valeurs pour les bornes inférieure et supérieure des valeurs de description, et qui renvoie un tuple dont le premier composant est un `ndarray` contenant les vecteurs de description générés aléatoirement en suivant une loi uniforme et le deuxième composant est un `ndarray` contenant les labels correspondant (en respectant l'équirépartition des labels).\n",
    "On fera l'hypothèse que la borne inférieure est plus petite que la borne supérieure.\n",
    "\n"
   ]
  },
  {
   "cell_type": "code",
   "execution_count": 28,
   "metadata": {},
   "outputs": [],
   "source": [
    "# ------------------------ A COMPLETER :\n",
    "def genere_dataset_uniform(p, n, binf=-1, bsup=1):\n",
    "    \"\"\" int * int * float^2 -> tuple[ndarray, ndarray]\n",
    "        Hyp: n est pair\n",
    "        p: nombre de dimensions de la description\n",
    "        n: nombre d'exemples de chaque classe\n",
    "        les valeurs générées uniformément sont dans [binf,bsup]\n",
    "    \"\"\"\n",
    "    #raise NotImplementedError(\"Please Implement this method\")\n",
    "     \n",
    "    l = np.asarray([-1 for i in range(0,n)] + [+1 for i in range(0,n)])\n",
    "    #np.random.shuffle(l) ????\n",
    "    return (np.random.uniform(binf, bsup,(n*2,p)), l) #n*2 car n exemples de CHAQUE classe"
   ]
  },
  {
   "cell_type": "code",
   "execution_count": 29,
   "metadata": {},
   "outputs": [
    {
     "name": "stdout",
     "output_type": "stream",
     "text": [
      "Dimensions de data2_desc:  (20, 2)\n",
      "Nombre de lignes de data2_lab:  20\n"
     ]
    }
   ],
   "source": [
    "# une méthode utile de mise au point de la fonction est d'utiliser la même graine de génération de\n",
    "# la séquence aléatoire (cela permet d'obtenir la même séquence de valeurs générées par np.random):\n",
    "np.random.seed(42)   # on prend 42 comme graine\n",
    "\n",
    "# Génération d'un dataset de 20 exemples :\n",
    "data2_desc, data2_label = genere_dataset_uniform(2,10,-5,5)\n",
    "\n",
    "print(\"Dimensions de data2_desc: \",data2_desc.shape)\n",
    "print(\"Nombre de lignes de data2_lab: \",len(data2_label))"
   ]
  },
  {
   "cell_type": "code",
   "execution_count": 30,
   "metadata": {},
   "outputs": [
    {
     "data": {
      "text/plain": [
       "array([[-1.25459881,  4.50714306],\n",
       "       [ 2.31993942,  0.98658484],\n",
       "       [-3.4398136 , -3.4400548 ],\n",
       "       [-4.41916388,  3.66176146],\n",
       "       [ 1.01115012,  2.08072578]])"
      ]
     },
     "execution_count": 30,
     "metadata": {},
     "output_type": "execute_result"
    }
   ],
   "source": [
    "# les 5 premiers exemples :\n",
    "data2_desc[0:5,:]"
   ]
  },
  {
   "cell_type": "code",
   "execution_count": 31,
   "metadata": {},
   "outputs": [
    {
     "data": {
      "text/plain": [
       "array([-1, -1, -1, -1, -1])"
      ]
     },
     "execution_count": 31,
     "metadata": {},
     "output_type": "execute_result"
    }
   ],
   "source": [
    "data2_label[0:5]"
   ]
  },
  {
   "cell_type": "markdown",
   "metadata": {},
   "source": [
    "**Remarque:** on va utiliser ce dataset `data2` de 20 exemples par la suite pour mettre au point nos fonctions."
   ]
  },
  {
   "cell_type": "markdown",
   "metadata": {},
   "source": [
    "\n",
    "Un dataset en 2 dimensions peut être affiché en utilisant les fonctions de la librairie `matplotlib` et plus précisément la fonction `matplotlib.pyplot.scatter` permettant de dessiner un nuage de points: \n",
    "\n",
    "https://matplotlib.org/2.0.2/api/pyplot_api.html\n",
    "\n",
    "Par exemple :"
   ]
  },
  {
   "cell_type": "code",
   "execution_count": 32,
   "metadata": {},
   "outputs": [
    {
     "data": {
      "text/plain": [
       "<matplotlib.collections.PathCollection at 0x7f11b7bb4280>"
      ]
     },
     "execution_count": 32,
     "metadata": {},
     "output_type": "execute_result"
    },
    {
     "data": {
      "image/png": "[encoded data removed]",
      "text/plain": [
       "<Figure size 640x480 with 1 Axes>"
      ]
     },
     "metadata": {},
     "output_type": "display_data"
    }
   ],
   "source": [
    "# Affichage de l'ensemble des exemples :\n",
    "plt.scatter(data2_desc[:,0],data2_desc[:,1],marker='o',color='red')"
   ]
  },
  {
   "cell_type": "code",
   "execution_count": 33,
   "metadata": {},
   "outputs": [
    {
     "data": {
      "text/plain": [
       "{'aliceblue': '#F0F8FF',\n",
       " 'antiquewhite': '#FAEBD7',\n",
       " 'aqua': '#00FFFF',\n",
       " 'aquamarine': '#7FFFD4',\n",
       " 'azure': '#F0FFFF',\n",
       " 'beige': '#F5F5DC',\n",
       " 'bisque': '#FFE4C4',\n",
       " 'black': '#000000',\n",
       " 'blanchedalmond': '#FFEBCD',\n",
       " 'blue': '#0000FF',\n",
       " 'blueviolet': '#8A2BE2',\n",
       " 'brown': '#A52A2A',\n",
       " 'burlywood': '#DEB887',\n",
       " 'cadetblue': '#5F9EA0',\n",
       " 'chartreuse': '#7FFF00',\n",
       " 'chocolate': '#D2691E',\n",
       " 'coral': '#FF7F50',\n",
       " 'cornflowerblue': '#6495ED',\n",
       " 'cornsilk': '#FFF8DC',\n",
       " 'crimson': '#DC143C',\n",
       " 'cyan': '#00FFFF',\n",
       " 'darkblue': '#00008B',\n",
       " 'darkcyan': '#008B8B',\n",
       " 'darkgoldenrod': '#B8860B',\n",
       " 'darkgray': '#A9A9A9',\n",
       " 'darkgreen': '#006400',\n",
       " 'darkgrey': '#A9A9A9',\n",
       " 'darkkhaki': '#BDB76B',\n",
       " 'darkmagenta': '#8B008B',\n",
       " 'darkolivegreen': '#556B2F',\n",
       " 'darkorange': '#FF8C00',\n",
       " 'darkorchid': '#9932CC',\n",
       " 'darkred': '#8B0000',\n",
       " 'darksalmon': '#E9967A',\n",
       " 'darkseagreen': '#8FBC8F',\n",
       " 'darkslateblue': '#483D8B',\n",
       " 'darkslategray': '#2F4F4F',\n",
       " 'darkslategrey': '#2F4F4F',\n",
       " 'darkturquoise': '#00CED1',\n",
       " 'darkviolet': '#9400D3',\n",
       " 'deeppink': '#FF1493',\n",
       " 'deepskyblue': '#00BFFF',\n",
       " 'dimgray': '#696969',\n",
       " 'dimgrey': '#696969',\n",
       " 'dodgerblue': '#1E90FF',\n",
       " 'firebrick': '#B22222',\n",
       " 'floralwhite': '#FFFAF0',\n",
       " 'forestgreen': '#228B22',\n",
       " 'fuchsia': '#FF00FF',\n",
       " 'gainsboro': '#DCDCDC',\n",
       " 'ghostwhite': '#F8F8FF',\n",
       " 'gold': '#FFD700',\n",
       " 'goldenrod': '#DAA520',\n",
       " 'gray': '#808080',\n",
       " 'green': '#008000',\n",
       " 'greenyellow': '#ADFF2F',\n",
       " 'grey': '#808080',\n",
       " 'honeydew': '#F0FFF0',\n",
       " 'hotpink': '#FF69B4',\n",
       " 'indianred': '#CD5C5C',\n",
       " 'indigo': '#4B0082',\n",
       " 'ivory': '#FFFFF0',\n",
       " 'khaki': '#F0E68C',\n",
       " 'lavender': '#E6E6FA',\n",
       " 'lavenderblush': '#FFF0F5',\n",
       " 'lawngreen': '#7CFC00',\n",
       " 'lemonchiffon': '#FFFACD',\n",
       " 'lightblue': '#ADD8E6',\n",
       " 'lightcoral': '#F08080',\n",
       " 'lightcyan': '#E0FFFF',\n",
       " 'lightgoldenrodyellow': '#FAFAD2',\n",
       " 'lightgray': '#D3D3D3',\n",
       " 'lightgreen': '#90EE90',\n",
       " 'lightgrey': '#D3D3D3',\n",
       " 'lightpink': '#FFB6C1',\n",
       " 'lightsalmon': '#FFA07A',\n",
       " 'lightseagreen': '#20B2AA',\n",
       " 'lightskyblue': '#87CEFA',\n",
       " 'lightslategray': '#778899',\n",
       " 'lightslategrey': '#778899',\n",
       " 'lightsteelblue': '#B0C4DE',\n",
       " 'lightyellow': '#FFFFE0',\n",
       " 'lime': '#00FF00',\n",
       " 'limegreen': '#32CD32',\n",
       " 'linen': '#FAF0E6',\n",
       " 'magenta': '#FF00FF',\n",
       " 'maroon': '#800000',\n",
       " 'mediumaquamarine': '#66CDAA',\n",
       " 'mediumblue': '#0000CD',\n",
       " 'mediumorchid': '#BA55D3',\n",
       " 'mediumpurple': '#9370DB',\n",
       " 'mediumseagreen': '#3CB371',\n",
       " 'mediumslateblue': '#7B68EE',\n",
       " 'mediumspringgreen': '#00FA9A',\n",
       " 'mediumturquoise': '#48D1CC',\n",
       " 'mediumvioletred': '#C71585',\n",
       " 'midnightblue': '#191970',\n",
       " 'mintcream': '#F5FFFA',\n",
       " 'mistyrose': '#FFE4E1',\n",
       " 'moccasin': '#FFE4B5',\n",
       " 'navajowhite': '#FFDEAD',\n",
       " 'navy': '#000080',\n",
       " 'oldlace': '#FDF5E6',\n",
       " 'olive': '#808000',\n",
       " 'olivedrab': '#6B8E23',\n",
       " 'orange': '#FFA500',\n",
       " 'orangered': '#FF4500',\n",
       " 'orchid': '#DA70D6',\n",
       " 'palegoldenrod': '#EEE8AA',\n",
       " 'palegreen': '#98FB98',\n",
       " 'paleturquoise': '#AFEEEE',\n",
       " 'palevioletred': '#DB7093',\n",
       " 'papayawhip': '#FFEFD5',\n",
       " 'peachpuff': '#FFDAB9',\n",
       " 'peru': '#CD853F',\n",
       " 'pink': '#FFC0CB',\n",
       " 'plum': '#DDA0DD',\n",
       " 'powderblue': '#B0E0E6',\n",
       " 'purple': '#800080',\n",
       " 'rebeccapurple': '#663399',\n",
       " 'red': '#FF0000',\n",
       " 'rosybrown': '#BC8F8F',\n",
       " 'royalblue': '#4169E1',\n",
       " 'saddlebrown': '#8B4513',\n",
       " 'salmon': '#FA8072',\n",
       " 'sandybrown': '#F4A460',\n",
       " 'seagreen': '#2E8B57',\n",
       " 'seashell': '#FFF5EE',\n",
       " 'sienna': '#A0522D',\n",
       " 'silver': '#C0C0C0',\n",
       " 'skyblue': '#87CEEB',\n",
       " 'slateblue': '#6A5ACD',\n",
       " 'slategray': '#708090',\n",
       " 'slategrey': '#708090',\n",
       " 'snow': '#FFFAFA',\n",
       " 'springgreen': '#00FF7F',\n",
       " 'steelblue': '#4682B4',\n",
       " 'tan': '#D2B48C',\n",
       " 'teal': '#008080',\n",
       " 'thistle': '#D8BFD8',\n",
       " 'tomato': '#FF6347',\n",
       " 'turquoise': '#40E0D0',\n",
       " 'violet': '#EE82EE',\n",
       " 'wheat': '#F5DEB3',\n",
       " 'white': '#FFFFFF',\n",
       " 'whitesmoke': '#F5F5F5',\n",
       " 'yellow': '#FFFF00',\n",
       " 'yellowgreen': '#9ACD32'}"
      ]
     },
     "execution_count": 33,
     "metadata": {},
     "output_type": "execute_result"
    }
   ],
   "source": [
    "# Remarque : le nom des couleur est standardisé, pour connaître des noms de couleur possible:\n",
    "import matplotlib as mpl\n",
    "\n",
    "# ---------------> Décommenter la ligne suivante \n",
    "mpl.colors.cnames\n",
    "\n",
    "# utiliser internet pour visualiser ces couleurs..."
   ]
  },
  {
   "cell_type": "markdown",
   "metadata": {},
   "source": [
    "Il est intéressant de  faire un affichage des points qui tient compte de leur étiquette et utiliser des couleurs différentes pour afficher les points. Pour faire cela, il faut commencer par séparer les exemples selon leur étiquette : ceux de label -1 et ceux de label +1. On utilise pour cela la puissance des `ndarray` pour faire des sélections (slices)."
   ]
  },
  {
   "cell_type": "code",
   "execution_count": 34,
   "metadata": {},
   "outputs": [],
   "source": [
    "# Extraction des exemples de classe -1:\n",
    "data2_negatifs = data2_desc[data2_label == -1]\n",
    "# Extraction des exemples de classe +1:\n",
    "data2_positifs = data2_desc[data2_label == +1]"
   ]
  },
  {
   "cell_type": "markdown",
   "metadata": {},
   "source": [
    "On peut alors afficher les points en leur donnant une marque (''marker'') différente (la couleur du marqueur est déterminée automatiquement)."
   ]
  },
  {
   "cell_type": "code",
   "execution_count": 35,
   "metadata": {
    "scrolled": true
   },
   "outputs": [
    {
     "data": {
      "text/plain": [
       "<matplotlib.collections.PathCollection at 0x7f11b7aaff10>"
      ]
     },
     "execution_count": 35,
     "metadata": {},
     "output_type": "execute_result"
    },
    {
     "data": {
      "image/png": "[encoded data removed]",
      "text/plain": [
       "<Figure size 640x480 with 1 Axes>"
      ]
     },
     "metadata": {},
     "output_type": "display_data"
    }
   ],
   "source": [
    "# Affichage de l'ensemble des exemples :\n",
    "plt.scatter(data2_negatifs[:,0],data2_negatifs[:,1],marker='o', color=\"red\") # 'o' rouge pour la classe -1\n",
    "plt.scatter(data2_positifs[:,0],data2_positifs[:,1],marker='x', color=\"blue\") # 'x' bleu pour la classe +1"
   ]
  },
  {
   "cell_type": "markdown",
   "metadata": {},
   "source": [
    "<font color=\"RED\" size=\"+1\">**[Q]**</font> En utilisant les instructions précédentes, écrire la fonction `plot2DSet` qui, étant donné deux `ndarray`, un donnant des descriptions et l'autre les labels correspondants, affiche une représentation graphique de ce jeu de données."
   ]
  },
  {
   "cell_type": "code",
   "execution_count": 36,
   "metadata": {},
   "outputs": [],
   "source": [
    "# ------------------------ A COMPLETER :\n",
    "def plot2DSet(desc,labels):    \n",
    "    \"\"\" ndarray * ndarray -> affichage\n",
    "        la fonction doit utiliser la couleur 'red' pour la classe -1 et 'blue' pour la +1\n",
    "    \"\"\"\n",
    "   #TODO: A Compléter    \n",
    "    #raise NotImplementedError(\"Please Implement this method\")\n",
    "    neg = desc[labels == -1]\n",
    "    pos = desc[labels == +1]\n",
    "    plt.scatter(neg[:,0],neg[:,1],marker='o',color='red')\n",
    "    plt.scatter(pos[:,0],pos[:,1],marker='x',color='blue')\n",
    "    \n",
    "\n"
   ]
  },
  {
   "cell_type": "code",
   "execution_count": 37,
   "metadata": {
    "scrolled": true
   },
   "outputs": [
    {
     "data": {
      "image/png": "[encoded data removed]",
      "text/plain": [
       "<Figure size 640x480 with 1 Axes>"
      ]
     },
     "metadata": {},
     "output_type": "display_data"
    }
   ],
   "source": [
    "# si tout est ok, l'appel suivant affiche exactement la même chose que précédemment\n",
    "plot2DSet(data2_desc,data2_label)"
   ]
  },
  {
   "cell_type": "markdown",
   "metadata": {},
   "source": [
    "#### Tirage aléatoire selon une loi normale\n",
    "\n",
    "\n",
    "Pour obtenir un dataset plus ''réaliste'', la loi uniforme n'est pas idéale, il est préférable de générer des dataset en utilisant un tirage aléatoire selon une loi normale (ie. représentée par une gaussienne).\n",
    "\n",
    "Pour cela, nous utiliserons la fonction `numpy.random.multivariate_normal` :\n",
    "\n",
    "https://numpy.org/doc/stable/reference/random/generated/numpy.random.multivariate_normal.html\n"
   ]
  },
  {
   "cell_type": "markdown",
   "metadata": {},
   "source": [
    "Dans ce qui suit, on considère toujours un dataset en 2 dimensions (entrée) et 1 dimension (sortie) comme précédemment.\n",
    "\n",
    "La façon de procéder avec un tel tirage est différente de celle utilisée dans le cas uniforme: \n",
    "- on commence par tirer aléatoirement tous les exemples de la classe -1\n",
    "- puis on tire aléatoirement tous les exemples de la classe +1\n",
    "- on fusionne ces 2 ensembles en les mettant bout à bout\n",
    "- le tableau des labels est donc facile à construire: d'abord les -1 puis les +1\n"
   ]
  },
  {
   "cell_type": "markdown",
   "metadata": {},
   "source": [
    "<font color=\"RED\" size=\"+1\">**[Q]**</font> Ecrire la fonction <tt>genere_dataset_gaussian</tt> qui, étant donné 5 arguments:\n",
    "- `positive_center` est le centre de la gaussienne des points positifs (vecteur de taille 2)\n",
    "- `positive_sigma` est la variance de la gaussienne des points positifs (sous forme de matrice 2*2)\n",
    "- `negative_center` est le centre de la gaussienne des points négative (vecteur de taille 2)\n",
    "- `negative_sigma` est la variance de la gaussienne des points négative (sous forme de matrice 2*2)\n",
    "- `nb_points` est le nombre de points de chaque classe à générer\n",
    "\n",
    "rend un dataset généré aléatoirement en suivant une loi normale."
   ]
  },
  {
   "cell_type": "code",
   "execution_count": 38,
   "metadata": {},
   "outputs": [],
   "source": [
    "# ------------------------ A COMPLETER :\n",
    "\n",
    "def genere_dataset_gaussian(positive_center, positive_sigma, negative_center, negative_sigma, nb_points):\n",
    "    \"\"\" les valeurs générées suivent une loi normale\n",
    "        rend un tuple (data_desc, data_labels)\n",
    "    \"\"\"\n",
    "    #raise NotImplementedError(\"Please Implement this method\")\n",
    "    neg = np.random.multivariate_normal(mean=negative_center, cov=negative_sigma, size=nb_points)\n",
    "    pos = np.random.multivariate_normal(mean=positive_center, cov=positive_sigma, size=nb_points)\n",
    "    data_desc = np.concatenate([neg, pos])\n",
    "    data_labels = np.asarray([-1 for i in range(0,nb_points)] + [+1 for i in range(0,nb_points)])\n",
    "    \n",
    "    return (data_desc, data_labels)\n",
    "    "
   ]
  },
  {
   "cell_type": "markdown",
   "metadata": {},
   "source": [
    "On utilise ensuite cette fonction pour générer un nouveau dataset de 100 exemples:"
   ]
  },
  {
   "cell_type": "code",
   "execution_count": 39,
   "metadata": {},
   "outputs": [
    {
     "name": "stdout",
     "output_type": "stream",
     "text": [
      "Taille du dataset généré : (100, 2) exemples\n"
     ]
    },
    {
     "data": {
      "image/png": "[encoded data removed]",
      "text/plain": [
       "<Figure size 640x480 with 1 Axes>"
      ]
     },
     "metadata": {},
     "output_type": "display_data"
    }
   ],
   "source": [
    "# Exemple d'utilisation:\n",
    "np.random.seed(42)   # on prend 42 comme graine\n",
    "\n",
    "data_gauss_desc, data_gauss_label = genere_dataset_gaussian(np.array([1,1]),np.array([[1,0],[0,1]]),np.array([-0.5,-1]),np.array([[1,0],[0,1]]),50)\n",
    "\n",
    "print(\"Taille du dataset généré :\", np.shape(data_gauss_desc), \"exemples\")\n",
    "\n",
    "# Affichage :\n",
    "plot2DSet(data_gauss_desc, data_gauss_label)\n"
   ]
  },
  {
   "cell_type": "code",
   "execution_count": 40,
   "metadata": {},
   "outputs": [
    {
     "data": {
      "text/plain": [
       "'Nombre de lignes: 100'"
      ]
     },
     "execution_count": 40,
     "metadata": {},
     "output_type": "execute_result"
    }
   ],
   "source": [
    "\"Nombre de lignes: \" + str(len(data_gauss_desc))"
   ]
  },
  {
   "cell_type": "code",
   "execution_count": 41,
   "metadata": {},
   "outputs": [
    {
     "name": "stdout",
     "output_type": "stream",
     "text": [
      "Vecteur v:  [-0.25091976  0.90142861]\n",
      "Norme euclidienne de v:  0.935699883042433\n",
      "Un autre vecteur v2:  [0.5 0.5] \tet sa norme:  0.7071067811865476\n",
      "Produit scalaire de v avec v2:  0.32525442525727866\n",
      "Un dernier vecteur v3:  [-0.26816265  0.96337365] \tet sa norme:  1.0\n"
     ]
    }
   ],
   "source": [
    "# Quelques exemples et fonctions utiles :\n",
    "np.random.seed(42)\n",
    "v = np.random.uniform(-1,1,2)\n",
    "\n",
    "print(\"Vecteur v: \",v)\n",
    "# Quelques fonctions utiles:Paul\n",
    "\n",
    "# norme euclidienne de v:\n",
    "print(\"Norme euclidienne de v: \",np.linalg.norm(v))\n",
    "\n",
    "v2 = np.array([0.5, 0.5])\n",
    "print(\"Un autre vecteur v2: \",v2,\"\\tet sa norme: \",np.linalg.norm(v2))\n",
    "\n",
    "# produit scalaire de v avec un autre vecteur:\n",
    "print(\"Produit scalaire de v avec v2: \", np.dot(v,v2))\n",
    "\n",
    "v3 = v / np.linalg.norm(v)\n",
    "print(\"Un dernier vecteur v3: \",v3,\"\\tet sa norme: \",np.linalg.norm(v3))\n"
   ]
  },
  {
   "cell_type": "markdown",
   "metadata": {},
   "source": [
    "## Étape 2: les classifieurs\n",
    "\n",
    "Un classifieur (binaire dans ce cours) permet, pour chaque point d'entrée donné, de calculer un **score** (qui est une valeur de $\\mathbb{R}$) pour déterminer l'étiquette d'un exemple: si le score est strictement négatif, la donnée est associée à l'étiquette $-1$, sinon elle est associée à l'étiquette $+1$. \n",
    "\n",
    "\n",
    "### Représentation orientée objets\n",
    "\n",
    "Pour implémenter nos algorithmes d'apprentissage et pour représenter les données, nous allons utiliser quelques éléments de programmation orientée objet (POO) qu'autorise le langage Python. \n",
    "\n",
    "Si vous ne connaissez rien à la POO, il est fortement conseillé de vous familiariser avec elle, par exemple en commençant par lire une documentation ou suivre un tutorial sur le web (par exemple, http://apprendre-python.com/page-apprendre-programmation-orientee-objet-poo-classes-python-cours-debutants).\n"
   ]
  },
  {
   "cell_type": "markdown",
   "metadata": {},
   "source": [
    "### La classe Classifier\n",
    "\n",
    "<div class=\"alert alert-block alert-warning\">\n",
    "Les différents classifieurs que l'on va implémenter seront dérivés d'une classe unique : la classe `Classifier` qui est donnée ci-dessous. Pour nous, cette classe est l'équivalent une classe \"abstraite\" de Java, elle devra être dérivée par héritage pour définir des classifieurs particuliers qui seront vus ce semestre (knn, perceptron, arbres de décision, etc.).\n",
    "\n",
    "Cette classe `Classifier` contient 5 méthodes:\n",
    "- `__init__`: qui permet d'initialiser les paramètres du classifieur et qui sera donc propre à chaque classifieur. Les classes filles étendront donc cette méthode en rajoutant les paramètres qui les concernent. Le paramètre obligatoire à donner à la création d'un classifieur est le nombre de dimensions des données qu'il aura à traiter.\n",
    "- `train`: c'est la méthode qui permet d'entraîner le modèle, on doit donc donner en argument le dataset qui sert à l'entraînement.\n",
    "- `score`: cette méthode est utilisée une fois le classifieur entrainé. Elle prend en argument la description d'un exemple et elle rend un score (une valeur de $\\mathbb{R}$).\n",
    "- `predict`: cette méthode, comme la précédente, s'utilise une fois le classifieur entraîné. Elle rend $\\hat y$, le label (-1 ou +1) qui est prédit par le classifieur pour la description de l'exemple donnée en argument. Généralement, cette valeur de prédiction $\\hat y$ s'obtient à partir du score: si le score est strictement négatif $\\hat y$ vaut  $-1$, sinon il vaut $+1$.\n",
    "- `accuracy`: comme les 2 précédentes, cette méthode s'utilise une fois le classifieur entraîné. Elle permet de calculer la qualité du classifieur sur un dataset donné, cette qualité est mesurée par le taux de bonne classification du classifieur sur le dataset. C'est donc une valeur de $[0,1]$ qui s'obtient divisant le nombre d'exemples du dataset qui sont bien classés par le classifieur par le nombre total d'exemples du dataset.\n",
    "\n",
    "Les méthodes `train`, `score` et `predict` ne seront pas définies dans la classe `Classifier` mais dans les classes qui hériteront ce cette classe car ces méthodes dépendent du modèle que l'on choisira d'implémenter.\n",
    "\n",
    "Par contre, la fonction `accuracy` peut être définie dès maintenant dans cette classe `Classifier`.\n",
    "</div>"
   ]
  },
  {
   "cell_type": "markdown",
   "metadata": {},
   "source": [
    "<font color=\"RED\" size=\"+1\">**[Q]**</font> Compléter la classe `Classifier` ci-dessous en donnant l'implémentation de la fonction `accuracy`. Penser à déjà bien examiner les méthodes existantes dans la classe (et que l'on peut utiliser avant qu'elles soient implémentées)."
   ]
  },
  {
   "cell_type": "code",
   "execution_count": 42,
   "metadata": {},
   "outputs": [],
   "source": [
    "# ------------------------ A COMPLETER :\n",
    "class Classifier:\n",
    "    \"\"\" Classe (abstraite) pour représenter un classifieur\n",
    "        Attention: cette classe ne doit pas être instanciée.\n",
    "    \"\"\"\n",
    "    \n",
    "    def __init__(self, input_dimension):\n",
    "        \"\"\" Constructeur de Classifier\n",
    "            Argument:\n",
    "                - input_dimension (int) : dimension de la description des exemples\n",
    "            Hypothèse : input_dimension > 0\n",
    "        \"\"\"\n",
    "        raise NotImplementedError(\"Please Implement this method\")\n",
    "        \n",
    "    def train(self, desc_set, label_set):\n",
    "        \"\"\" Permet d'entrainer le modele sur l'ensemble donné\n",
    "            desc_set: ndarray avec des descriptions\n",
    "            label_set: ndarray avec les labels correspondants\n",
    "            Hypothèse: desc_set et label_set ont le même nombre de lignes\n",
    "        \"\"\"        \n",
    "        raise NotImplementedError(\"Please Implement this method\")\n",
    "    \n",
    "    def score(self,x):\n",
    "        \"\"\" rend le score de prédiction sur x (valeur réelle)\n",
    "            x: une description\n",
    "        \"\"\"\n",
    "        raise NotImplementedError(\"Please Implement this method\")\n",
    "    \n",
    "    def predict(self, x):\n",
    "        \"\"\" rend la prediction sur x (soit -1 ou soit +1)\n",
    "            x: une description\n",
    "        \"\"\"\n",
    "        raise NotImplementedError(\"Please Implement this method\")\n",
    "\n",
    "    def accuracy(self, desc_set, label_set):\n",
    "        \"\"\" Permet de calculer la qualité du système sur un dataset donné\n",
    "            desc_set: ndarray avec des descriptions\n",
    "            label_set: ndarray avec les labels correspondants\n",
    "            Hypothèse: desc_set et label_set ont le même nombre de lignes\n",
    "        \"\"\"\n",
    "        # ------------------------------\n",
    "        # COMPLETER CETTE FONCTION ICI : \n",
    "        cpt=0\n",
    "        n = len(desc_set)\n",
    "        for i in range(n):\n",
    "            if self.predict(desc_set[i]) == label_set[i]:\n",
    "                cpt += 1\n",
    "        return cpt/n\n",
    "        \n",
    "        # ------------------------------\n",
    "        "
   ]
  },
  {
   "cell_type": "markdown",
   "metadata": {},
   "source": [
    "# les $k$-plus proches voisins (*$k$-ppv* ou *$k$-NN*)\n",
    "\n",
    "\n",
    "<div class=\"alert alert-block alert-info\">\n",
    "    \n",
    "Le classifieur des $k$-plus proches voisins (en anglais: $k$-nearest neighbors) est très intuitif: il s'agit de prédire la classe majoritaire dans le voisinage d'un point en examinant ses $k$ plus proches voisins.\n",
    "La figure ci-dessous illustre bien le principe général de l'algorithme:\n",
    "\n",
    "<a href=\"https://fr.wikipedia.org/wiki/Méthode_des_k_plus_proches_voisins#/media/Fichier:KnnClassification.svg\"><img src='ressources/Knn.png' width=300px></a>\n",
    "\n",
    "Cet algorithme d'apprentissage est particulier: il n'y a pas d'apprentissage, il faut juste stocker tous les exemples d'apprentissage pour les réutiliser plus tard !! \n",
    "En contrepartie, l'inférence coute très cher: pour chaque prédiction , il faut analyser tout le dataset stocké afin de trouver les $k$ plus proches voisins de l'exemple à prédire.\n",
    "</div>   \n",
    "\n",
    "<div class=\"alert alert-block alert-warning\">\n",
    "    \n",
    "Description de la classe `ClassifierKNN` (qui étend `Classifier`):\n",
    "- dans le constructeur, on précise, en plus de la dimension du dataset, le nombre de voisins à utiliser (c'est la valeur $k$)\n",
    "- dans la méthode `train`, on donne le dataset qui doit servir de dataset de référence et qui va donc être stocké (la particularité de l'algorithme des $k$-plus proches voisins)\n",
    "- dans la méthode `score`, pour une description d'exemple $x$ donnée :\n",
    "    - 1) on construit le tableau des distances entre $x$ et les exemples du dataset de référence, \n",
    "    - 2) on trie ce tableau grâce, par exemple, à la méthode `numpy.argsort`,\n",
    "    - 3) le score qui doit être rendu est calculé à partir de **la proportion d'exemples de classe +1** parmi les $k$ plus proches voisins de $x$. Le score \n",
    "        - vaut $0$ si la proportion est d'exactement $50\\%$ d'exemples de classe +1 parmi les $k$ plus proches voisins;\n",
    "        - est strictement inférieur à $0$ si la proportion est strictement inférieure à $50\\%$. Il est d'autant plus négatif que la proportion est faible;\n",
    "        - est strictement supérieur à $0$ si la proportion est strictement supérieur à $50\\%$. Il est d'autant plus grand que la proportion est importante. <br>\n",
    "    Par exemple, le score peut se calculer à partir de $p \\in [0,1]$, la proportion d'exemples, par $2(p-0.5)$.\n",
    "- dans la méthode `predict`, pour une description d'exemple $x$ donnée, on utilise le score rendu par la fonction précédente pour rendre la classe de l'exemple, c'est-à-dire soit $-1$ soit $+1$. \n",
    "</div>"
   ]
  },
  {
   "cell_type": "markdown",
   "metadata": {},
   "source": [
    "<font color=\"RED\" size=\"+1\">**[Q]**</font> Compléter le code de la classe `ClassifierKNN` "
   ]
  },
  {
   "cell_type": "code",
   "execution_count": 93,
   "metadata": {},
   "outputs": [],
   "source": [
    "# ------------------------ A COMPLETER :\n",
    "\n",
    "class ClassifierKNN(Classifier):\n",
    "    \"\"\" Classe pour représenter un classifieur par K plus proches voisins.\n",
    "        Cette classe hérite de la classe Classifier\n",
    "    \"\"\"\n",
    "\n",
    "    # ATTENTION : il faut compléter cette classe avant de l'utiliser !\n",
    "    \n",
    "    def __init__(self, input_dimension, k):\n",
    "        \"\"\" Constructeur de Classifier\n",
    "            Argument:\n",
    "                - intput_dimension (int) : dimension d'entrée des exemples\n",
    "                - k (int) : nombre de voisins à considérer\n",
    "            Hypothèse : input_dimension > 0\n",
    "        \"\"\"\n",
    "        #raise NotImplementedError(\"Please Implement this method\")\n",
    "        self.input_dimension = input_dimension\n",
    "        self.k = k\n",
    "        \n",
    "        \n",
    "    def score(self,x):\n",
    "        \"\"\" rend la proportion de +1 parmi les k ppv de x (valeur réelle)\n",
    "            x: une description : un ndarray\n",
    "        \"\"\"\n",
    "        #raise NotImplementedError(\"Please Implement this method\")\n",
    "        dist = [np.sqrt((x[0]-self.desc_set[i][0])**2+(x[1]-self.desc_set[i][1])**2) for i in range(len(self.desc_set))]\n",
    "        ordre = np.argsort(dist)\n",
    "        ordre = ordre[:self.k]\n",
    "        #ppv = [desc_set[]]\n",
    "        \n",
    "        nombre_pos=0\n",
    "        for i in ordre:\n",
    "            if self.label_set[i] == +1:\n",
    "                nombre_pos += 1\n",
    "        p = nombre_pos/self.k\n",
    "        return 2*(p-0.5)\n",
    "        \n",
    "    \n",
    "        #return len([])\n",
    "        \n",
    "        \n",
    "        \n",
    "        '''\n",
    "        \n",
    "        # Extraction des exemples de classe -1:\n",
    "data2_negatifs = data2_desc[data2_label == -1]\n",
    "# Extraction des exemples de classe +1:\n",
    "data2_positifs = data2_desc[data2_label == +1]\n",
    "    '''\n",
    "\n",
    "\n",
    "    \n",
    "    def predict(self, x):\n",
    "        \"\"\" rend la prediction sur x (-1 ou +1)\n",
    "            x: une description : un ndarray\n",
    "        \"\"\"\n",
    "        #raise NotImplementedError(\"Please Implement this method\")\n",
    "        if self.score(x) > 0:\n",
    "            return +1\n",
    "        else:\n",
    "            return -1 #on ne considère pas le cas score==0\n",
    "\n",
    "    def train(self, desc_set, label_set):\n",
    "        \"\"\" Permet d'entrainer le modele sur l'ensemble donné\n",
    "            desc_set: ndarray avec des descriptions\n",
    "            label_set: ndarray avec les labels correspondants\n",
    "            Hypothèse: desc_set et label_set ont le même nombre de lignes\n",
    "        \"\"\"        \n",
    "        #raise NotImplementedError(\"Please Implement this method\")\n",
    "        self.desc_set = desc_set\n",
    "        self.label_set = label_set"
   ]
  },
  {
   "cell_type": "code",
   "execution_count": 94,
   "metadata": {},
   "outputs": [
    {
     "name": "stdout",
     "output_type": "stream",
     "text": [
      "Classification des 10 premiers exemples du dataset:\n",
      "\t-1.255 +4.507 : -1 ---> -1 [-1.00000]\n",
      "\t+2.320 +0.987 : -1 ---> -1 [-1.00000]\n",
      "\t-3.440 -3.440 : -1 ---> -1 [-1.00000]\n",
      "\t-4.419 +3.662 : -1 ---> -1 [-1.00000]\n",
      "\t+1.011 +2.081 : -1 ---> -1 [-1.00000]\n",
      "\t-4.794 +4.699 : -1 ---> -1 [-1.00000]\n",
      "\t+3.324 -2.877 : -1 ---> -1 [-1.00000]\n",
      "\t-3.182 -3.166 : -1 ---> -1 [-1.00000]\n",
      "\t-1.958 +0.248 : -1 ---> -1 [-1.00000]\n",
      "\t-0.681 -2.088 : -1 ---> -1 [-1.00000]\n",
      "Taux de bonne classification sur le dataset:  1.0\n"
     ]
    }
   ],
   "source": [
    "# Pour avoir les mêmes valeurs aléatoires :\n",
    "np.random.seed(42)   # supprimer cette ligne une fois la mise au point terminée\n",
    "\n",
    "# Création d'un classifieur KNN de dimension 2:\n",
    "un_KNN = ClassifierKNN(2,1)\n",
    "\n",
    "# Par définition, ce classifieur n'a pas besoin d'entraînement\n",
    "un_KNN.train(data2_desc,data2_label)\n",
    "\n",
    "# Classification du dataset (contrôle de predict et score):\n",
    "print(\"Classification des 10 premiers exemples du dataset:\")\n",
    "\n",
    "for i in range(0,10):\n",
    "    print(\"\\t{0:+.3f} {1:+.3f} : {2:+} ---> {3:+} [{4:+.5f}]\".format(data2_desc[i,:][0], data2_desc[i,:][1], \\\n",
    "                                                                  data2_label[i], \\\n",
    "                                                                  un_KNN.predict(data2_desc[i,:]), \\\n",
    "                                                                  un_KNN.score(data2_desc[i,:])) )\n",
    "\n",
    "# Affichage du taux de bonne classification    \n",
    "print(\"Taux de bonne classification sur le dataset: \", un_KNN.accuracy(data2_desc,data2_label))   \n"
   ]
  },
  {
   "cell_type": "markdown",
   "metadata": {},
   "source": [
    "<font color=\"RED\" size=\"+1\">**[Q]**</font> Calculer la performance (*accuracy*) d'un classifieur linéaire aléatoire sur un dataset de 100 points générés aléatoirement."
   ]
  },
  {
   "cell_type": "code",
   "execution_count": 95,
   "metadata": {},
   "outputs": [
    {
     "data": {
      "text/plain": [
       "0.485"
      ]
     },
     "execution_count": 95,
     "metadata": {},
     "output_type": "execute_result"
    }
   ],
   "source": [
    "desc, label = genere_dataset_uniform(2, 100, binf=-5, bsup=+5)\n",
    "\n",
    "un_KNN.accuracy(desc_set=desc, label_set=label)\n"
   ]
  },
  {
   "cell_type": "markdown",
   "metadata": {},
   "source": [
    "## Visualisation du classifieur"
   ]
  },
  {
   "cell_type": "markdown",
   "metadata": {},
   "source": [
    "Nous allons maintenant essayer d'analyser le comportement du classifieur. La première étape consiste à analyser graphiquement la décision par rapport aux données. <BR>\n",
    "**ATTENTION** Ce n'est possible qu'en 2 dimensions\n",
    "\n",
    "\n",
    "Voici une fonction qui permet de dessiner la frontière de décision d'un classifieur. La valeur `step` permet de choisir la précision de tracé du dessin.\n",
    "Le code est entièrement fourni mais pour information, l'idée est la suivante:\n",
    "1. générer une grille de points sur tout l'espace;\n",
    "1. évaluer le classifieur sur toute la grille;\n",
    "1. interpoler un niveau de couleur sur tout l'espace représentant les valeurs du classifieur."
   ]
  },
  {
   "cell_type": "code",
   "execution_count": 96,
   "metadata": {},
   "outputs": [],
   "source": [
    "def plot_frontiere(desc_set, label_set, classifier, step=30):\n",
    "    \"\"\" desc_set * label_set * Classifier * int -> NoneType\n",
    "        Remarque: le 4e argument est optionnel et donne la \"résolution\" du tracé: plus il est important\n",
    "        et plus le tracé de la frontière sera précis.        \n",
    "        Cette fonction affiche la frontière de décision associée au classifieur\n",
    "    \"\"\"\n",
    "    mmax=desc_set.max(0)\n",
    "    mmin=desc_set.min(0)\n",
    "    x1grid,x2grid=np.meshgrid(np.linspace(mmin[0],mmax[0],step),np.linspace(mmin[1],mmax[1],step))\n",
    "    grid=np.hstack((x1grid.reshape(x1grid.size,1),x2grid.reshape(x2grid.size,1)))\n",
    "    \n",
    "    # calcul de la prediction pour chaque point de la grille\n",
    "    res=np.array([classifier.predict(grid[i,:]) for i in range(len(grid)) ])\n",
    "    res=res.reshape(x1grid.shape)\n",
    "    # tracer des frontieres\n",
    "    # colors[0] est la couleur des -1 et colors[1] est la couleur des +1\n",
    "    plt.contourf(x1grid,x2grid,res,colors=[\"darksalmon\",\"skyblue\"],levels=[-1000,0,1000])"
   ]
  },
  {
   "cell_type": "code",
   "execution_count": 97,
   "metadata": {},
   "outputs": [
    {
     "data": {
      "image/png": "[encoded data removed]",
      "text/plain": [
       "<Figure size 640x480 with 1 Axes>"
      ]
     },
     "metadata": {},
     "output_type": "display_data"
    }
   ],
   "source": [
    "# Affichage de la frontière de séparation des classes\n",
    "np.random.seed(42)\n",
    "plot_frontiere(data2_desc,data2_label,un_KNN)\n",
    "plot2DSet(data2_desc,data2_label)"
   ]
  },
  {
   "cell_type": "code",
   "execution_count": 98,
   "metadata": {},
   "outputs": [
    {
     "data": {
      "image/png": "[encoded data removed]",
      "text/plain": [
       "<Figure size 640x480 with 1 Axes>"
      ]
     },
     "metadata": {},
     "output_type": "display_data"
    }
   ],
   "source": [
    "# Affichage de la frontière de séparation des classes\n",
    "# On met une valeur de \"step\" importante : cela permet un affichage plus précis\n",
    "# Attention : le temps d'exécution sera plus important !\n",
    "plot_frontiere(data2_desc,data2_label,un_KNN,step=200)\n",
    "plot2DSet(data2_desc,data2_label)"
   ]
  },
  {
   "cell_type": "markdown",
   "metadata": {},
   "source": [
    "<font color=\"RED\" size=\"+1\">**[Q]**</font>Tracer la frontière de séparation des classes d'un knn pour le dataset gaussien que vous avez généré, avec $k$ égal à 1.\n"
   ]
  },
  {
   "cell_type": "code",
   "execution_count": 99,
   "metadata": {},
   "outputs": [
    {
     "name": "stdout",
     "output_type": "stream",
     "text": [
      "Accuracy:  1.0\n"
     ]
    },
    {
     "data": {
      "image/png": "[encoded data removed]",
      "text/plain": [
       "<Figure size 640x480 with 1 Axes>"
      ]
     },
     "metadata": {},
     "output_type": "display_data"
    }
   ],
   "source": [
    "# Pour avoir les mêmes valeurs aléatoires :\n",
    "np.random.seed(42)   # supprimer cette ligne une fois la mise au point terminée\n",
    "\n",
    "# Création d'un knn avec k=1 et 2 dimensions pour les données\n",
    "classifierKNN = ClassifierKNN(2,1)\n",
    "\n",
    "# Entraînement du classifier:\n",
    "classifierKNN.train(data_gauss_desc, data_gauss_label)\n",
    "\n",
    "# Affichage de la frontière de séparation des classes\n",
    "plot_frontiere(data_gauss_desc, data_gauss_label,classifierKNN)\n",
    "plot2DSet(data_gauss_desc, data_gauss_label)\n",
    "\n",
    "# Performance de ce classifieur:\n",
    "print(\"Accuracy: \",classifierKNN.accuracy(data_gauss_desc, data_gauss_label))"
   ]
  },
  {
   "cell_type": "code",
   "execution_count": 100,
   "metadata": {},
   "outputs": [
    {
     "name": "stdout",
     "output_type": "stream",
     "text": [
      "Accuracy:  0.89\n"
     ]
    },
    {
     "data": {
      "image/png": "[encoded data removed]",
      "text/plain": [
       "<Figure size 640x480 with 1 Axes>"
      ]
     },
     "metadata": {},
     "output_type": "display_data"
    }
   ],
   "source": [
    "# Création d'un knn avec k=5 et 2 dimensions pour les données\n",
    "classifierKNN2 = ClassifierKNN(2,5)\n",
    "\n",
    "# Entraînement du classifier:\n",
    "classifierKNN2.train(data_gauss_desc, data_gauss_label)\n",
    "\n",
    "# Affichage de la frontière de séparation des classes\n",
    "plot_frontiere(data_gauss_desc, data_gauss_label,classifierKNN2)\n",
    "plot2DSet(data_gauss_desc, data_gauss_label)\n",
    "\n",
    "# Performance de ce classifieur:\n",
    "print(\"Accuracy: \",classifierKNN2.accuracy(data_gauss_desc, data_gauss_label))"
   ]
  },
  {
   "cell_type": "markdown",
   "metadata": {},
   "source": [
    "<font color=\"RED\" size=\"+1\">**[Q]**</font> Evaluer la classe précédente sur les données jouets `data_gauss` que vous avez utilisé jusqu'ici.\n",
    "\n",
    "Analyser graphiquement les performances du modèle en fonction de $k$ en faisant varier $k$ de $1$ à $50$.\n",
    "\n",
    "Remarque: $k$ sera un nombre impair pour éviter les classes ex-aequos."
   ]
  },
  {
   "cell_type": "code",
   "execution_count": 101,
   "metadata": {},
   "outputs": [
    {
     "ename": "IndexError",
     "evalue": "list index out of range",
     "output_type": "error",
     "traceback": [
      "\u001b[0;31m---------------------------------------------------------------------------\u001b[0m",
      "\u001b[0;31mIndexError\u001b[0m                                Traceback (most recent call last)",
      "\u001b[0;32m/var/folders/pf/5d3lc67s2w72v_d8qtw2vnjc0000gn/T/ipykernel_12419/2097862684.py\u001b[0m in \u001b[0;36m<module>\u001b[0;34m\u001b[0m\n\u001b[1;32m     16\u001b[0m \u001b[0;31m# ---------------------------------------------\u001b[0m\u001b[0;34m\u001b[0m\u001b[0;34m\u001b[0m\u001b[0m\n\u001b[1;32m     17\u001b[0m \u001b[0;32mfor\u001b[0m \u001b[0mi\u001b[0m \u001b[0;32min\u001b[0m \u001b[0mrange\u001b[0m\u001b[0;34m(\u001b[0m\u001b[0;36m0\u001b[0m\u001b[0;34m,\u001b[0m\u001b[0mlen\u001b[0m\u001b[0;34m(\u001b[0m\u001b[0mvaleurs_k\u001b[0m\u001b[0;34m)\u001b[0m\u001b[0;34m)\u001b[0m\u001b[0;34m:\u001b[0m\u001b[0;34m\u001b[0m\u001b[0;34m\u001b[0m\u001b[0m\n\u001b[0;32m---> 18\u001b[0;31m     \u001b[0mprint\u001b[0m\u001b[0;34m(\u001b[0m\u001b[0;34m\"Accuracy pour \"\u001b[0m\u001b[0;34m,\u001b[0m\u001b[0mvaleurs_k\u001b[0m\u001b[0;34m[\u001b[0m\u001b[0mi\u001b[0m\u001b[0;34m]\u001b[0m\u001b[0;34m,\u001b[0m\u001b[0;34m\":\"\u001b[0m\u001b[0;34m,\u001b[0m\u001b[0maccuracies\u001b[0m\u001b[0;34m[\u001b[0m\u001b[0mi\u001b[0m\u001b[0;34m]\u001b[0m\u001b[0;34m)\u001b[0m\u001b[0;34m\u001b[0m\u001b[0;34m\u001b[0m\u001b[0m\n\u001b[0m\u001b[1;32m     19\u001b[0m \u001b[0;34m\u001b[0m\u001b[0m\n",
      "\u001b[0;31mIndexError\u001b[0m: list index out of range"
     ]
    }
   ],
   "source": [
    "# on stocke les accuracies dans une liste :\n",
    "accuracies = []\n",
    "\n",
    "# seuil max des valeurs de k à regarder:\n",
    "seuil_k = len(data_gauss_desc) // 2\n",
    "\n",
    "# toutes les valeurs de k à regarder:\n",
    "valeurs_k = [k for k in range(1,seuil_k,2)]\n",
    "\n",
    "# ------------------------ A COMPLETER \n",
    "\n",
    "\n",
    "\n",
    "\n",
    "\n",
    "# ---------------------------------------------\n",
    "for i in range(0,len(valeurs_k)):\n",
    "    print(\"Accuracy pour \",valeurs_k[i],\":\",accuracies[i])\n",
    "    "
   ]
  },
  {
   "cell_type": "code",
   "execution_count": null,
   "metadata": {},
   "outputs": [],
   "source": [
    "# Tracé de la variation de l'accuracy en fonction de la valeur de k:\n",
    "# \n",
    "# Tracer de la courbe des variations\n",
    "plt.plot(valeurs_k, accuracies)  \n",
    "plt.ylabel('Accuracy')\n",
    "plt.xlabel(\"k\")\n",
    "plt.show()\n"
   ]
  },
  {
   "cell_type": "markdown",
   "metadata": {},
   "source": [
    "## Un classifieur linéaire\n",
    "\n",
    "Nous allons maintenant définir un **classifieur linéaire aléatoire** en étendant la classe `Classifier` et en implémentant le constructeur ainsi que les 3 méthodes `predict`, `score` et `train`.\n",
    "\n",
    "Ce classifieur est un des plus simple que l'on puisse construire: on génère aléatoirement une droite (ou hyperplan si on a plus de 2 dimensions) dans l'espace des dimensions en tirant aléatoirement un vecteur $w$ donnant les coefficients de chaque dimensions. L'équation de la droite (hyperplan) est alors donnée par $\\langle x, w\\rangle = 0$ (cf. TD de la semaine 1).\n",
    "\n",
    "Cela nous permis de construire un vecteur de poids. Cette droite est utilisée pour classer les exemples: d'un côté de la droite ils sont prédits de la classe +1, de l'autre côté ils sont prédits de la classe -1.\n",
    "\n",
    "Naturellement, ce classifieur a de bonnes chances de ne pas être très efficace...\n",
    "\n",
    "\n",
    "<div class=\"alert alert-block alert-info\">\n",
    "\n",
    "Pour un classifieur linéaire aléatoire:\n",
    "- dans le constructeur, on doit générer aléatoirement un vecteur $w$ de taille `input_dimension` de valeurs dans $[-1,1]$. Les poids doivent ensuite normalisés (c'est-à-dire que la norme de $w$ doit être égale à 1). Ainsi, si $v$ est le vecteur aléatoire à valeurs dans $[-1,1]$ généré, on obtient un vecteur $w$ normalisé à partir de $v$ en prenant chaque composante de $v$ est en la divisant par la norme de $v$.\n",
    "- pour ce classifieur, la méthode `train` ne fait rien. On ne mettra qu'un print permettant d'afficher le message \"Pas d'apprentissage pour ce classifieur\"\n",
    "- pour une description d'exemple $x$, la méthode `score` rend la valeur de $\\langle x, w\\rangle$\n",
    "- pour une description d'exemple $x$, la méthode `predict` doit utiliser la valeur de $\\langle x, w\\rangle$ pour prédire le label (+1 ou -1) associé\n",
    "</div>"
   ]
  },
  {
   "cell_type": "markdown",
   "metadata": {},
   "source": [
    "<font color=\"RED\" size=\"+1\">**[Q]**</font> Compléter l'implémentation suivante de la classe <code>ClassifierLineaireRandom</code> qui hérite de `Classifier` et permet de définir un classifieur linéaire aléatoire.\n",
    "\n",
    "Les entrées/sorties sont les bonnes à chaque étape... Mais il n'y a pas d'apprentissage: $w$ est donc aléatoire (mais il doit être à la bonne dimension pour les calculs soient possibles) et déterminé à la création du classifieur."
   ]
  },
  {
   "cell_type": "code",
   "execution_count": null,
   "metadata": {},
   "outputs": [],
   "source": [
    "# ------------------------ A COMPLETER :\n",
    "class ClassifierLineaireRandom(Classifier):\n",
    "    \"\"\" Classe pour représenter un classifieur linéaire aléatoire\n",
    "        Cette classe hérite de la classe Classifier\n",
    "    \"\"\"\n",
    "    \n",
    "    def __init__(self, input_dimension):\n",
    "        \"\"\" Constructeur de Classifier\n",
    "            Argument:\n",
    "                - intput_dimension (int) : dimension de la description des exemples\n",
    "            Hypothèse : input_dimension > 0\n",
    "        \"\"\"\n",
    "        raise NotImplementedError(\"Please Implement this method\")\n",
    "        \n",
    "    def train(self, desc_set, label_set):\n",
    "        \"\"\" Permet d'entrainer le modele sur l'ensemble donné\n",
    "            desc_set: ndarray avec des descriptions\n",
    "            label_set: ndarray avec les labels correspondants\n",
    "            Hypothèse: desc_set et label_set ont le même nombre de lignes\n",
    "        \"\"\"        \n",
    "        raise NotImplementedError(\"Please Implement this method\")\n",
    "    \n",
    "    def score(self,x):\n",
    "        \"\"\" rend le score de prédiction sur x (valeur réelle)\n",
    "            x: une description\n",
    "        \"\"\"\n",
    "        raise NotImplementedError(\"Please Implement this method\")\n",
    "    \n",
    "    def predict(self, x):\n",
    "        \"\"\" rend la prediction sur x (soit -1 ou soit +1)\n",
    "            x: une description\n",
    "        \"\"\"\n",
    "        raise NotImplementedError(\"Please Implement this method\")\n",
    "    "
   ]
  },
  {
   "cell_type": "markdown",
   "metadata": {},
   "source": [
    "Utilisation de la classe ainsi créée:"
   ]
  },
  {
   "cell_type": "code",
   "execution_count": null,
   "metadata": {},
   "outputs": [],
   "source": [
    "Paul# Pour avoir les mêmes valeurs aléatoires :\n",
    "np.random.seed(42)   # supprimer cette ligne une fois la mise au point terminée\n",
    "\n",
    "# Création d'un classifieur linéaire aléatoire de dimension 2:\n",
    "lin_alea = ClassifierLineaireRandom(2)\n",
    "\n",
    "# Par définition, ce classifieur n'a pas besoin d'entraînement\n",
    "lin_alea.train(data1_desc,data1_label)\n",
    "\n",
    "# Classification du dataset (contrôle de predict et score):\n",
    "print(\"Classification du dataset:\")\n",
    "\n",
    "# Affichage du taux de bonne classification    \n",
    "print(\"Taux de bonne classification sur le dataset: \", lin_alea.accuracy(data1_desc,data1_label))   \n"
   ]
  },
  {
   "cell_type": "code",
   "execution_count": null,
   "metadata": {},
   "outputs": [],
   "source": [
    "# Affichage de la frontière de séparation des classes\n",
    "plot_frontiere(data_gauss_desc,data_gauss_label,lin_alea,step=100)\n",
    "plot2DSet(data_gauss_desc,data_gauss_label)"
   ]
  },
  {
   "cell_type": "markdown",
   "metadata": {},
   "source": [
    "## Données réelles UCI & USPS\n",
    "\n",
    "Plusieurs datasets sont récupérables directement en python depuis la bibliothèque scikit-learn:\n",
    "https://scikit-learn.org/stable/modules/classes.html?highlight=dataset#module-sklearn.datasets\n",
    "\n",
    "Il est aussi possible de jouer avec les données USPS (chiffres manuscrits) qui ont été présentées en cours.\n",
    "Dans la suite, nous vous proposons une petite étude sur USPS.\n"
   ]
  },
  {
   "cell_type": "markdown",
   "metadata": {},
   "source": [
    "<font color=\"RED\" size=\"+1\">**[Q]**</font> Charger les données (le code est fourni) puis isoler les 1 et les 2 pour créer un problème binaire.\n",
    "\n",
    "Pour cette sélection de données en numpy, il peut être intéressant de faire appel à `np.where`"
   ]
  },
  {
   "cell_type": "code",
   "execution_count": null,
   "metadata": {},
   "outputs": [],
   "source": [
    "import pickle as pkl\n",
    "\n",
    "data = pkl.load(open('ressources/usps.pkl', 'rb'))\n",
    "X = np.array(data['X_train'], dtype=float) # conversion de type pour une meilleure compatibilité\n",
    "Y = np.array(data['Y_train'], dtype=float)\n",
    "\n",
    "# ------------------------ A COMPLETER :\n",
    "# reduction du jeu de données\n",
    "\n",
    "# X12 = \n",
    "# Y12 =  # encoder en -1/1\n",
    "\n"
   ]
  },
  {
   "cell_type": "markdown",
   "metadata": {},
   "source": [
    "<font color=\"RED\" size=\"+1\">**[Q]**</font> Prise en main des données:\n",
    "1. Afficher les dimensions des données\n",
    "1. Afficher la première image du jeu de données en utilisant `reshape` et `imshow` comme vu en cours.\n",
    "1. Donner l'histogramme d'illumination du premier pixel (0) puis pour le pixel 219. Analyser le résultat\n",
    "1. Sur le pixel 219, afficher l'histogramme des illuminations pour la classe 1 et pour la classe 2: vous semble-il possible de classer les données sur la base de cette seule information? Quel serait le taux de bonne classification?\n"
   ]
  },
  {
   "cell_type": "code",
   "execution_count": null,
   "metadata": {},
   "outputs": [],
   "source": []
  },
  {
   "cell_type": "markdown",
   "metadata": {},
   "source": [
    "<font color=\"RED\" size=\"+1\">**[Q]**</font> Construire un classifieur linéaire aléatoire pour ces données en utilisant le code précédent. Evaluer les performances.\n",
    "\n",
    "Le but de cette question est de vérifier que votre code n'est pas dépendant des dimensions des données: il doit s'adapter aux 256 dimensions des chiffres."
   ]
  },
  {
   "cell_type": "code",
   "execution_count": null,
   "metadata": {},
   "outputs": [],
   "source": []
  },
  {
   "cell_type": "markdown",
   "metadata": {},
   "source": [
    "<font color=\"RED\" size=\"+1\">**[Q]**</font> Application du classifieur des $k$-plus proches voisins sur `X12` avec $k=5$. Evaluer les performances de votre classifieur"
   ]
  },
  {
   "cell_type": "code",
   "execution_count": null,
   "metadata": {},
   "outputs": [],
   "source": []
  },
  {
   "cell_type": "markdown",
   "metadata": {},
   "source": [
    "<font color=\"RED\" size=\"+1\">**[Q]**</font> Que se passe-t-il si on prend $k=1$? Que va donner le taux de bonne classification? \n",
    "\n",
    "Ce résultat est-il satisfaisant? "
   ]
  },
  {
   "cell_type": "code",
   "execution_count": null,
   "metadata": {},
   "outputs": [],
   "source": []
  },
  {
   "cell_type": "markdown",
   "metadata": {},
   "source": [
    "Dans le dictionnaire `data` chargé depuis \"usps.pkl\", il existe un ensemble d'exemples dits de test:"
   ]
  },
  {
   "cell_type": "code",
   "execution_count": null,
   "metadata": {},
   "outputs": [],
   "source": [
    "X_test = np.array(data['X_test'], dtype=float)\n",
    "Y_test = np.array(data['Y_test'], dtype=float)"
   ]
  },
  {
   "cell_type": "markdown",
   "metadata": {},
   "source": [
    "Comme pour construire `X12` et `Y12`, extraire de ces données les exemples de label 1 et de label 2."
   ]
  },
  {
   "cell_type": "code",
   "execution_count": null,
   "metadata": {},
   "outputs": [],
   "source": [
    "# ------------------------ A COMPLETER :\n",
    "# reduction du jeu de données\n",
    "\n",
    "# X12_test = \n",
    "# Y12_test =\n",
    "\n"
   ]
  },
  {
   "cell_type": "markdown",
   "metadata": {},
   "source": [
    "On évalue l'accuracy de `ClassifierKNN`construit précédemment sur ces données test."
   ]
  },
  {
   "cell_type": "code",
   "execution_count": null,
   "metadata": {},
   "outputs": [],
   "source": [
    "print(\"Taux de bonne classification sur le dataset: \", classifierKNN.accuracy(X12_test,Y12_test))   \n"
   ]
  },
  {
   "cell_type": "markdown",
   "metadata": {},
   "source": [
    "<font color=\"RED\" size=\"+1\">**[Q]**</font> Que pouvez-vous en conclure ?"
   ]
  },
  {
   "cell_type": "code",
   "execution_count": null,
   "metadata": {},
   "outputs": [],
   "source": []
  },
  {
   "cell_type": "markdown",
   "metadata": {},
   "source": [
    "### Pour aller plus loin..."
   ]
  },
  {
   "cell_type": "markdown",
   "metadata": {},
   "source": [
    "<font color=\"RED\" size=\"+1\">**[Q]**</font> Proposer une nouvelle version de classifieur $k$-ppv capable de fonctionner pour des problèmes multi-classes, c'est-à-dire quand il existe $C$ classes. Tester les performances de ce nouveau classifieur sur les données USPS.\n",
    "\n",
    "Tenter des modifications sur les données (binarisation, suppression des colonnes de trop forte entropie...) et étudier l'impact sur les performances."
   ]
  },
  {
   "cell_type": "code",
   "execution_count": null,
   "metadata": {},
   "outputs": [],
   "source": []
  },
  {
   "cell_type": "code",
   "execution_count": null,
   "metadata": {},
   "outputs": [],
   "source": [
    "# Exemple d'utilisation : (attention: le temps de calcul peut être long !)\n",
    "\n",
    "class_mc = ClassifierKNN_MC(256,5,10)\n",
    "class_mc.train(X, Y)\n",
    "\n",
    "print(class_mc.accuracy(X_test,Y_test))\n"
   ]
  },
  {
   "cell_type": "code",
   "execution_count": null,
   "metadata": {},
   "outputs": [],
   "source": []
  }
 ],
 "metadata": {
  "kernelspec": {
   "display_name": "Python 3 (ipykernel)",
   "language": "python",
   "name": "python3"
  },
  "language_info": {
   "codemirror_mode": {
    "name": "ipython",
    "version": 3
   },
   "file_extension": ".py",
   "mimetype": "text/x-python",
   "name": "python",
   "nbconvert_exporter": "python",
   "pygments_lexer": "ipython3",
   "version": "3.9.13"
  }
 },
 "nbformat": 4,
 "nbformat_minor": 1
}
