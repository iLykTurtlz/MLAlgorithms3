{
 "cells": [
  {
   "cell_type": "markdown",
   "metadata": {},
   "source": [
    "IA & Data science (LU3IN0226) -- 2022-2023\n",
    "--------\n",
    "*&copy; Equipe pédagogique: Christophe Marsala, Olivier Schwander, Jean-Noël Vittaut.*"
   ]
  },
  {
   "cell_type": "markdown",
   "metadata": {},
   "source": [
    "# TD-TME06: les arbres de décision (catégoriel)\n",
    "\n",
    "L'objectif de ce notebook est d'implémenter un algorithme d'apprentissage supervisé qui travaille sur des données catégorielles, l'algorithme de construction d'arbres de décision.\n"
   ]
  },
  {
   "cell_type": "markdown",
   "metadata": {},
   "source": [
    "## Préparation du notebook"
   ]
  },
  {
   "cell_type": "markdown",
   "metadata": {},
   "source": [
    "<font size=\"+1\" color=\"RED\">**[Q]**</font> **Indiquer dans la boîte ci-dessous vos noms et prénoms :**"
   ]
  },
  {
   "attachments": {},
   "cell_type": "markdown",
   "metadata": {},
   "source": [
    "\n",
    "Neil Benahmed\n",
    "\n",
    "Paul Jarski"
   ]
  },
  {
   "cell_type": "markdown",
   "metadata": {},
   "source": [
    "<font color=\"RED\" size=\"+1\">**[Q]**</font> **Renommer ce fichier ipython**\n",
    "\n",
    "Comme lors des précédents TME, renommer ce fichier en incluant les noms de votre binôme.\n"
   ]
  },
  {
   "cell_type": "markdown",
   "metadata": {},
   "source": [
    "<font color=\"RED\" size=\"+1\">**[Q]**</font> **Mise à jour de la librairie `iads`**\n",
    "\n",
    "En premier lieu, vérifier que votre librairie `iads` est bien à jour et qu'elle inclut bien tout ce que vous avez programmé jusque là."
   ]
  },
  {
   "cell_type": "code",
   "execution_count": 1,
   "metadata": {},
   "outputs": [],
   "source": [
    "# Importation des librairies standards:\n",
    "import numpy as np\n",
    "import pandas as pd\n",
    "import matplotlib.pyplot as plt\n",
    "%matplotlib inline  \n",
    "\n",
    "# Importation de votre librairie iads:\n",
    "# La ligne suivante permet de préciser le chemin d'accès à la librairie iads\n",
    "import sys\n",
    "sys.path.append('../')   # iads doit être dans le répertoire frère du répertoire courant !\n",
    "\n",
    "# Importation de la librairie iads\n",
    "import iads as iads\n",
    "\n",
    "# importation de Classifiers\n",
    "from iads import Classifiers as cl\n",
    "\n",
    "# importation de utils\n",
    "from iads import utils as ut\n",
    "\n",
    "# importation de evaluation\n",
    "from iads import evaluation as ev\n",
    "\n",
    "# commande TRES utile pour recharger automatiquement le code que vous modifiez dans les modules\n",
    "%load_ext autoreload\n",
    "%autoreload 2"
   ]
  },
  {
   "cell_type": "markdown",
   "metadata": {},
   "source": [
    "<font color=\"RED\" size=\"+1\">**[Q]**</font> Pour conclure le TME 4, écrire la fonction `validation_croisee` qui prend en argument un algorithme d'apprentissage $C$, un dataset $DS$ et un nombre d'itérations voulues, et rend un triplet composé de la liste des accuracies obtenues, la moyenne de ces accuraciées et leur écart type.\n",
    "\n",
    "Cette fonction utilise les fonctions `crossval_strat` et `analyse_perfs` du TME 4, vous commencerez par copier ces 2 fonctions dans votre librairie `iads`, dans le fichier `evaluation.py` (importé sous l'alias `ev`).\n",
    "\n",
    "**Remarque**: dans la fonction, il peut être important de copier (correctement, avec `deepcopy` de la librairie `copy`) le classifieur pour pouvoir l'entraîner plusieurs fois indépendamment."
   ]
  },
  {
   "cell_type": "code",
   "execution_count": 2,
   "metadata": {},
   "outputs": [],
   "source": [
    "import copy\n",
    "\n",
    "def validation_croisee(C, DS, nb_iter):\n",
    "    \"\"\" Classifieur * tuple[array, array] * int -> tuple[ list[float], float, float]\n",
    "    \"\"\"\n",
    "    X, Y = DS   \n",
    "    perf = []\n",
    "    for i in range(nb_iter):\n",
    "        Xapp,Yapp,Xtest,Ytest = ev.crossval_strat(X,Y,nb_iter,i)\n",
    "        classifier = copy.deepcopy(C)\n",
    "        classifier.train(Xapp, Yapp)\n",
    "        perf.append(classifier.accuracy(Xtest,Ytest))\n",
    "        \n",
    "    (perf_moy, perf_sd) = ev.analyse_perfs(perf)\n",
    "    return (perf, perf_moy, perf_sd)"
   ]
  },
  {
   "cell_type": "markdown",
   "metadata": {},
   "source": [
    "Afin de réaliser les premiers essais avec les fonctions que l'on va programmer, on charge la base sur les élections vue dans le cours 6."
   ]
  },
  {
   "cell_type": "code",
   "execution_count": 3,
   "metadata": {
    "scrolled": false
   },
   "outputs": [
    {
     "data": {
      "text/html": [
       "<div>\n",
       "<style scoped>\n",
       "    .dataframe tbody tr th:only-of-type {\n",
       "        vertical-align: middle;\n",
       "    }\n",
       "\n",
       "    .dataframe tbody tr th {\n",
       "        vertical-align: top;\n",
       "    }\n",
       "\n",
       "    .dataframe thead th {\n",
       "        text-align: right;\n",
       "    }\n",
       "</style>\n",
       "<table border=\"1\" class=\"dataframe\">\n",
       "  <thead>\n",
       "    <tr style=\"text-align: right;\">\n",
       "      <th></th>\n",
       "      <th>Adresse</th>\n",
       "      <th>Majeur?</th>\n",
       "      <th>Nationalite</th>\n",
       "      <th>Label</th>\n",
       "    </tr>\n",
       "  </thead>\n",
       "  <tbody>\n",
       "    <tr>\n",
       "      <th>0</th>\n",
       "      <td>Paris</td>\n",
       "      <td>oui</td>\n",
       "      <td>Francais</td>\n",
       "      <td>1</td>\n",
       "    </tr>\n",
       "    <tr>\n",
       "      <th>1</th>\n",
       "      <td>Paris</td>\n",
       "      <td>non</td>\n",
       "      <td>Francais</td>\n",
       "      <td>-1</td>\n",
       "    </tr>\n",
       "    <tr>\n",
       "      <th>2</th>\n",
       "      <td>Montpellier</td>\n",
       "      <td>oui</td>\n",
       "      <td>Italien</td>\n",
       "      <td>1</td>\n",
       "    </tr>\n",
       "    <tr>\n",
       "      <th>3</th>\n",
       "      <td>Paris</td>\n",
       "      <td>oui</td>\n",
       "      <td>Suisse</td>\n",
       "      <td>-1</td>\n",
       "    </tr>\n",
       "    <tr>\n",
       "      <th>4</th>\n",
       "      <td>Strasbourg</td>\n",
       "      <td>non</td>\n",
       "      <td>Italien</td>\n",
       "      <td>-1</td>\n",
       "    </tr>\n",
       "    <tr>\n",
       "      <th>5</th>\n",
       "      <td>Strasbourg</td>\n",
       "      <td>non</td>\n",
       "      <td>Francais</td>\n",
       "      <td>-1</td>\n",
       "    </tr>\n",
       "    <tr>\n",
       "      <th>6</th>\n",
       "      <td>Strasbourg</td>\n",
       "      <td>oui</td>\n",
       "      <td>Francais</td>\n",
       "      <td>1</td>\n",
       "    </tr>\n",
       "    <tr>\n",
       "      <th>7</th>\n",
       "      <td>Montpellier</td>\n",
       "      <td>oui</td>\n",
       "      <td>Suisse</td>\n",
       "      <td>-1</td>\n",
       "    </tr>\n",
       "  </tbody>\n",
       "</table>\n",
       "</div>"
      ],
      "text/plain": [
       "       Adresse Majeur? Nationalite  Label\n",
       "0        Paris     oui    Francais      1\n",
       "1        Paris     non    Francais     -1\n",
       "2  Montpellier     oui     Italien      1\n",
       "3        Paris     oui      Suisse     -1\n",
       "4   Strasbourg     non     Italien     -1\n",
       "5   Strasbourg     non    Francais     -1\n",
       "6   Strasbourg     oui    Francais      1\n",
       "7  Montpellier     oui      Suisse     -1"
      ]
     },
     "execution_count": 3,
     "metadata": {},
     "output_type": "execute_result"
    }
   ],
   "source": [
    "# Chargement des fichiers de données :\n",
    "\n",
    "elections_df = pd.read_csv(\"data/elections.csv\")\n",
    "elections_df "
   ]
  },
  {
   "cell_type": "code",
   "execution_count": 4,
   "metadata": {},
   "outputs": [
    {
     "data": {
      "text/plain": [
       "Index(['Adresse', 'Majeur?', 'Nationalite', 'Label'], dtype='object')"
      ]
     },
     "execution_count": 4,
     "metadata": {},
     "output_type": "execute_result"
    }
   ],
   "source": [
    "# Pour avoir le nom des colonnes de ce dataframe :\n",
    "elections_df.columns"
   ]
  },
  {
   "cell_type": "code",
   "execution_count": 5,
   "metadata": {},
   "outputs": [
    {
     "name": "stdout",
     "output_type": "stream",
     "text": [
      "Noms des features:  ['Adresse', 'Majeur?', 'Nationalite']\n"
     ]
    }
   ],
   "source": [
    "# Pour ne garder que le nom des variables de description (et pas la classe):\n",
    "# sous la forme d'une liste:\n",
    "\n",
    "elections_noms = [nom for nom in elections_df.columns if nom != 'Label']\n",
    "\n",
    "# Passer du dataframe à des arrays:\n",
    "elections_desc = np.array(elections_df[elections_noms])\n",
    "elections_label = np.array(elections_df['Label'])\n",
    "\n",
    "print(\"Noms des features: \",elections_noms)"
   ]
  },
  {
   "cell_type": "code",
   "execution_count": 6,
   "metadata": {},
   "outputs": [
    {
     "data": {
      "text/plain": [
       "array([ 1, -1, -1])"
      ]
     },
     "execution_count": 6,
     "metadata": {},
     "output_type": "execute_result"
    }
   ],
   "source": [
    "elections_label[elections_desc[:,0] == \"Paris\"]\n"
   ]
  },
  {
   "cell_type": "markdown",
   "metadata": {},
   "source": [
    "## Premières fonctions: entropie et classe majoritaire"
   ]
  },
  {
   "cell_type": "markdown",
   "metadata": {},
   "source": [
    "<font color=\"RED\" size=\"+1\">**[Q]**</font> Ecrire la fonction <code>classe_majoritaire</code> qui, étant donné un array de labels rend la classe majoritaire (celle qui est possédée par le plus grand nombre d'exemples donc...). En cas d'égalité, cette fonction rend la première classe rencontrée.\n",
    "\n",
    "**Remarque :** on utilise la fonction numpy `unique` qui permet d'obtenir les valeurs différentes d'un array ainsi que leur décompte."
   ]
  },
  {
   "cell_type": "code",
   "execution_count": 7,
   "metadata": {},
   "outputs": [
    {
     "name": "stdout",
     "output_type": "stream",
     "text": [
      "Valeurs différentes dans l'array           :  [-1  1]\n",
      "Décompte de chaque valeur (respectivement) :  [5 3]\n"
     ]
    }
   ],
   "source": [
    "# Exemple d'utilisation de la fonction numpy `unique`\n",
    "\n",
    "valeurs, nb_fois = np.unique(elections_label,return_counts=True)\n",
    "\n",
    "print(\"Valeurs différentes dans l'array           : \",valeurs)\n",
    "print(\"Décompte de chaque valeur (respectivement) : \",nb_fois)"
   ]
  },
  {
   "cell_type": "code",
   "execution_count": 8,
   "metadata": {},
   "outputs": [],
   "source": [
    "def classe_majoritaire(Y):\n",
    "    \"\"\" Y : (array) : array de labels\n",
    "        rend la classe majoritaire ()\n",
    "    \"\"\"\n",
    "    val, nb = np.unique(Y,return_counts=True)\n",
    "    return val[nb == max(nb)][0]"
   ]
  },
  {
   "cell_type": "code",
   "execution_count": 9,
   "metadata": {},
   "outputs": [
    {
     "data": {
      "text/plain": [
       "-1"
      ]
     },
     "execution_count": 9,
     "metadata": {},
     "output_type": "execute_result"
    }
   ],
   "source": [
    "#Vérification sur nos données:\n",
    "classe_majoritaire(elections_label)"
   ]
  },
  {
   "cell_type": "markdown",
   "metadata": {},
   "source": [
    "### Entropie et gain d'information\n",
    "\n",
    "<div class=\"alert alert-block alert-warning\">\n",
    "    \n",
    "On note $\\{c_1, c_2,..., c_k\\}$, l'ensemble des valeurs de classes possibles dans un ensemble $Y$.\n",
    "\n",
    "On note $p_1$ la probabilité de la classe $c_1$ parmi $Y$, etc., et on note $P=(p_1, p_2,..., p_k)$ la distribution de probabilités sur les classes.\n",
    "\n",
    "L'**entropie de Shannon** de la distribution $P$ est donnée par:\n",
    "\n",
    "$ H_S(P) = -\\sum_{i=1}^{k} p_i \\log_k(p_i)$\n",
    "\n",
    "Le logarithme utilisé est le logarithme en base $k$ afin d'obtenir une valeur comprise entre $0$ et $1$ de l'entropie. \n",
    "</div>\n",
    "\n",
    "Pour ce qui suit, une *distribution de probabilités* est représentée par une **liste** Python $P=[p_1,...,p_k]$ de valeurs réelles telle que\n",
    "* pour tout $i=1,..., k$ : $0 \\leq p_i \\leq 1$\n",
    "* $\\sum_{i=1}^{k}p_i = 1$\n"
   ]
  },
  {
   "cell_type": "markdown",
   "metadata": {},
   "source": [
    "<font color=\"RED\" size=\"+1\">**[Q]**</font> Ecrire la fonction `shannon` qui, étant donné une distribution de probabilités $P$ fournie sous la forme d'une liste de nombres, rend la valeur de $H_S(P)$, l'entropie de Shannon de $P$."
   ]
  },
  {
   "cell_type": "code",
   "execution_count": 10,
   "metadata": {},
   "outputs": [],
   "source": [
    "import math\n",
    "def shannon(P):\n",
    "    \"\"\" list[Number] -> float\n",
    "        Hypothèse: la somme des nombres de P vaut 1\n",
    "        P correspond à une distribution de probabilité\n",
    "        rend la valeur de l'entropie de Shannon correspondante\n",
    "        rem: la fonction utilise le log dont la base correspond à la taille de P\n",
    "    \"\"\"\n",
    "    p = np.array(P) #transforme en nparray\n",
    "    k = p.shape[0]  #len == nb catégories\n",
    "    if k==1:        #parce que python refuse de prendre le log de 0\n",
    "        return 0\n",
    "    p = p[p!=0]     #pareil\n",
    "    return - np.sum( p * np.emath.logn(k,p))#np.multiply( p, np.emath.logn(k,p) ) )  )\n",
    "    "
   ]
  },
  {
   "cell_type": "code",
   "execution_count": 11,
   "metadata": {},
   "outputs": [
    {
     "name": "stdout",
     "output_type": "stream",
     "text": [
      "H([1]) =  0\n",
      "H([1,0]) =  -0.0\n",
      "H([0.25, 0.25, 0.25, 0.25]) =  1.0\n",
      "H([0.7, 0.1, 0.2, 0.0]) =  0.5783898247235197\n",
      "H([1.0/3, 2.0/3]) =  0.9182958340544896\n"
     ]
    }
   ],
   "source": [
    "# Exemples d'utilisation:\n",
    "print(\"H([1]) = \", shannon([1]))\n",
    "print(\"H([1,0]) = \", shannon([1, 0]))\n",
    "print(\"H([0.25, 0.25, 0.25, 0.25]) = \", shannon([0.25, 0.25, 0.25, 0.25]))\n",
    "print(\"H([0.7, 0.1, 0.2, 0.0]) = \", shannon([0.7, 0.1, 0.2, 0.0]))\n",
    "print(\"H([1.0/3, 2.0/3]) = \", shannon([1.0/3, 2.0/3]))"
   ]
  },
  {
   "cell_type": "markdown",
   "metadata": {},
   "source": [
    "<font color=\"RED\" size=\"+1\">**[Q]**</font> Tracer, à l'aide de la fonction `plot`, la courbe donnant la valeur de `shannon([p, 1-p])` en fonction de `p`."
   ]
  },
  {
   "cell_type": "code",
   "execution_count": 12,
   "metadata": {},
   "outputs": [
    {
     "data": {
      "image/png": "[encoded data removed]",
      "text/plain": [
       "<Figure size 640x480 with 1 Axes>"
      ]
     },
     "metadata": {},
     "output_type": "display_data"
    }
   ],
   "source": [
    "x = np.linspace(0,1,40)\n",
    "y = np.array([shannon([p,1-p]) for p in x])\n",
    "plt.plot(x,y,label='Fonction Shannon')\n",
    "plt.legend()\n",
    "plt.xlabel('p')\n",
    "plt.ylabel('shannon([p,1-p])')\n",
    "plt.grid()"
   ]
  },
  {
   "cell_type": "markdown",
   "metadata": {},
   "source": [
    "<font color=\"RED\" size=\"+1\">**[Q]**</font> A l'aide de la fonction <code>shannon</code>, écrire la fonction <code>entropie</code> qui prend un ensemble de labels en argument et renvoie l'entropie de la distribution des classes dans cet ensemble."
   ]
  },
  {
   "cell_type": "code",
   "execution_count": 13,
   "metadata": {},
   "outputs": [],
   "source": [
    "def entropie(Y):\n",
    "    size = Y.shape[0]   #nb elts total\n",
    "    val, nb = np.unique(Y,return_counts=True)\n",
    "    p = nb/size     #p est la liste de probabilités\n",
    "    return shannon(p)\n",
    "    "
   ]
  },
  {
   "cell_type": "code",
   "execution_count": 14,
   "metadata": {},
   "outputs": [
    {
     "data": {
      "text/plain": [
       "0.9544340029249649"
      ]
     },
     "execution_count": 14,
     "metadata": {},
     "output_type": "execute_result"
    }
   ],
   "source": [
    "# Exemple sur nos données :\n",
    "entropie(elections_label)"
   ]
  },
  {
   "cell_type": "markdown",
   "metadata": {},
   "source": [
    "## Arbres de décision\n",
    "\n",
    "Dans cette partie, on réalise l'implémentation de l'algorithme de construction d'un arbre de décision."
   ]
  },
  {
   "cell_type": "markdown",
   "metadata": {},
   "source": [
    "### Représentation d'un arbre en Python"
   ]
  },
  {
   "cell_type": "markdown",
   "metadata": {},
   "source": [
    "<div class=\"alert alert-block alert-warning\">\n",
    "Pour représenter un arbre en Python, on a besoin de définir une structure de données adéquate. \n",
    "\n",
    "Un arbre de décision est défini par des **noeuds** qui sont de 2 types :\n",
    "- *noeud interne* : c'est un noeud qui est associé à un attribut (ie. une feature de description des exemples) et qui possède des fils qui sont aussi des noeuds. \n",
    "- *feuille* : c'est un noeud qui est associé à un label de la classe et qui a la particularité de ne pas avoir de descendants.\n",
    "</div>\n",
    "Pour représenter des noeuds, nous définissons la classe `NoeudCategoriel` suivante:"
   ]
  },
  {
   "cell_type": "code",
   "execution_count": 15,
   "metadata": {},
   "outputs": [],
   "source": [
    "# La librairie suivante est nécessaire pour l'affichage graphique de l'arbre:\n",
    "import graphviz as gv\n",
    "\n",
    "# Eventuellement, il peut être nécessaire d'installer graphviz sur votre compte:\n",
    "# pip install --user --install-option=\"--prefix=\" -U graphviz\n",
    "\n",
    "class NoeudCategoriel:\n",
    "    \"\"\" Classe pour représenter des noeuds d'un arbre de décision\n",
    "    \"\"\"\n",
    "    def __init__(self, num_att=-1, nom=''):\n",
    "        \"\"\" Constructeur: il prend en argument\n",
    "            - num_att (int) : le numéro de l'attribut auquel il se rapporte: de 0 à ...\n",
    "              si le noeud se rapporte à la classe, le numéro est -1, on n'a pas besoin\n",
    "              de le préciser\n",
    "            - nom (str) : une chaîne de caractères donnant le nom de l'attribut si\n",
    "              il est connu (sinon, on ne met rien et le nom sera donné de façon \n",
    "              générique: \"att_Numéro\")\n",
    "        \"\"\"\n",
    "        self.attribut = num_att    # numéro de l'attribut\n",
    "        if (nom == ''):            # son nom si connu\n",
    "            self.nom_attribut = 'att_'+str(num_att)\n",
    "        else:\n",
    "            self.nom_attribut = nom \n",
    "        self.Les_fils = None       # aucun fils à la création, ils seront ajoutés\n",
    "        self.classe   = None       # valeur de la classe si c'est une feuille\n",
    "        \n",
    "    def est_feuille(self):\n",
    "        \"\"\" rend True si l'arbre est une feuille \n",
    "            c'est une feuille s'il n'a aucun fils\n",
    "        \"\"\"\n",
    "        return self.Les_fils == None\n",
    "    \n",
    "    def ajoute_fils(self, valeur, Fils):\n",
    "        \"\"\" valeur : valeur de l'attribut de ce noeud qui doit être associée à Fils\n",
    "                     le type de cette valeur dépend de la base\n",
    "            Fils (NoeudCategoriel) : un nouveau fils pour ce noeud\n",
    "            Les fils sont stockés sous la forme d'un dictionnaire:\n",
    "            Dictionnaire {valeur_attribut : NoeudCategoriel}\n",
    "        \"\"\"\n",
    "        if self.Les_fils == None:\n",
    "            self.Les_fils = dict()\n",
    "        self.Les_fils[valeur] = Fils\n",
    "        # Rem: attention, on ne fait aucun contrôle, la nouvelle association peut\n",
    "        # écraser une association existante.\n",
    "    \n",
    "    def ajoute_feuille(self,classe):\n",
    "        \"\"\" classe: valeur de la classe\n",
    "            Ce noeud devient un noeud feuille\n",
    "        \"\"\"\n",
    "        self.classe    = classe\n",
    "        self.Les_fils  = None   # normalement, pas obligatoire ici, c'est pour être sûr\n",
    "        \n",
    "    def classifie(self, exemple):\n",
    "        \"\"\" exemple : numpy.array\n",
    "            rend la classe de l'exemple (pour nous, soit +1, soit -1 en général)\n",
    "            on rend la valeur 0 si l'exemple ne peut pas être classé (cf. les questions\n",
    "            posées en fin de ce notebook)\n",
    "        \"\"\"\n",
    "        if self.est_feuille():\n",
    "            return self.classe\n",
    "        if exemple[self.attribut] in self.Les_fils:\n",
    "            # descente récursive dans le noeud associé à la valeur de l'attribut\n",
    "            # pour cet exemple:\n",
    "            return self.Les_fils[exemple[self.attribut]].classifie(exemple)\n",
    "        else:\n",
    "            # Cas particulier : on ne trouve pas la valeur de l'exemple dans la liste des\n",
    "            # fils du noeud... Voir la fin de ce notebook pour essayer de résoudre ce mystère...\n",
    "            print('\\t*** Warning: attribut ',self.nom_attribut,' -> Valeur inconnue: ',exemple[self.attribut])\n",
    "            return 0\n",
    "    \n",
    "    def to_graph(self, g, prefixe='A'):\n",
    "        \"\"\" construit une représentation de l'arbre pour pouvoir l'afficher graphiquement\n",
    "            Cette fonction ne nous intéressera pas plus que ça, elle ne sera donc pas expliquée            \n",
    "        \"\"\"\n",
    "        if self.est_feuille():\n",
    "            g.node(prefixe,str(self.classe),shape='box')\n",
    "        else:\n",
    "            g.node(prefixe, self.nom_attribut)\n",
    "            i =0\n",
    "            for (valeur, sous_arbre) in self.Les_fils.items():\n",
    "                sous_arbre.to_graph(g,prefixe+str(i))\n",
    "                g.edge(prefixe,prefixe+str(i), valeur)\n",
    "                i = i+1        \n",
    "        return g\n"
   ]
  },
  {
   "cell_type": "code",
   "execution_count": 16,
   "metadata": {},
   "outputs": [
    {
     "data": {
      "image/svg+xml": "<?xml version=\"1.0\" encoding=\"UTF-8\" standalone=\"no\"?>\n<!DOCTYPE svg PUBLIC \"-//W3C//DTD SVG 1.1//EN\"\n \"http://www.w3.org/Graphics/SVG/1.1/DTD/svg11.dtd\">\n<!-- Generated by graphviz version 5.0.0 (0)\n -->\n<!-- Pages: 1 -->\n<svg width=\"134pt\" height=\"218pt\"\n viewBox=\"0.00 0.00 134.00 218.00\" xmlns=\"http://www.w3.org/2000/svg\" xmlns:xlink=\"http://www.w3.org/1999/xlink\">\n<g id=\"graph0\" class=\"graph\" transform=\"scale(1 1) rotate(0) translate(4 214)\">\n<polygon fill=\"white\" stroke=\"transparent\" points=\"-4,4 -4,-214 130,-214 130,4 -4,4\"/>\n<!-- A -->\n<g id=\"node1\" class=\"node\">\n<title>A</title>\n<ellipse fill=\"none\" stroke=\"black\" cx=\"63\" cy=\"-192\" rx=\"31.4\" ry=\"18\"/>\n<text text-anchor=\"middle\" x=\"63\" y=\"-188.3\" font-family=\"Times,serif\" font-size=\"14.00\">nom3</text>\n</g>\n<!-- A0 -->\n<g id=\"node2\" class=\"node\">\n<title>A0</title>\n<ellipse fill=\"none\" stroke=\"black\" cx=\"63\" cy=\"-105\" rx=\"31.4\" ry=\"18\"/>\n<text text-anchor=\"middle\" x=\"63\" y=\"-101.3\" font-family=\"Times,serif\" font-size=\"14.00\">nom2</text>\n</g>\n<!-- A&#45;&gt;A0 -->\n<g id=\"edge3\" class=\"edge\">\n<title>A&#45;&gt;A0</title>\n<path fill=\"none\" stroke=\"black\" d=\"M63,-173.8C63,-162.16 63,-146.55 63,-133.24\"/>\n<polygon fill=\"black\" stroke=\"black\" points=\"66.5,-133.18 63,-123.18 59.5,-133.18 66.5,-133.18\"/>\n<text text-anchor=\"middle\" x=\"75\" y=\"-144.8\" font-family=\"Times,serif\" font-size=\"14.00\">val3</text>\n</g>\n<!-- A00 -->\n<g id=\"node3\" class=\"node\">\n<title>A00</title>\n<polygon fill=\"none\" stroke=\"black\" points=\"54,-36 0,-36 0,0 54,0 54,-36\"/>\n<text text-anchor=\"middle\" x=\"27\" y=\"-14.3\" font-family=\"Times,serif\" font-size=\"14.00\">&#45;1</text>\n</g>\n<!-- A0&#45;&gt;A00 -->\n<g id=\"edge1\" class=\"edge\">\n<title>A0&#45;&gt;A00</title>\n<path fill=\"none\" stroke=\"black\" d=\"M55.89,-87.21C50.84,-75.29 43.97,-59.06 38.19,-45.42\"/>\n<polygon fill=\"black\" stroke=\"black\" points=\"41.34,-43.89 34.22,-36.05 34.9,-46.62 41.34,-43.89\"/>\n<text text-anchor=\"middle\" x=\"60\" y=\"-57.8\" font-family=\"Times,serif\" font-size=\"14.00\">val1</text>\n</g>\n<!-- A01 -->\n<g id=\"node4\" class=\"node\">\n<title>A01</title>\n<polygon fill=\"none\" stroke=\"black\" points=\"126,-36 72,-36 72,0 126,0 126,-36\"/>\n<text text-anchor=\"middle\" x=\"99\" y=\"-14.3\" font-family=\"Times,serif\" font-size=\"14.00\">1</text>\n</g>\n<!-- A0&#45;&gt;A01 -->\n<g id=\"edge2\" class=\"edge\">\n<title>A0&#45;&gt;A01</title>\n<path fill=\"none\" stroke=\"black\" d=\"M70.11,-87.21C75.16,-75.29 82.03,-59.06 87.81,-45.42\"/>\n<polygon fill=\"black\" stroke=\"black\" points=\"91.1,-46.62 91.78,-36.05 84.66,-43.89 91.1,-46.62\"/>\n<text text-anchor=\"middle\" x=\"95\" y=\"-57.8\" font-family=\"Times,serif\" font-size=\"14.00\">val2</text>\n</g>\n</g>\n</svg>\n",
      "text/plain": [
       "<graphviz.graphs.Digraph at 0x7f0f81e66250>"
      ]
     },
     "execution_count": 16,
     "metadata": {},
     "output_type": "execute_result"
    }
   ],
   "source": [
    "# Exemple d'utilisation: \n",
    "un_noeud0= NoeudCategoriel() \n",
    "un_noeud0.ajoute_feuille(-1)\n",
    "\n",
    "un_noeud1= NoeudCategoriel()\n",
    "un_noeud1.ajoute_feuille(+1)\n",
    "\n",
    "un_noeud2= NoeudCategoriel(0,\"nom2\")\n",
    "un_noeud2.ajoute_fils(\"val1\",un_noeud0)\n",
    "un_noeud2.ajoute_fils(\"val2\",un_noeud1)\n",
    "\n",
    "un_noeud3 = NoeudCategoriel(1,\"nom3\")\n",
    "un_noeud3.ajoute_fils(\"val3\",un_noeud2)\n",
    "\n",
    "# L'affichage se fait en 2 temps\n",
    "# 1) on initialise un graphe orienté :\n",
    "gtree = gv.Digraph(format='png')\n",
    "# 2) on le rempli en appelant la méthode de la classe NoeudCategoriel\n",
    "un_noeud3.to_graph(gtree)"
   ]
  },
  {
   "cell_type": "markdown",
   "metadata": {},
   "source": [
    "### Construction de l'arbre de décision"
   ]
  },
  {
   "cell_type": "markdown",
   "metadata": {},
   "source": [
    "<div class=\"alert alert-block alert-warning\">\n",
    "Comme on l'a vu dans le cours, pour construire un arbre de décision à partir d'un dataset ($X$, $Y$), il faut réaliser les étapes suivantes:\n",
    "    \n",
    "1. calculer l'entropie de Shannon de l'ensemble des classes $Y$, on la note $H_S(Y)$.\n",
    "    \n",
    "2. si $H_S(Y)$ est inférieure à epsilon (qui est un réel positif donné en paramètre de l'algorithme), alors construire une feuille avec cet ensemble, la classe associée à cette feuille est la classe majoritaire dans $Y$.\n",
    "    \n",
    "3. sinon, pour chaque attribut $X_j$ qui décrit les exemples de $X$,\n",
    "    \n",
    "    3.1. pour chacune des valeurs $v_{jl}$ de $X_j$ construire l'ensemble des exemples de $X$ qui possède la valeur $v_{jl}$ ainsi que l'ensemble de leurs labels.\n",
    "    \n",
    "    3.2. calculer l'entropie conditionnelle de Shannon de la classe relativement à l'attribut $X_j$. On note $H_S(Y|X_j)$ cette entropie.    \n",
    "    \n",
    "    \n",
    "4. l'attribut $X_{best}$ qui **maximise le gain d'information** est choisi pour constituer un nouveau noeud $\\eta$ de l'arbre de décision:\n",
    "    \n",
    "    4.1. chaque valeur de $X_{best}$ est utilisée pour décomposer ($X$, $Y$) en autant de datasets que $X_{best}$ possède de valeurs: chaque dataset est séparant $X$ et $Y$ selon la valeur prise pour $X_{best}$. \n",
    "    \n",
    "    4.2. pour chaque dataset obtenu on reprend en 1 pour construire chacun des fils de $\\eta$. \n",
    "\n",
    "\n",
    "On rappelle que le gain d'information est:\n",
    "\n",
    "$$I_S(X_j,Y) = H_S(Y) - H_S(Y|X_j)$$\n",
    "\n",
    "On peut remarquer que chercher l'attribut $X_j$ qui **maximise le gain d'information** $I_S(X_j,Y)$ est équivalent à chercher $X_j$ qui **minimise l'entropie** $H_S(Y|X_j)$ (car le terme $H_S(Y)$ reste constant pour les calculs pour tous les attributs).\n",
    "</div>"
   ]
  },
  {
   "cell_type": "markdown",
   "metadata": {},
   "source": [
    "<font color=\"RED\" size=\"+1\">**[Q]**</font> Compléter la fonction `construit_AD`suivante afin qu'elle permette de construire un arbre de décision. Cette fonction rend un `NoeudCategoriel` qui correspond à l'arbre construit pour le dataset $(X,Y)$ donné."
   ]
  },
  {
   "cell_type": "code",
   "execution_count": 17,
   "metadata": {},
   "outputs": [],
   "source": [
    "def construit_AD(X,Y,epsilon,LNoms = []):\n",
    "    \"\"\" X,Y : dataset\n",
    "        epsilon : seuil d'entropie pour le critère d'arrêt \n",
    "        LNoms : liste des noms de features (colonnes) de description \n",
    "    \"\"\"\n",
    "    \n",
    "    entropie_ens = entropie(Y)\n",
    "    if (entropie_ens <= epsilon):\n",
    "        # ARRET : on crée une feuille\n",
    "        noeud = NoeudCategoriel(-1,\"Label\")\n",
    "        noeud.ajoute_feuille(classe_majoritaire(Y))\n",
    "    else:\n",
    "        min_entropie = 1.1\n",
    "        i_best = -1\n",
    "        Xbest_valeurs = None\n",
    "        \n",
    "        #############\n",
    "        \n",
    "        # COMPLETER CETTE PARTIE : ELLE DOIT PERMETTRE D'OBTENIR DANS\n",
    "        # i_best : le numéro de l'attribut qui minimise l'entropie\n",
    "        # min_entropie : la valeur de l'entropie minimale\n",
    "        # Xbest_valeurs : la liste des valeurs que peut prendre l'attribut i_best\n",
    "        #\n",
    "        # Il est donc nécessaire ici de parcourir tous les attributs et de calculer\n",
    "        # la valeur de l'entropie de la classe pour chaque attribut.\n",
    "        for j, feature in enumerate(LNoms):\n",
    "            Xj = X[:,j]\n",
    "            valeurs, frequences = np.unique(Xj, return_counts=True)\n",
    "            entropie_cond=0\n",
    "            for valeur, frequence in zip(valeurs,frequences):\n",
    "                Xs = X[Xj==valeur]\n",
    "                Ys = Y[Xj==valeur]\n",
    "                entropie_cond += frequence/(Xj.shape[0]) * entropie(Ys)\n",
    "                #print(f\"ent = {ent} f = {j} et val = {valeur}\") \n",
    "            if min_entropie > entropie_cond:\n",
    "                min_entropie = entropie_cond\n",
    "                i_best = j\n",
    "                Xbest_valeurs = valeurs\n",
    "                \n",
    "        \n",
    "        ############\n",
    "        \n",
    "        if len(LNoms)>0:  # si on a des noms de features\n",
    "            noeud = NoeudCategoriel(i_best,LNoms[i_best])    \n",
    "        else:\n",
    "            noeud = NoeudCategoriel(i_best)\n",
    "        for v in Xbest_valeurs:\n",
    "            noeud.ajoute_fils(v,construit_AD(X[X[:,i_best]==v], Y[X[:,i_best]==v],epsilon,LNoms))\n",
    "    return noeud"
   ]
  },
  {
   "cell_type": "markdown",
   "metadata": {},
   "source": [
    "La classe pour implémenter un arbre de décision dérive de la classe `Classifier`. Elle utilise la fonction `construit_AD` dans sa méthode `train` pour construire un arbre à partir d'un dataset donné.\n",
    "\n",
    "<font color=\"RED\" size=\"+1\">**[Q]**</font> Compléter la classe suivante en donnant le code des méthodes `train` et `predict`.\n",
    "\n",
    "**Remarque :** la méthode `score` ne fera rien dans notre cas, on verra dans un autre notebook comment on pourrait la définir."
   ]
  },
  {
   "cell_type": "code",
   "execution_count": 18,
   "metadata": {},
   "outputs": [],
   "source": [
    "class ClassifierArbreDecision(cl.Classifier):\n",
    "    \"\"\" Classe pour représenter un classifieur par arbre de décision\n",
    "    \"\"\"\n",
    "    \n",
    "    def __init__(self, input_dimension, epsilon, LNoms=[]):\n",
    "        \"\"\" Constructeur\n",
    "            Argument:\n",
    "                - intput_dimension (int) : dimension de la description des exemples\n",
    "                - epsilon (float) : paramètre de l'algorithme (cf. explications précédentes)\n",
    "                - LNoms : Liste des noms de dimensions (si connues)\n",
    "            Hypothèse : input_dimension > 0\n",
    "        \"\"\"\n",
    "        self.dimension = input_dimension\n",
    "        self.epsilon = epsilon\n",
    "        self.LNoms = LNoms\n",
    "        # l'arbre est manipulé par sa racine qui sera un Noeud\n",
    "        self.racine = None\n",
    "        \n",
    "    def toString(self):\n",
    "        \"\"\"  -> str\n",
    "            rend le nom du classifieur avec ses paramètres\n",
    "        \"\"\"\n",
    "        return 'ClassifierArbreDecision ['+str(self.dimension) + '] eps='+str(self.epsilon)\n",
    "        \n",
    "    def train(self, desc_set, label_set):\n",
    "        \"\"\" Permet d'entrainer le modele sur l'ensemble donné\n",
    "            desc_set: ndarray avec des descriptions\n",
    "            label_set: ndarray avec les labels correspondants\n",
    "            Hypothèse: desc_set et label_set ont le même nombre de lignes\n",
    "        \"\"\"        \n",
    "        ##################\n",
    "        ## COMPLETER ICI !\n",
    "        ##################\n",
    "        self.racine = construit_AD(desc_set,label_set,self.epsilon, self.LNoms)\n",
    "    \n",
    "    def score(self,x):\n",
    "        \"\"\" rend le score de prédiction sur x (valeur réelle)\n",
    "            x: une description\n",
    "        \"\"\"\n",
    "        # cette méthode ne fait rien dans notre implémentation :\n",
    "        pass\n",
    "    \n",
    "    def predict(self, x):\n",
    "        \"\"\" x (array): une description d'exemple\n",
    "            rend la prediction sur x             \n",
    "        \"\"\"\n",
    "        ##################\n",
    "        ## COMPLETER ICI !\n",
    "        ##################\n",
    "        if self.racine is not None:\n",
    "            return self.racine.classifie(x)\n",
    "        print(\"Quel horreur\")\n",
    "        return None\n",
    "\n",
    "    def affiche(self,GTree):\n",
    "        \"\"\" affichage de l'arbre sous forme graphique\n",
    "            Cette fonction modifie GTree par effet de bord\n",
    "        \"\"\"\n",
    "        self.racine.to_graph(GTree)"
   ]
  },
  {
   "cell_type": "markdown",
   "metadata": {},
   "source": [
    "### Premières expérimentations"
   ]
  },
  {
   "cell_type": "markdown",
   "metadata": {},
   "source": [
    "Apprentissage d'un arbre de décision avec la base sur les élections :"
   ]
  },
  {
   "cell_type": "markdown",
   "metadata": {},
   "source": []
  },
  {
   "cell_type": "code",
   "execution_count": 19,
   "metadata": {},
   "outputs": [
    {
     "data": {
      "text/html": [
       "<div>\n",
       "<style scoped>\n",
       "    .dataframe tbody tr th:only-of-type {\n",
       "        vertical-align: middle;\n",
       "    }\n",
       "\n",
       "    .dataframe tbody tr th {\n",
       "        vertical-align: top;\n",
       "    }\n",
       "\n",
       "    .dataframe thead th {\n",
       "        text-align: right;\n",
       "    }\n",
       "</style>\n",
       "<table border=\"1\" class=\"dataframe\">\n",
       "  <thead>\n",
       "    <tr style=\"text-align: right;\">\n",
       "      <th></th>\n",
       "      <th>Adresse</th>\n",
       "      <th>Majeur?</th>\n",
       "      <th>Nationalite</th>\n",
       "      <th>Label</th>\n",
       "    </tr>\n",
       "  </thead>\n",
       "  <tbody>\n",
       "    <tr>\n",
       "      <th>0</th>\n",
       "      <td>Paris</td>\n",
       "      <td>oui</td>\n",
       "      <td>Francais</td>\n",
       "      <td>1</td>\n",
       "    </tr>\n",
       "    <tr>\n",
       "      <th>1</th>\n",
       "      <td>Paris</td>\n",
       "      <td>non</td>\n",
       "      <td>Francais</td>\n",
       "      <td>-1</td>\n",
       "    </tr>\n",
       "    <tr>\n",
       "      <th>2</th>\n",
       "      <td>Montpellier</td>\n",
       "      <td>oui</td>\n",
       "      <td>Italien</td>\n",
       "      <td>1</td>\n",
       "    </tr>\n",
       "    <tr>\n",
       "      <th>3</th>\n",
       "      <td>Paris</td>\n",
       "      <td>oui</td>\n",
       "      <td>Suisse</td>\n",
       "      <td>-1</td>\n",
       "    </tr>\n",
       "    <tr>\n",
       "      <th>4</th>\n",
       "      <td>Strasbourg</td>\n",
       "      <td>non</td>\n",
       "      <td>Italien</td>\n",
       "      <td>-1</td>\n",
       "    </tr>\n",
       "    <tr>\n",
       "      <th>5</th>\n",
       "      <td>Strasbourg</td>\n",
       "      <td>non</td>\n",
       "      <td>Francais</td>\n",
       "      <td>-1</td>\n",
       "    </tr>\n",
       "    <tr>\n",
       "      <th>6</th>\n",
       "      <td>Strasbourg</td>\n",
       "      <td>oui</td>\n",
       "      <td>Francais</td>\n",
       "      <td>1</td>\n",
       "    </tr>\n",
       "    <tr>\n",
       "      <th>7</th>\n",
       "      <td>Montpellier</td>\n",
       "      <td>oui</td>\n",
       "      <td>Suisse</td>\n",
       "      <td>-1</td>\n",
       "    </tr>\n",
       "  </tbody>\n",
       "</table>\n",
       "</div>"
      ],
      "text/plain": [
       "       Adresse Majeur? Nationalite  Label\n",
       "0        Paris     oui    Francais      1\n",
       "1        Paris     non    Francais     -1\n",
       "2  Montpellier     oui     Italien      1\n",
       "3        Paris     oui      Suisse     -1\n",
       "4   Strasbourg     non     Italien     -1\n",
       "5   Strasbourg     non    Francais     -1\n",
       "6   Strasbourg     oui    Francais      1\n",
       "7  Montpellier     oui      Suisse     -1"
      ]
     },
     "execution_count": 19,
     "metadata": {},
     "output_type": "execute_result"
    }
   ],
   "source": [
    "elections_df"
   ]
  },
  {
   "cell_type": "code",
   "execution_count": 20,
   "metadata": {},
   "outputs": [
    {
     "data": {
      "image/svg+xml": "<?xml version=\"1.0\" encoding=\"UTF-8\" standalone=\"no\"?>\n<!DOCTYPE svg PUBLIC \"-//W3C//DTD SVG 1.1//EN\"\n \"http://www.w3.org/Graphics/SVG/1.1/DTD/svg11.dtd\">\n<!-- Generated by graphviz version 5.0.0 (0)\n -->\n<!-- Pages: 1 -->\n<svg width=\"229pt\" height=\"218pt\"\n viewBox=\"0.00 0.00 229.00 218.00\" xmlns=\"http://www.w3.org/2000/svg\" xmlns:xlink=\"http://www.w3.org/1999/xlink\">\n<g id=\"graph0\" class=\"graph\" transform=\"scale(1 1) rotate(0) translate(4 214)\">\n<polygon fill=\"white\" stroke=\"transparent\" points=\"-4,4 -4,-214 225,-214 225,4 -4,4\"/>\n<!-- A -->\n<g id=\"node1\" class=\"node\">\n<title>A</title>\n<ellipse fill=\"none\" stroke=\"black\" cx=\"49\" cy=\"-192\" rx=\"40.09\" ry=\"18\"/>\n<text text-anchor=\"middle\" x=\"49\" y=\"-188.3\" font-family=\"Times,serif\" font-size=\"14.00\">Majeur?</text>\n</g>\n<!-- A0 -->\n<g id=\"node2\" class=\"node\">\n<title>A0</title>\n<polygon fill=\"none\" stroke=\"black\" points=\"54,-123 0,-123 0,-87 54,-87 54,-123\"/>\n<text text-anchor=\"middle\" x=\"27\" y=\"-101.3\" font-family=\"Times,serif\" font-size=\"14.00\">&#45;1</text>\n</g>\n<!-- A&#45;&gt;A0 -->\n<g id=\"edge1\" class=\"edge\">\n<title>A&#45;&gt;A0</title>\n<path fill=\"none\" stroke=\"black\" d=\"M44.55,-173.8C41.54,-162.16 37.49,-146.55 34.05,-133.24\"/>\n<polygon fill=\"black\" stroke=\"black\" points=\"37.34,-131.98 31.45,-123.18 30.56,-133.73 37.34,-131.98\"/>\n<text text-anchor=\"middle\" x=\"50.5\" y=\"-144.8\" font-family=\"Times,serif\" font-size=\"14.00\">non</text>\n</g>\n<!-- A1 -->\n<g id=\"node3\" class=\"node\">\n<title>A1</title>\n<ellipse fill=\"none\" stroke=\"black\" cx=\"122\" cy=\"-105\" rx=\"50.09\" ry=\"18\"/>\n<text text-anchor=\"middle\" x=\"122\" y=\"-101.3\" font-family=\"Times,serif\" font-size=\"14.00\">Nationalite</text>\n</g>\n<!-- A&#45;&gt;A1 -->\n<g id=\"edge5\" class=\"edge\">\n<title>A&#45;&gt;A1</title>\n<path fill=\"none\" stroke=\"black\" d=\"M62.73,-175.01C73.5,-162.47 88.68,-144.8 100.98,-130.48\"/>\n<polygon fill=\"black\" stroke=\"black\" points=\"103.97,-132.36 107.83,-122.5 98.66,-127.8 103.97,-132.36\"/>\n<text text-anchor=\"middle\" x=\"98\" y=\"-144.8\" font-family=\"Times,serif\" font-size=\"14.00\">oui</text>\n</g>\n<!-- A10 -->\n<g id=\"node4\" class=\"node\">\n<title>A10</title>\n<polygon fill=\"none\" stroke=\"black\" points=\"77,-36 23,-36 23,0 77,0 77,-36\"/>\n<text text-anchor=\"middle\" x=\"50\" y=\"-14.3\" font-family=\"Times,serif\" font-size=\"14.00\">1</text>\n</g>\n<!-- A1&#45;&gt;A10 -->\n<g id=\"edge2\" class=\"edge\">\n<title>A1&#45;&gt;A10</title>\n<path fill=\"none\" stroke=\"black\" d=\"M95.9,-89.63C87.46,-84.04 78.59,-77.03 72,-69 66.35,-62.12 61.89,-53.57 58.5,-45.49\"/>\n<polygon fill=\"black\" stroke=\"black\" points=\"61.72,-44.12 54.89,-36.02 55.18,-46.61 61.72,-44.12\"/>\n<text text-anchor=\"middle\" x=\"95\" y=\"-57.8\" font-family=\"Times,serif\" font-size=\"14.00\">Francais</text>\n</g>\n<!-- A11 -->\n<g id=\"node5\" class=\"node\">\n<title>A11</title>\n<polygon fill=\"none\" stroke=\"black\" points=\"149,-36 95,-36 95,0 149,0 149,-36\"/>\n<text text-anchor=\"middle\" x=\"122\" y=\"-14.3\" font-family=\"Times,serif\" font-size=\"14.00\">1</text>\n</g>\n<!-- A1&#45;&gt;A11 -->\n<g id=\"edge3\" class=\"edge\">\n<title>A1&#45;&gt;A11</title>\n<path fill=\"none\" stroke=\"black\" d=\"M122,-86.8C122,-75.16 122,-59.55 122,-46.24\"/>\n<polygon fill=\"black\" stroke=\"black\" points=\"125.5,-46.18 122,-36.18 118.5,-46.18 125.5,-46.18\"/>\n<text text-anchor=\"middle\" x=\"139.5\" y=\"-57.8\" font-family=\"Times,serif\" font-size=\"14.00\">Italien</text>\n</g>\n<!-- A12 -->\n<g id=\"node6\" class=\"node\">\n<title>A12</title>\n<polygon fill=\"none\" stroke=\"black\" points=\"221,-36 167,-36 167,0 221,0 221,-36\"/>\n<text text-anchor=\"middle\" x=\"194\" y=\"-14.3\" font-family=\"Times,serif\" font-size=\"14.00\">&#45;1</text>\n</g>\n<!-- A1&#45;&gt;A12 -->\n<g id=\"edge4\" class=\"edge\">\n<title>A1&#45;&gt;A12</title>\n<path fill=\"none\" stroke=\"black\" d=\"M141.58,-88.18C148.1,-82.47 155.18,-75.75 161,-69 167.32,-61.67 173.4,-53.07 178.58,-45.09\"/>\n<polygon fill=\"black\" stroke=\"black\" points=\"181.66,-46.77 184.02,-36.44 175.73,-43.04 181.66,-46.77\"/>\n<text text-anchor=\"middle\" x=\"189.5\" y=\"-57.8\" font-family=\"Times,serif\" font-size=\"14.00\">Suisse</text>\n</g>\n</g>\n</svg>\n",
      "text/plain": [
       "<graphviz.graphs.Digraph at 0x7f0f81dee490>"
      ]
     },
     "execution_count": 20,
     "metadata": {},
     "output_type": "execute_result"
    }
   ],
   "source": [
    "# Initialiation d'un arbre pour le dataset Elections:\n",
    "arbre_elections = ClassifierArbreDecision(len(elections_noms), 0.0, elections_noms)\n",
    "\n",
    "# Construction de l'arbre de décision à partir du dataset Elections\n",
    "arbre_elections.train(elections_desc,elections_label)\n",
    "\n",
    "# Construction de la représentation graphique (affichage)\n",
    "graphe_arbre_elections = gv.Digraph(format='png')\n",
    "arbre_elections.affiche(graphe_arbre_elections)\n",
    "\n",
    "# Affichage du graphe obtenu:\n",
    "graphe_arbre_elections"
   ]
  },
  {
   "cell_type": "code",
   "execution_count": 21,
   "metadata": {},
   "outputs": [
    {
     "data": {
      "image/svg+xml": "<?xml version=\"1.0\" encoding=\"UTF-8\" standalone=\"no\"?>\n<!DOCTYPE svg PUBLIC \"-//W3C//DTD SVG 1.1//EN\"\n \"http://www.w3.org/Graphics/SVG/1.1/DTD/svg11.dtd\">\n<!-- Generated by graphviz version 5.0.0 (0)\n -->\n<!-- Pages: 1 -->\n<svg width=\"229pt\" height=\"218pt\"\n viewBox=\"0.00 0.00 229.00 218.00\" xmlns=\"http://www.w3.org/2000/svg\" xmlns:xlink=\"http://www.w3.org/1999/xlink\">\n<g id=\"graph0\" class=\"graph\" transform=\"scale(1 1) rotate(0) translate(4 214)\">\n<polygon fill=\"white\" stroke=\"transparent\" points=\"-4,4 -4,-214 225,-214 225,4 -4,4\"/>\n<!-- A -->\n<g id=\"node1\" class=\"node\">\n<title>A</title>\n<ellipse fill=\"none\" stroke=\"black\" cx=\"49\" cy=\"-192\" rx=\"40.09\" ry=\"18\"/>\n<text text-anchor=\"middle\" x=\"49\" y=\"-188.3\" font-family=\"Times,serif\" font-size=\"14.00\">Majeur?</text>\n</g>\n<!-- A0 -->\n<g id=\"node2\" class=\"node\">\n<title>A0</title>\n<polygon fill=\"none\" stroke=\"black\" points=\"54,-123 0,-123 0,-87 54,-87 54,-123\"/>\n<text text-anchor=\"middle\" x=\"27\" y=\"-101.3\" font-family=\"Times,serif\" font-size=\"14.00\">&#45;1</text>\n</g>\n<!-- A&#45;&gt;A0 -->\n<g id=\"edge1\" class=\"edge\">\n<title>A&#45;&gt;A0</title>\n<path fill=\"none\" stroke=\"black\" d=\"M44.55,-173.8C41.54,-162.16 37.49,-146.55 34.05,-133.24\"/>\n<polygon fill=\"black\" stroke=\"black\" points=\"37.34,-131.98 31.45,-123.18 30.56,-133.73 37.34,-131.98\"/>\n<text text-anchor=\"middle\" x=\"50.5\" y=\"-144.8\" font-family=\"Times,serif\" font-size=\"14.00\">non</text>\n</g>\n<!-- A1 -->\n<g id=\"node3\" class=\"node\">\n<title>A1</title>\n<ellipse fill=\"none\" stroke=\"black\" cx=\"122\" cy=\"-105\" rx=\"50.09\" ry=\"18\"/>\n<text text-anchor=\"middle\" x=\"122\" y=\"-101.3\" font-family=\"Times,serif\" font-size=\"14.00\">Nationalite</text>\n</g>\n<!-- A&#45;&gt;A1 -->\n<g id=\"edge5\" class=\"edge\">\n<title>A&#45;&gt;A1</title>\n<path fill=\"none\" stroke=\"black\" d=\"M62.73,-175.01C73.5,-162.47 88.68,-144.8 100.98,-130.48\"/>\n<polygon fill=\"black\" stroke=\"black\" points=\"103.97,-132.36 107.83,-122.5 98.66,-127.8 103.97,-132.36\"/>\n<text text-anchor=\"middle\" x=\"98\" y=\"-144.8\" font-family=\"Times,serif\" font-size=\"14.00\">oui</text>\n</g>\n<!-- A10 -->\n<g id=\"node4\" class=\"node\">\n<title>A10</title>\n<polygon fill=\"none\" stroke=\"black\" points=\"77,-36 23,-36 23,0 77,0 77,-36\"/>\n<text text-anchor=\"middle\" x=\"50\" y=\"-14.3\" font-family=\"Times,serif\" font-size=\"14.00\">1</text>\n</g>\n<!-- A1&#45;&gt;A10 -->\n<g id=\"edge2\" class=\"edge\">\n<title>A1&#45;&gt;A10</title>\n<path fill=\"none\" stroke=\"black\" d=\"M95.9,-89.63C87.46,-84.04 78.59,-77.03 72,-69 66.35,-62.12 61.89,-53.57 58.5,-45.49\"/>\n<polygon fill=\"black\" stroke=\"black\" points=\"61.72,-44.12 54.89,-36.02 55.18,-46.61 61.72,-44.12\"/>\n<text text-anchor=\"middle\" x=\"95\" y=\"-57.8\" font-family=\"Times,serif\" font-size=\"14.00\">Francais</text>\n</g>\n<!-- A11 -->\n<g id=\"node5\" class=\"node\">\n<title>A11</title>\n<polygon fill=\"none\" stroke=\"black\" points=\"149,-36 95,-36 95,0 149,0 149,-36\"/>\n<text text-anchor=\"middle\" x=\"122\" y=\"-14.3\" font-family=\"Times,serif\" font-size=\"14.00\">1</text>\n</g>\n<!-- A1&#45;&gt;A11 -->\n<g id=\"edge3\" class=\"edge\">\n<title>A1&#45;&gt;A11</title>\n<path fill=\"none\" stroke=\"black\" d=\"M122,-86.8C122,-75.16 122,-59.55 122,-46.24\"/>\n<polygon fill=\"black\" stroke=\"black\" points=\"125.5,-46.18 122,-36.18 118.5,-46.18 125.5,-46.18\"/>\n<text text-anchor=\"middle\" x=\"139.5\" y=\"-57.8\" font-family=\"Times,serif\" font-size=\"14.00\">Italien</text>\n</g>\n<!-- A12 -->\n<g id=\"node6\" class=\"node\">\n<title>A12</title>\n<polygon fill=\"none\" stroke=\"black\" points=\"221,-36 167,-36 167,0 221,0 221,-36\"/>\n<text text-anchor=\"middle\" x=\"194\" y=\"-14.3\" font-family=\"Times,serif\" font-size=\"14.00\">&#45;1</text>\n</g>\n<!-- A1&#45;&gt;A12 -->\n<g id=\"edge4\" class=\"edge\">\n<title>A1&#45;&gt;A12</title>\n<path fill=\"none\" stroke=\"black\" d=\"M141.58,-88.18C148.1,-82.47 155.18,-75.75 161,-69 167.32,-61.67 173.4,-53.07 178.58,-45.09\"/>\n<polygon fill=\"black\" stroke=\"black\" points=\"181.66,-46.77 184.02,-36.44 175.73,-43.04 181.66,-46.77\"/>\n<text text-anchor=\"middle\" x=\"189.5\" y=\"-57.8\" font-family=\"Times,serif\" font-size=\"14.00\">Suisse</text>\n</g>\n</g>\n</svg>\n",
      "text/plain": [
       "<graphviz.graphs.Digraph at 0x7f0fbe2c6250>"
      ]
     },
     "execution_count": 21,
     "metadata": {},
     "output_type": "execute_result"
    }
   ],
   "source": [
    "# Initialiation d'un arbre pour le dataset Elections:\n",
    "arbre_elections = ClassifierArbreDecision(len(elections_noms), 0.0, elections_noms)\n",
    "\n",
    "# Construction de l'arbre de décision à partir du dataset Elections\n",
    "arbre_elections.train(elections_desc,elections_label)\n",
    "\n",
    "# Construction de la représentation graphique (affichage)\n",
    "graphe_arbre_elections = gv.Digraph(format='png')\n",
    "arbre_elections.affiche(graphe_arbre_elections)\n",
    "\n",
    "# Affichage du graphe obtenu:\n",
    "graphe_arbre_elections"
   ]
  },
  {
   "cell_type": "markdown",
   "metadata": {},
   "source": [
    "Pour classer un nouvel exemple avec un arbre de décision, on utilise la méthode <code>predict</code> qui utilise la méthode `classifie` de la classe `NoeudCategoriel` pour classer un nouvel exemple et renvoyer le label +1 ou -1 selon le cas. \n",
    "\n",
    "Exemple de classification d'un exemple avec l'arbre obtenu :"
   ]
  },
  {
   "cell_type": "code",
   "execution_count": 22,
   "metadata": {},
   "outputs": [
    {
     "data": {
      "text/plain": [
       "1"
      ]
     },
     "execution_count": 22,
     "metadata": {},
     "output_type": "execute_result"
    }
   ],
   "source": [
    "arbre_elections.predict(elections_desc[0,:])"
   ]
  },
  {
   "cell_type": "markdown",
   "metadata": {},
   "source": [
    "Classification d'un nouvel exemple qui n'appartient à pas au dataset d'apprentissage :"
   ]
  },
  {
   "cell_type": "code",
   "execution_count": 23,
   "metadata": {},
   "outputs": [
    {
     "data": {
      "text/plain": [
       "1"
      ]
     },
     "execution_count": 23,
     "metadata": {},
     "output_type": "execute_result"
    }
   ],
   "source": [
    "# Rappel : elections_noms = ['Adresse', 'Majeur?', 'Nationalite']\n",
    "arbre_elections.predict(np.array(['Paris','oui','Italien']))"
   ]
  },
  {
   "cell_type": "markdown",
   "metadata": {},
   "source": [
    "Mesure de l'accuracy de l'arbre obtenu :"
   ]
  },
  {
   "cell_type": "code",
   "execution_count": 24,
   "metadata": {},
   "outputs": [
    {
     "data": {
      "text/plain": [
       "1.0"
      ]
     },
     "execution_count": 24,
     "metadata": {},
     "output_type": "execute_result"
    }
   ],
   "source": [
    "arbre_elections.accuracy(elections_desc,elections_label)"
   ]
  },
  {
   "cell_type": "markdown",
   "metadata": {},
   "source": [
    "## Première expérimentation avec la base Mushrooms"
   ]
  },
  {
   "cell_type": "markdown",
   "metadata": {},
   "source": [
    "Pour mieux évaluer notre nouvel algortithme d'apprentissage, on va utiliser la base des champignons `mushrooms-1000.csv` qui est fournie dans le répertoire `data`. Ce dataset est une version réduite du dataset original qui comporte plus de 8000 champignons.\n",
    "\n",
    "\n",
    "\n",
    "Dans le répertorie `data/` fourni avec ce sujet, vous pouvez trouver 6 fichiers `mushrooms-****.csv`. Ces 6 fichiers ont été obtenus en partitionant le fichier orignal `mushrooms.csv` que l'on peut trouver sur internet. Dans cette base originale, il y a 8124 champignons recensés. Ce fichier original a été découpé en 5 fichiers de 1400 champignons et 1 fichier de 1124 champignons. L'union de ces 6 fichiers permet donc de recomposer le fichier original.\n"
   ]
  },
  {
   "cell_type": "markdown",
   "metadata": {},
   "source": [
    "### Construction d'un arbre de décision\n",
    "\n",
    "Dans un premier temps, on vérifie que notre algorithme d'apprentissage fonctionne correctement en construisant un arbre de décision à partir d'un des fichiers.\n",
    "\n",
    "On commence par charger le fichier dans un dataframe et on le transforme en dataset (cf. le notebook précédent pour le détail des étapes):"
   ]
  },
  {
   "cell_type": "code",
   "execution_count": 25,
   "metadata": {},
   "outputs": [
    {
     "data": {
      "text/html": [
       "<div>\n",
       "<style scoped>\n",
       "    .dataframe tbody tr th:only-of-type {\n",
       "        vertical-align: middle;\n",
       "    }\n",
       "\n",
       "    .dataframe tbody tr th {\n",
       "        vertical-align: top;\n",
       "    }\n",
       "\n",
       "    .dataframe thead th {\n",
       "        text-align: right;\n",
       "    }\n",
       "</style>\n",
       "<table border=\"1\" class=\"dataframe\">\n",
       "  <thead>\n",
       "    <tr style=\"text-align: right;\">\n",
       "      <th></th>\n",
       "      <th>class</th>\n",
       "      <th>cap-shape</th>\n",
       "      <th>cap-surface</th>\n",
       "      <th>cap-color</th>\n",
       "      <th>bruises</th>\n",
       "      <th>odor</th>\n",
       "      <th>gill-attachment</th>\n",
       "      <th>gill-spacing</th>\n",
       "      <th>gill-size</th>\n",
       "      <th>gill-color</th>\n",
       "      <th>...</th>\n",
       "      <th>stalk-surface-below-ring</th>\n",
       "      <th>stalk-color-above-ring</th>\n",
       "      <th>stalk-color-below-ring</th>\n",
       "      <th>veil-type</th>\n",
       "      <th>veil-color</th>\n",
       "      <th>ring-number</th>\n",
       "      <th>ring-type</th>\n",
       "      <th>spore-print-color</th>\n",
       "      <th>population</th>\n",
       "      <th>habitat</th>\n",
       "    </tr>\n",
       "  </thead>\n",
       "  <tbody>\n",
       "    <tr>\n",
       "      <th>0</th>\n",
       "      <td>p</td>\n",
       "      <td>x</td>\n",
       "      <td>y</td>\n",
       "      <td>n</td>\n",
       "      <td>f</td>\n",
       "      <td>y</td>\n",
       "      <td>f</td>\n",
       "      <td>c</td>\n",
       "      <td>n</td>\n",
       "      <td>b</td>\n",
       "      <td>...</td>\n",
       "      <td>s</td>\n",
       "      <td>p</td>\n",
       "      <td>w</td>\n",
       "      <td>p</td>\n",
       "      <td>w</td>\n",
       "      <td>o</td>\n",
       "      <td>e</td>\n",
       "      <td>w</td>\n",
       "      <td>v</td>\n",
       "      <td>d</td>\n",
       "    </tr>\n",
       "    <tr>\n",
       "      <th>1</th>\n",
       "      <td>p</td>\n",
       "      <td>x</td>\n",
       "      <td>s</td>\n",
       "      <td>n</td>\n",
       "      <td>f</td>\n",
       "      <td>y</td>\n",
       "      <td>f</td>\n",
       "      <td>c</td>\n",
       "      <td>n</td>\n",
       "      <td>b</td>\n",
       "      <td>...</td>\n",
       "      <td>k</td>\n",
       "      <td>p</td>\n",
       "      <td>w</td>\n",
       "      <td>p</td>\n",
       "      <td>w</td>\n",
       "      <td>o</td>\n",
       "      <td>e</td>\n",
       "      <td>w</td>\n",
       "      <td>v</td>\n",
       "      <td>l</td>\n",
       "    </tr>\n",
       "    <tr>\n",
       "      <th>2</th>\n",
       "      <td>p</td>\n",
       "      <td>x</td>\n",
       "      <td>f</td>\n",
       "      <td>y</td>\n",
       "      <td>f</td>\n",
       "      <td>f</td>\n",
       "      <td>f</td>\n",
       "      <td>c</td>\n",
       "      <td>b</td>\n",
       "      <td>g</td>\n",
       "      <td>...</td>\n",
       "      <td>k</td>\n",
       "      <td>b</td>\n",
       "      <td>p</td>\n",
       "      <td>p</td>\n",
       "      <td>w</td>\n",
       "      <td>o</td>\n",
       "      <td>l</td>\n",
       "      <td>h</td>\n",
       "      <td>v</td>\n",
       "      <td>d</td>\n",
       "    </tr>\n",
       "    <tr>\n",
       "      <th>3</th>\n",
       "      <td>p</td>\n",
       "      <td>x</td>\n",
       "      <td>f</td>\n",
       "      <td>y</td>\n",
       "      <td>f</td>\n",
       "      <td>f</td>\n",
       "      <td>f</td>\n",
       "      <td>c</td>\n",
       "      <td>b</td>\n",
       "      <td>g</td>\n",
       "      <td>...</td>\n",
       "      <td>k</td>\n",
       "      <td>n</td>\n",
       "      <td>b</td>\n",
       "      <td>p</td>\n",
       "      <td>w</td>\n",
       "      <td>o</td>\n",
       "      <td>l</td>\n",
       "      <td>h</td>\n",
       "      <td>y</td>\n",
       "      <td>g</td>\n",
       "    </tr>\n",
       "    <tr>\n",
       "      <th>4</th>\n",
       "      <td>p</td>\n",
       "      <td>x</td>\n",
       "      <td>f</td>\n",
       "      <td>y</td>\n",
       "      <td>f</td>\n",
       "      <td>f</td>\n",
       "      <td>f</td>\n",
       "      <td>c</td>\n",
       "      <td>b</td>\n",
       "      <td>h</td>\n",
       "      <td>...</td>\n",
       "      <td>k</td>\n",
       "      <td>p</td>\n",
       "      <td>b</td>\n",
       "      <td>p</td>\n",
       "      <td>w</td>\n",
       "      <td>o</td>\n",
       "      <td>l</td>\n",
       "      <td>h</td>\n",
       "      <td>y</td>\n",
       "      <td>d</td>\n",
       "    </tr>\n",
       "    <tr>\n",
       "      <th>...</th>\n",
       "      <td>...</td>\n",
       "      <td>...</td>\n",
       "      <td>...</td>\n",
       "      <td>...</td>\n",
       "      <td>...</td>\n",
       "      <td>...</td>\n",
       "      <td>...</td>\n",
       "      <td>...</td>\n",
       "      <td>...</td>\n",
       "      <td>...</td>\n",
       "      <td>...</td>\n",
       "      <td>...</td>\n",
       "      <td>...</td>\n",
       "      <td>...</td>\n",
       "      <td>...</td>\n",
       "      <td>...</td>\n",
       "      <td>...</td>\n",
       "      <td>...</td>\n",
       "      <td>...</td>\n",
       "      <td>...</td>\n",
       "      <td>...</td>\n",
       "    </tr>\n",
       "    <tr>\n",
       "      <th>1395</th>\n",
       "      <td>p</td>\n",
       "      <td>x</td>\n",
       "      <td>y</td>\n",
       "      <td>e</td>\n",
       "      <td>f</td>\n",
       "      <td>f</td>\n",
       "      <td>f</td>\n",
       "      <td>c</td>\n",
       "      <td>n</td>\n",
       "      <td>b</td>\n",
       "      <td>...</td>\n",
       "      <td>k</td>\n",
       "      <td>w</td>\n",
       "      <td>w</td>\n",
       "      <td>p</td>\n",
       "      <td>w</td>\n",
       "      <td>o</td>\n",
       "      <td>e</td>\n",
       "      <td>w</td>\n",
       "      <td>v</td>\n",
       "      <td>p</td>\n",
       "    </tr>\n",
       "    <tr>\n",
       "      <th>1396</th>\n",
       "      <td>e</td>\n",
       "      <td>f</td>\n",
       "      <td>y</td>\n",
       "      <td>n</td>\n",
       "      <td>t</td>\n",
       "      <td>n</td>\n",
       "      <td>f</td>\n",
       "      <td>c</td>\n",
       "      <td>b</td>\n",
       "      <td>p</td>\n",
       "      <td>...</td>\n",
       "      <td>s</td>\n",
       "      <td>w</td>\n",
       "      <td>g</td>\n",
       "      <td>p</td>\n",
       "      <td>w</td>\n",
       "      <td>o</td>\n",
       "      <td>p</td>\n",
       "      <td>k</td>\n",
       "      <td>v</td>\n",
       "      <td>d</td>\n",
       "    </tr>\n",
       "    <tr>\n",
       "      <th>1397</th>\n",
       "      <td>e</td>\n",
       "      <td>f</td>\n",
       "      <td>f</td>\n",
       "      <td>e</td>\n",
       "      <td>t</td>\n",
       "      <td>n</td>\n",
       "      <td>f</td>\n",
       "      <td>c</td>\n",
       "      <td>b</td>\n",
       "      <td>n</td>\n",
       "      <td>...</td>\n",
       "      <td>s</td>\n",
       "      <td>p</td>\n",
       "      <td>g</td>\n",
       "      <td>p</td>\n",
       "      <td>w</td>\n",
       "      <td>o</td>\n",
       "      <td>p</td>\n",
       "      <td>n</td>\n",
       "      <td>y</td>\n",
       "      <td>d</td>\n",
       "    </tr>\n",
       "    <tr>\n",
       "      <th>1398</th>\n",
       "      <td>p</td>\n",
       "      <td>x</td>\n",
       "      <td>f</td>\n",
       "      <td>y</td>\n",
       "      <td>f</td>\n",
       "      <td>f</td>\n",
       "      <td>f</td>\n",
       "      <td>c</td>\n",
       "      <td>b</td>\n",
       "      <td>p</td>\n",
       "      <td>...</td>\n",
       "      <td>k</td>\n",
       "      <td>n</td>\n",
       "      <td>b</td>\n",
       "      <td>p</td>\n",
       "      <td>w</td>\n",
       "      <td>o</td>\n",
       "      <td>l</td>\n",
       "      <td>h</td>\n",
       "      <td>y</td>\n",
       "      <td>d</td>\n",
       "    </tr>\n",
       "    <tr>\n",
       "      <th>1399</th>\n",
       "      <td>e</td>\n",
       "      <td>f</td>\n",
       "      <td>f</td>\n",
       "      <td>e</td>\n",
       "      <td>t</td>\n",
       "      <td>n</td>\n",
       "      <td>f</td>\n",
       "      <td>c</td>\n",
       "      <td>b</td>\n",
       "      <td>u</td>\n",
       "      <td>...</td>\n",
       "      <td>s</td>\n",
       "      <td>w</td>\n",
       "      <td>g</td>\n",
       "      <td>p</td>\n",
       "      <td>w</td>\n",
       "      <td>o</td>\n",
       "      <td>p</td>\n",
       "      <td>k</td>\n",
       "      <td>v</td>\n",
       "      <td>d</td>\n",
       "    </tr>\n",
       "  </tbody>\n",
       "</table>\n",
       "<p>1400 rows × 23 columns</p>\n",
       "</div>"
      ],
      "text/plain": [
       "     class cap-shape cap-surface cap-color bruises odor gill-attachment  \\\n",
       "0        p         x           y         n       f    y               f   \n",
       "1        p         x           s         n       f    y               f   \n",
       "2        p         x           f         y       f    f               f   \n",
       "3        p         x           f         y       f    f               f   \n",
       "4        p         x           f         y       f    f               f   \n",
       "...    ...       ...         ...       ...     ...  ...             ...   \n",
       "1395     p         x           y         e       f    f               f   \n",
       "1396     e         f           y         n       t    n               f   \n",
       "1397     e         f           f         e       t    n               f   \n",
       "1398     p         x           f         y       f    f               f   \n",
       "1399     e         f           f         e       t    n               f   \n",
       "\n",
       "     gill-spacing gill-size gill-color  ... stalk-surface-below-ring  \\\n",
       "0               c         n          b  ...                        s   \n",
       "1               c         n          b  ...                        k   \n",
       "2               c         b          g  ...                        k   \n",
       "3               c         b          g  ...                        k   \n",
       "4               c         b          h  ...                        k   \n",
       "...           ...       ...        ...  ...                      ...   \n",
       "1395            c         n          b  ...                        k   \n",
       "1396            c         b          p  ...                        s   \n",
       "1397            c         b          n  ...                        s   \n",
       "1398            c         b          p  ...                        k   \n",
       "1399            c         b          u  ...                        s   \n",
       "\n",
       "     stalk-color-above-ring stalk-color-below-ring veil-type veil-color  \\\n",
       "0                         p                      w         p          w   \n",
       "1                         p                      w         p          w   \n",
       "2                         b                      p         p          w   \n",
       "3                         n                      b         p          w   \n",
       "4                         p                      b         p          w   \n",
       "...                     ...                    ...       ...        ...   \n",
       "1395                      w                      w         p          w   \n",
       "1396                      w                      g         p          w   \n",
       "1397                      p                      g         p          w   \n",
       "1398                      n                      b         p          w   \n",
       "1399                      w                      g         p          w   \n",
       "\n",
       "     ring-number ring-type spore-print-color population habitat  \n",
       "0              o         e                 w          v       d  \n",
       "1              o         e                 w          v       l  \n",
       "2              o         l                 h          v       d  \n",
       "3              o         l                 h          y       g  \n",
       "4              o         l                 h          y       d  \n",
       "...          ...       ...               ...        ...     ...  \n",
       "1395           o         e                 w          v       p  \n",
       "1396           o         p                 k          v       d  \n",
       "1397           o         p                 n          y       d  \n",
       "1398           o         l                 h          y       d  \n",
       "1399           o         p                 k          v       d  \n",
       "\n",
       "[1400 rows x 23 columns]"
      ]
     },
     "execution_count": 25,
     "metadata": {},
     "output_type": "execute_result"
    }
   ],
   "source": [
    "# Chargement des fichiers de données sur les mushrooms:\n",
    "\n",
    "# On commence par travailler sur un des fichier \"mushrooms-1400\"\n",
    "mushrooms_df = pd.read_csv(\"data/mushrooms-1400-1.csv\")\n",
    "\n",
    "mushrooms_df\n"
   ]
  },
  {
   "cell_type": "code",
   "execution_count": 26,
   "metadata": {},
   "outputs": [],
   "source": [
    "# Dans ce dataframe, la colonne de classe s'appelle 'class'\n",
    "mushrooms_noms = [nom for nom in mushrooms_df.columns if nom != 'class']\n",
    "\n",
    "# Passer du dataframe à un dataset (2 arrays desc & labels):\n",
    "mushrooms_1_desc = np.array(mushrooms_df[mushrooms_noms])\n",
    "mushrooms_1_label = np.array(mushrooms_df['class'])\n"
   ]
  },
  {
   "cell_type": "markdown",
   "metadata": {},
   "source": [
    "Ensuite, on construit l'arbre de décision correspondant.\n",
    "\n",
    "<font color=\"RED\" size=\"+1\">**[Q]**</font> Compléter le code suivant pour apprendre l'arbre et l'afficher ensuite:"
   ]
  },
  {
   "cell_type": "code",
   "execution_count": 27,
   "metadata": {},
   "outputs": [
    {
     "data": {
      "image/svg+xml": "<?xml version=\"1.0\" encoding=\"UTF-8\" standalone=\"no\"?>\n<!DOCTYPE svg PUBLIC \"-//W3C//DTD SVG 1.1//EN\"\n \"http://www.w3.org/Graphics/SVG/1.1/DTD/svg11.dtd\">\n<!-- Generated by graphviz version 5.0.0 (0)\n -->\n<!-- Pages: 1 -->\n<svg width=\"962pt\" height=\"392pt\"\n viewBox=\"0.00 0.00 962.00 392.00\" xmlns=\"http://www.w3.org/2000/svg\" xmlns:xlink=\"http://www.w3.org/1999/xlink\">\n<g id=\"graph0\" class=\"graph\" transform=\"scale(1 1) rotate(0) translate(4 388)\">\n<polygon fill=\"white\" stroke=\"transparent\" points=\"-4,4 -4,-388 958,-388 958,4 -4,4\"/>\n<!-- A -->\n<g id=\"node1\" class=\"node\">\n<title>A</title>\n<ellipse fill=\"none\" stroke=\"black\" cx=\"315\" cy=\"-366\" rx=\"27\" ry=\"18\"/>\n<text text-anchor=\"middle\" x=\"315\" y=\"-362.3\" font-family=\"Times,serif\" font-size=\"14.00\">odor</text>\n</g>\n<!-- A0 -->\n<g id=\"node2\" class=\"node\">\n<title>A0</title>\n<polygon fill=\"none\" stroke=\"black\" points=\"54,-297 0,-297 0,-261 54,-261 54,-297\"/>\n<text text-anchor=\"middle\" x=\"27\" y=\"-275.3\" font-family=\"Times,serif\" font-size=\"14.00\">e</text>\n</g>\n<!-- A&#45;&gt;A0 -->\n<g id=\"edge1\" class=\"edge\">\n<title>A&#45;&gt;A0</title>\n<path fill=\"none\" stroke=\"black\" d=\"M289.42,-359.92C244.88,-350.69 150.34,-329.41 63.76,-297.01\"/>\n<polygon fill=\"black\" stroke=\"black\" points=\"64.92,-293.71 54.33,-293.42 62.44,-300.25 64.92,-293.71\"/>\n<text text-anchor=\"middle\" x=\"162.5\" y=\"-318.8\" font-family=\"Times,serif\" font-size=\"14.00\">a</text>\n</g>\n<!-- A1 -->\n<g id=\"node3\" class=\"node\">\n<title>A1</title>\n<polygon fill=\"none\" stroke=\"black\" points=\"126,-297 72,-297 72,-261 126,-261 126,-297\"/>\n<text text-anchor=\"middle\" x=\"99\" y=\"-275.3\" font-family=\"Times,serif\" font-size=\"14.00\">p</text>\n</g>\n<!-- A&#45;&gt;A1 -->\n<g id=\"edge2\" class=\"edge\">\n<title>A&#45;&gt;A1</title>\n<path fill=\"none\" stroke=\"black\" d=\"M291.46,-356.79C258.55,-345.16 196.77,-322.8 135.46,-297.04\"/>\n<polygon fill=\"black\" stroke=\"black\" points=\"136.6,-293.72 126.02,-293.04 133.87,-300.17 136.6,-293.72\"/>\n<text text-anchor=\"middle\" x=\"217.5\" y=\"-318.8\" font-family=\"Times,serif\" font-size=\"14.00\">c</text>\n</g>\n<!-- A2 -->\n<g id=\"node4\" class=\"node\">\n<title>A2</title>\n<polygon fill=\"none\" stroke=\"black\" points=\"198,-297 144,-297 144,-261 198,-261 198,-297\"/>\n<text text-anchor=\"middle\" x=\"171\" y=\"-275.3\" font-family=\"Times,serif\" font-size=\"14.00\">p</text>\n</g>\n<!-- A&#45;&gt;A2 -->\n<g id=\"edge3\" class=\"edge\">\n<title>A&#45;&gt;A2</title>\n<path fill=\"none\" stroke=\"black\" d=\"M295.28,-353.36C272.55,-339.94 234.74,-317.63 206.79,-301.12\"/>\n<polygon fill=\"black\" stroke=\"black\" points=\"208.48,-298.06 198.09,-295.99 204.92,-304.09 208.48,-298.06\"/>\n<text text-anchor=\"middle\" x=\"254.5\" y=\"-318.8\" font-family=\"Times,serif\" font-size=\"14.00\">f</text>\n</g>\n<!-- A3 -->\n<g id=\"node5\" class=\"node\">\n<title>A3</title>\n<polygon fill=\"none\" stroke=\"black\" points=\"270,-297 216,-297 216,-261 270,-261 270,-297\"/>\n<text text-anchor=\"middle\" x=\"243\" y=\"-275.3\" font-family=\"Times,serif\" font-size=\"14.00\">e</text>\n</g>\n<!-- A&#45;&gt;A3 -->\n<g id=\"edge4\" class=\"edge\">\n<title>A&#45;&gt;A3</title>\n<path fill=\"none\" stroke=\"black\" d=\"M302.13,-349.8C291.55,-337.31 276.35,-319.37 264.01,-304.8\"/>\n<polygon fill=\"black\" stroke=\"black\" points=\"266.63,-302.48 257.49,-297.11 261.29,-307 266.63,-302.48\"/>\n<text text-anchor=\"middle\" x=\"286\" y=\"-318.8\" font-family=\"Times,serif\" font-size=\"14.00\">l</text>\n</g>\n<!-- A4 -->\n<g id=\"node6\" class=\"node\">\n<title>A4</title>\n<polygon fill=\"none\" stroke=\"black\" points=\"342,-297 288,-297 288,-261 342,-261 342,-297\"/>\n<text text-anchor=\"middle\" x=\"315\" y=\"-275.3\" font-family=\"Times,serif\" font-size=\"14.00\">p</text>\n</g>\n<!-- A&#45;&gt;A4 -->\n<g id=\"edge5\" class=\"edge\">\n<title>A&#45;&gt;A4</title>\n<path fill=\"none\" stroke=\"black\" d=\"M315,-347.8C315,-336.16 315,-320.55 315,-307.24\"/>\n<polygon fill=\"black\" stroke=\"black\" points=\"318.5,-307.18 315,-297.18 311.5,-307.18 318.5,-307.18\"/>\n<text text-anchor=\"middle\" x=\"321\" y=\"-318.8\" font-family=\"Times,serif\" font-size=\"14.00\">m</text>\n</g>\n<!-- A5 -->\n<g id=\"node7\" class=\"node\">\n<title>A5</title>\n<ellipse fill=\"none\" stroke=\"black\" cx=\"430\" cy=\"-279\" rx=\"70.39\" ry=\"18\"/>\n<text text-anchor=\"middle\" x=\"430\" y=\"-275.3\" font-family=\"Times,serif\" font-size=\"14.00\">spore&#45;print&#45;color</text>\n</g>\n<!-- A&#45;&gt;A5 -->\n<g id=\"edge25\" class=\"edge\">\n<title>A&#45;&gt;A5</title>\n<path fill=\"none\" stroke=\"black\" d=\"M332.47,-352.09C350.33,-338.89 378.42,-318.12 399.88,-302.26\"/>\n<polygon fill=\"black\" stroke=\"black\" points=\"402.07,-305 408.03,-296.24 397.91,-299.37 402.07,-305\"/>\n<text text-anchor=\"middle\" x=\"383.5\" y=\"-318.8\" font-family=\"Times,serif\" font-size=\"14.00\">n</text>\n</g>\n<!-- A6 -->\n<g id=\"node27\" class=\"node\">\n<title>A6</title>\n<polygon fill=\"none\" stroke=\"black\" points=\"572,-297 518,-297 518,-261 572,-261 572,-297\"/>\n<text text-anchor=\"middle\" x=\"545\" y=\"-275.3\" font-family=\"Times,serif\" font-size=\"14.00\">p</text>\n</g>\n<!-- A&#45;&gt;A6 -->\n<g id=\"edge26\" class=\"edge\">\n<title>A&#45;&gt;A6</title>\n<path fill=\"none\" stroke=\"black\" d=\"M338.89,-357.51C374.14,-346.28 442.26,-323.85 508.31,-297.09\"/>\n<polygon fill=\"black\" stroke=\"black\" points=\"509.68,-300.32 517.61,-293.29 507.03,-293.84 509.68,-300.32\"/>\n<text text-anchor=\"middle\" x=\"465.5\" y=\"-318.8\" font-family=\"Times,serif\" font-size=\"14.00\">p</text>\n</g>\n<!-- A7 -->\n<g id=\"node28\" class=\"node\">\n<title>A7</title>\n<polygon fill=\"none\" stroke=\"black\" points=\"644,-297 590,-297 590,-261 644,-261 644,-297\"/>\n<text text-anchor=\"middle\" x=\"617\" y=\"-275.3\" font-family=\"Times,serif\" font-size=\"14.00\">p</text>\n</g>\n<!-- A&#45;&gt;A7 -->\n<g id=\"edge27\" class=\"edge\">\n<title>A&#45;&gt;A7</title>\n<path fill=\"none\" stroke=\"black\" d=\"M340.93,-360.49C387.65,-351.93 488.84,-331.34 580.28,-297\"/>\n<polygon fill=\"black\" stroke=\"black\" points=\"581.57,-300.25 589.66,-293.41 579.07,-293.71 581.57,-300.25\"/>\n<text text-anchor=\"middle\" x=\"528\" y=\"-318.8\" font-family=\"Times,serif\" font-size=\"14.00\">s</text>\n</g>\n<!-- A8 -->\n<g id=\"node29\" class=\"node\">\n<title>A8</title>\n<polygon fill=\"none\" stroke=\"black\" points=\"716,-297 662,-297 662,-261 716,-261 716,-297\"/>\n<text text-anchor=\"middle\" x=\"689\" y=\"-275.3\" font-family=\"Times,serif\" font-size=\"14.00\">p</text>\n</g>\n<!-- A&#45;&gt;A8 -->\n<g id=\"edge28\" class=\"edge\">\n<title>A&#45;&gt;A8</title>\n<path fill=\"none\" stroke=\"black\" d=\"M341.65,-362.53C398.24,-356.69 534.25,-339.46 652.15,-296.99\"/>\n<polygon fill=\"black\" stroke=\"black\" points=\"653.51,-300.22 661.69,-293.48 651.09,-293.65 653.51,-300.22\"/>\n<text text-anchor=\"middle\" x=\"594.5\" y=\"-318.8\" font-family=\"Times,serif\" font-size=\"14.00\">y</text>\n</g>\n<!-- A50 -->\n<g id=\"node8\" class=\"node\">\n<title>A50</title>\n<polygon fill=\"none\" stroke=\"black\" points=\"205,-210 151,-210 151,-174 205,-174 205,-210\"/>\n<text text-anchor=\"middle\" x=\"178\" y=\"-188.3\" font-family=\"Times,serif\" font-size=\"14.00\">e</text>\n</g>\n<!-- A5&#45;&gt;A50 -->\n<g id=\"edge6\" class=\"edge\">\n<title>A5&#45;&gt;A50</title>\n<path fill=\"none\" stroke=\"black\" d=\"M383.44,-265.33C341.42,-253.46 277.88,-234.4 215.02,-210.16\"/>\n<polygon fill=\"black\" stroke=\"black\" points=\"215.94,-206.76 205.35,-206.39 213.39,-213.28 215.94,-206.76\"/>\n<text text-anchor=\"middle\" x=\"311.5\" y=\"-231.8\" font-family=\"Times,serif\" font-size=\"14.00\">b</text>\n</g>\n<!-- A51 -->\n<g id=\"node9\" class=\"node\">\n<title>A51</title>\n<polygon fill=\"none\" stroke=\"black\" points=\"277,-210 223,-210 223,-174 277,-174 277,-210\"/>\n<text text-anchor=\"middle\" x=\"250\" y=\"-188.3\" font-family=\"Times,serif\" font-size=\"14.00\">e</text>\n</g>\n<!-- A5&#45;&gt;A51 -->\n<g id=\"edge7\" class=\"edge\">\n<title>A5&#45;&gt;A51</title>\n<path fill=\"none\" stroke=\"black\" d=\"M397.82,-262.8C366.53,-248.03 319.06,-225.61 286.41,-210.19\"/>\n<polygon fill=\"black\" stroke=\"black\" points=\"287.73,-206.95 277.2,-205.84 284.75,-213.28 287.73,-206.95\"/>\n<text text-anchor=\"middle\" x=\"354.5\" y=\"-231.8\" font-family=\"Times,serif\" font-size=\"14.00\">h</text>\n</g>\n<!-- A52 -->\n<g id=\"node10\" class=\"node\">\n<title>A52</title>\n<polygon fill=\"none\" stroke=\"black\" points=\"349,-210 295,-210 295,-174 349,-174 349,-210\"/>\n<text text-anchor=\"middle\" x=\"322\" y=\"-188.3\" font-family=\"Times,serif\" font-size=\"14.00\">e</text>\n</g>\n<!-- A5&#45;&gt;A52 -->\n<g id=\"edge8\" class=\"edge\">\n<title>A5&#45;&gt;A52</title>\n<path fill=\"none\" stroke=\"black\" d=\"M409.18,-261.61C392.91,-248.81 370.09,-230.85 351.88,-216.51\"/>\n<polygon fill=\"black\" stroke=\"black\" points=\"353.89,-213.65 343.87,-210.21 349.57,-219.15 353.89,-213.65\"/>\n<text text-anchor=\"middle\" x=\"386.5\" y=\"-231.8\" font-family=\"Times,serif\" font-size=\"14.00\">k</text>\n</g>\n<!-- A53 -->\n<g id=\"node11\" class=\"node\">\n<title>A53</title>\n<polygon fill=\"none\" stroke=\"black\" points=\"421,-210 367,-210 367,-174 421,-174 421,-210\"/>\n<text text-anchor=\"middle\" x=\"394\" y=\"-188.3\" font-family=\"Times,serif\" font-size=\"14.00\">e</text>\n</g>\n<!-- A5&#45;&gt;A53 -->\n<g id=\"edge9\" class=\"edge\">\n<title>A5&#45;&gt;A53</title>\n<path fill=\"none\" stroke=\"black\" d=\"M422.71,-260.8C417.69,-248.93 410.91,-232.93 405.2,-219.45\"/>\n<polygon fill=\"black\" stroke=\"black\" points=\"408.4,-218.02 401.27,-210.18 401.95,-220.75 408.4,-218.02\"/>\n<text text-anchor=\"middle\" x=\"418.5\" y=\"-231.8\" font-family=\"Times,serif\" font-size=\"14.00\">n</text>\n</g>\n<!-- A54 -->\n<g id=\"node12\" class=\"node\">\n<title>A54</title>\n<polygon fill=\"none\" stroke=\"black\" points=\"493,-210 439,-210 439,-174 493,-174 493,-210\"/>\n<text text-anchor=\"middle\" x=\"466\" y=\"-188.3\" font-family=\"Times,serif\" font-size=\"14.00\">e</text>\n</g>\n<!-- A5&#45;&gt;A54 -->\n<g id=\"edge10\" class=\"edge\">\n<title>A5&#45;&gt;A54</title>\n<path fill=\"none\" stroke=\"black\" d=\"M437.29,-260.8C442.31,-248.93 449.09,-232.93 454.8,-219.45\"/>\n<polygon fill=\"black\" stroke=\"black\" points=\"458.05,-220.75 458.73,-210.18 451.6,-218.02 458.05,-220.75\"/>\n<text text-anchor=\"middle\" x=\"454.5\" y=\"-231.8\" font-family=\"Times,serif\" font-size=\"14.00\">o</text>\n</g>\n<!-- A55 -->\n<g id=\"node13\" class=\"node\">\n<title>A55</title>\n<polygon fill=\"none\" stroke=\"black\" points=\"565,-210 511,-210 511,-174 565,-174 565,-210\"/>\n<text text-anchor=\"middle\" x=\"538\" y=\"-188.3\" font-family=\"Times,serif\" font-size=\"14.00\">p</text>\n</g>\n<!-- A5&#45;&gt;A55 -->\n<g id=\"edge11\" class=\"edge\">\n<title>A5&#45;&gt;A55</title>\n<path fill=\"none\" stroke=\"black\" d=\"M450.82,-261.61C467.09,-248.81 489.91,-230.85 508.12,-216.51\"/>\n<polygon fill=\"black\" stroke=\"black\" points=\"510.43,-219.15 516.13,-210.21 506.11,-213.65 510.43,-219.15\"/>\n<text text-anchor=\"middle\" x=\"493.5\" y=\"-231.8\" font-family=\"Times,serif\" font-size=\"14.00\">r</text>\n</g>\n<!-- A56 -->\n<g id=\"node14\" class=\"node\">\n<title>A56</title>\n<ellipse fill=\"none\" stroke=\"black\" cx=\"627\" cy=\"-192\" rx=\"44.39\" ry=\"18\"/>\n<text text-anchor=\"middle\" x=\"627\" y=\"-188.3\" font-family=\"Times,serif\" font-size=\"14.00\">cap&#45;color</text>\n</g>\n<!-- A5&#45;&gt;A56 -->\n<g id=\"edge23\" class=\"edge\">\n<title>A5&#45;&gt;A56</title>\n<path fill=\"none\" stroke=\"black\" d=\"M464.31,-263.19C499.02,-248.22 552.57,-225.12 588.66,-209.54\"/>\n<polygon fill=\"black\" stroke=\"black\" points=\"590.09,-212.74 597.89,-205.56 587.32,-206.31 590.09,-212.74\"/>\n<text text-anchor=\"middle\" x=\"546\" y=\"-231.8\" font-family=\"Times,serif\" font-size=\"14.00\">w</text>\n</g>\n<!-- A57 -->\n<g id=\"node26\" class=\"node\">\n<title>A57</title>\n<polygon fill=\"none\" stroke=\"black\" points=\"743,-210 689,-210 689,-174 743,-174 743,-210\"/>\n<text text-anchor=\"middle\" x=\"716\" y=\"-188.3\" font-family=\"Times,serif\" font-size=\"14.00\">e</text>\n</g>\n<!-- A5&#45;&gt;A57 -->\n<g id=\"edge24\" class=\"edge\">\n<title>A5&#45;&gt;A57</title>\n<path fill=\"none\" stroke=\"black\" d=\"M481.58,-266.77C530.52,-255.49 606.06,-236.47 678.9,-210.1\"/>\n<polygon fill=\"black\" stroke=\"black\" points=\"680.52,-213.23 688.7,-206.5 678.1,-206.66 680.52,-213.23\"/>\n<text text-anchor=\"middle\" x=\"630.5\" y=\"-231.8\" font-family=\"Times,serif\" font-size=\"14.00\">y</text>\n</g>\n<!-- A560 -->\n<g id=\"node15\" class=\"node\">\n<title>A560</title>\n<polygon fill=\"none\" stroke=\"black\" points=\"402,-123 348,-123 348,-87 402,-87 402,-123\"/>\n<text text-anchor=\"middle\" x=\"375\" y=\"-101.3\" font-family=\"Times,serif\" font-size=\"14.00\">e</text>\n</g>\n<!-- A56&#45;&gt;A560 -->\n<g id=\"edge12\" class=\"edge\">\n<title>A56&#45;&gt;A560</title>\n<path fill=\"none\" stroke=\"black\" d=\"M593.37,-180.16C586.94,-178.1 580.27,-175.98 574,-174 504.58,-152.09 483.41,-150.73 411.82,-123.08\"/>\n<polygon fill=\"black\" stroke=\"black\" points=\"412.94,-119.76 402.35,-119.39 410.39,-126.28 412.94,-119.76\"/>\n<text text-anchor=\"middle\" x=\"515.5\" y=\"-144.8\" font-family=\"Times,serif\" font-size=\"14.00\">b</text>\n</g>\n<!-- A561 -->\n<g id=\"node16\" class=\"node\">\n<title>A561</title>\n<polygon fill=\"none\" stroke=\"black\" points=\"474,-123 420,-123 420,-87 474,-87 474,-123\"/>\n<text text-anchor=\"middle\" x=\"447\" y=\"-101.3\" font-family=\"Times,serif\" font-size=\"14.00\">e</text>\n</g>\n<!-- A56&#45;&gt;A561 -->\n<g id=\"edge13\" class=\"edge\">\n<title>A56&#45;&gt;A561</title>\n<path fill=\"none\" stroke=\"black\" d=\"M599.27,-177.91C568.17,-163.22 517.62,-139.35 483.37,-123.17\"/>\n<polygon fill=\"black\" stroke=\"black\" points=\"484.71,-119.94 474.17,-118.83 481.72,-126.27 484.71,-119.94\"/>\n<text text-anchor=\"middle\" x=\"551.5\" y=\"-144.8\" font-family=\"Times,serif\" font-size=\"14.00\">c</text>\n</g>\n<!-- A562 -->\n<g id=\"node17\" class=\"node\">\n<title>A562</title>\n<polygon fill=\"none\" stroke=\"black\" points=\"546,-123 492,-123 492,-87 546,-87 546,-123\"/>\n<text text-anchor=\"middle\" x=\"519\" y=\"-101.3\" font-family=\"Times,serif\" font-size=\"14.00\">e</text>\n</g>\n<!-- A56&#45;&gt;A562 -->\n<g id=\"edge14\" class=\"edge\">\n<title>A56&#45;&gt;A562</title>\n<path fill=\"none\" stroke=\"black\" d=\"M607.69,-175.8C591.31,-162.91 567.53,-144.2 548.72,-129.39\"/>\n<polygon fill=\"black\" stroke=\"black\" points=\"550.76,-126.54 540.74,-123.11 546.43,-132.04 550.76,-126.54\"/>\n<text text-anchor=\"middle\" x=\"583.5\" y=\"-144.8\" font-family=\"Times,serif\" font-size=\"14.00\">e</text>\n</g>\n<!-- A563 -->\n<g id=\"node18\" class=\"node\">\n<title>A563</title>\n<polygon fill=\"none\" stroke=\"black\" points=\"618,-123 564,-123 564,-87 618,-87 618,-123\"/>\n<text text-anchor=\"middle\" x=\"591\" y=\"-101.3\" font-family=\"Times,serif\" font-size=\"14.00\">e</text>\n</g>\n<!-- A56&#45;&gt;A563 -->\n<g id=\"edge15\" class=\"edge\">\n<title>A56&#45;&gt;A563</title>\n<path fill=\"none\" stroke=\"black\" d=\"M619.89,-174.21C614.84,-162.29 607.97,-146.06 602.19,-132.42\"/>\n<polygon fill=\"black\" stroke=\"black\" points=\"605.34,-130.89 598.22,-123.05 598.9,-133.62 605.34,-130.89\"/>\n<text text-anchor=\"middle\" x=\"615.5\" y=\"-144.8\" font-family=\"Times,serif\" font-size=\"14.00\">g</text>\n</g>\n<!-- A564 -->\n<g id=\"node19\" class=\"node\">\n<title>A564</title>\n<polygon fill=\"none\" stroke=\"black\" points=\"690,-123 636,-123 636,-87 690,-87 690,-123\"/>\n<text text-anchor=\"middle\" x=\"663\" y=\"-101.3\" font-family=\"Times,serif\" font-size=\"14.00\">e</text>\n</g>\n<!-- A56&#45;&gt;A564 -->\n<g id=\"edge16\" class=\"edge\">\n<title>A56&#45;&gt;A564</title>\n<path fill=\"none\" stroke=\"black\" d=\"M634.11,-174.21C639.16,-162.29 646.03,-146.06 651.81,-132.42\"/>\n<polygon fill=\"black\" stroke=\"black\" points=\"655.1,-133.62 655.78,-123.05 648.66,-130.89 655.1,-133.62\"/>\n<text text-anchor=\"middle\" x=\"650.5\" y=\"-144.8\" font-family=\"Times,serif\" font-size=\"14.00\">n</text>\n</g>\n<!-- A565 -->\n<g id=\"node20\" class=\"node\">\n<title>A565</title>\n<polygon fill=\"none\" stroke=\"black\" points=\"762,-123 708,-123 708,-87 762,-87 762,-123\"/>\n<text text-anchor=\"middle\" x=\"735\" y=\"-101.3\" font-family=\"Times,serif\" font-size=\"14.00\">e</text>\n</g>\n<!-- A56&#45;&gt;A565 -->\n<g id=\"edge17\" class=\"edge\">\n<title>A56&#45;&gt;A565</title>\n<path fill=\"none\" stroke=\"black\" d=\"M646.31,-175.8C662.69,-162.91 686.47,-144.2 705.28,-129.39\"/>\n<polygon fill=\"black\" stroke=\"black\" points=\"707.57,-132.04 713.26,-123.11 703.24,-126.54 707.57,-132.04\"/>\n<text text-anchor=\"middle\" x=\"690.5\" y=\"-144.8\" font-family=\"Times,serif\" font-size=\"14.00\">p</text>\n</g>\n<!-- A566 -->\n<g id=\"node21\" class=\"node\">\n<title>A566</title>\n<ellipse fill=\"none\" stroke=\"black\" cx=\"831\" cy=\"-105\" rx=\"51.19\" ry=\"18\"/>\n<text text-anchor=\"middle\" x=\"831\" y=\"-101.3\" font-family=\"Times,serif\" font-size=\"14.00\">cap&#45;surface</text>\n</g>\n<!-- A56&#45;&gt;A566 -->\n<g id=\"edge21\" class=\"edge\">\n<title>A56&#45;&gt;A566</title>\n<path fill=\"none\" stroke=\"black\" d=\"M656.66,-178.64C691.71,-164.04 750.22,-139.66 789.69,-123.21\"/>\n<polygon fill=\"black\" stroke=\"black\" points=\"791.4,-126.29 799.29,-119.21 788.71,-119.83 791.4,-126.29\"/>\n<text text-anchor=\"middle\" x=\"746\" y=\"-144.8\" font-family=\"Times,serif\" font-size=\"14.00\">w</text>\n</g>\n<!-- A567 -->\n<g id=\"node25\" class=\"node\">\n<title>A567</title>\n<polygon fill=\"none\" stroke=\"black\" points=\"954,-123 900,-123 900,-87 954,-87 954,-123\"/>\n<text text-anchor=\"middle\" x=\"927\" y=\"-101.3\" font-family=\"Times,serif\" font-size=\"14.00\">p</text>\n</g>\n<!-- A56&#45;&gt;A567 -->\n<g id=\"edge22\" class=\"edge\">\n<title>A56&#45;&gt;A567</title>\n<path fill=\"none\" stroke=\"black\" d=\"M659.96,-180.01C666.57,-177.92 673.49,-175.82 680,-174 769.82,-148.85 798.16,-154.7 890.03,-122.99\"/>\n<polygon fill=\"black\" stroke=\"black\" points=\"891.45,-126.2 899.72,-119.58 889.13,-119.59 891.45,-126.2\"/>\n<text text-anchor=\"middle\" x=\"833.5\" y=\"-144.8\" font-family=\"Times,serif\" font-size=\"14.00\">y</text>\n</g>\n<!-- A5660 -->\n<g id=\"node22\" class=\"node\">\n<title>A5660</title>\n<polygon fill=\"none\" stroke=\"black\" points=\"786,-36 732,-36 732,0 786,0 786,-36\"/>\n<text text-anchor=\"middle\" x=\"759\" y=\"-14.3\" font-family=\"Times,serif\" font-size=\"14.00\">e</text>\n</g>\n<!-- A566&#45;&gt;A5660 -->\n<g id=\"edge18\" class=\"edge\">\n<title>A566&#45;&gt;A5660</title>\n<path fill=\"none\" stroke=\"black\" d=\"M817.12,-87.61C806.66,-75.27 792.15,-58.14 780.24,-44.08\"/>\n<polygon fill=\"black\" stroke=\"black\" points=\"782.72,-41.58 773.58,-36.21 777.37,-46.11 782.72,-41.58\"/>\n<text text-anchor=\"middle\" x=\"801.5\" y=\"-57.8\" font-family=\"Times,serif\" font-size=\"14.00\">f</text>\n</g>\n<!-- A5661 -->\n<g id=\"node23\" class=\"node\">\n<title>A5661</title>\n<polygon fill=\"none\" stroke=\"black\" points=\"858,-36 804,-36 804,0 858,0 858,-36\"/>\n<text text-anchor=\"middle\" x=\"831\" y=\"-14.3\" font-family=\"Times,serif\" font-size=\"14.00\">p</text>\n</g>\n<!-- A566&#45;&gt;A5661 -->\n<g id=\"edge19\" class=\"edge\">\n<title>A566&#45;&gt;A5661</title>\n<path fill=\"none\" stroke=\"black\" d=\"M831,-86.8C831,-75.16 831,-59.55 831,-46.24\"/>\n<polygon fill=\"black\" stroke=\"black\" points=\"834.5,-46.18 831,-36.18 827.5,-46.18 834.5,-46.18\"/>\n<text text-anchor=\"middle\" x=\"834.5\" y=\"-57.8\" font-family=\"Times,serif\" font-size=\"14.00\">g</text>\n</g>\n<!-- A5662 -->\n<g id=\"node24\" class=\"node\">\n<title>A5662</title>\n<polygon fill=\"none\" stroke=\"black\" points=\"930,-36 876,-36 876,0 930,0 930,-36\"/>\n<text text-anchor=\"middle\" x=\"903\" y=\"-14.3\" font-family=\"Times,serif\" font-size=\"14.00\">e</text>\n</g>\n<!-- A566&#45;&gt;A5662 -->\n<g id=\"edge20\" class=\"edge\">\n<title>A566&#45;&gt;A5662</title>\n<path fill=\"none\" stroke=\"black\" d=\"M844.88,-87.61C855.34,-75.27 869.85,-58.14 881.76,-44.08\"/>\n<polygon fill=\"black\" stroke=\"black\" points=\"884.63,-46.11 888.42,-36.21 879.28,-41.58 884.63,-46.11\"/>\n<text text-anchor=\"middle\" x=\"874\" y=\"-57.8\" font-family=\"Times,serif\" font-size=\"14.00\">s</text>\n</g>\n</g>\n</svg>\n",
      "text/plain": [
       "<graphviz.graphs.Digraph at 0x7f0f81dee850>"
      ]
     },
     "execution_count": 27,
     "metadata": {},
     "output_type": "execute_result"
    }
   ],
   "source": [
    "# construction de l'arbre de décision à partir du dataset Elections:\n",
    "arbre_mushrooms_1 = ClassifierArbreDecision(len(mushrooms_noms), 0.0, mushrooms_noms)\n",
    "\n",
    "####\n",
    "\n",
    "# Construction de l'arbre de décision à partir du dataset Elections\n",
    "arbre_mushrooms_1.train(mushrooms_1_desc,mushrooms_1_label)\n",
    "\n",
    "# Construction de la représentation graphique (affichage)\n",
    "graphe_arbre_champignons = gv.Digraph(format='png')\n",
    "arbre_mushrooms_1.affiche(graphe_arbre_champignons)\n",
    "\n",
    "# Affichage du graphe obtenu:\n",
    "graphe_arbre_champignons\n",
    "\n",
    "#################################\n",
    "\n",
    "\n",
    "# Affichage du graphe obtenu:\n",
    "graphe_arbre_champignons"
   ]
  },
  {
   "cell_type": "markdown",
   "metadata": {},
   "source": [
    "### Classification avec l'arbre de décision obtenu"
   ]
  },
  {
   "cell_type": "markdown",
   "metadata": {},
   "source": [
    "Exemple de classification d'un exemple:"
   ]
  },
  {
   "cell_type": "code",
   "execution_count": 28,
   "metadata": {},
   "outputs": [
    {
     "data": {
      "text/plain": [
       "'p'"
      ]
     },
     "execution_count": 28,
     "metadata": {},
     "output_type": "execute_result"
    }
   ],
   "source": [
    "arbre_mushrooms_1.predict(mushrooms_1_desc[0,:])"
   ]
  },
  {
   "cell_type": "markdown",
   "metadata": {},
   "source": [
    "Calcul de l'accuracy sur le dataset d'apprentissage.\n",
    "\n",
    "**Attention**: la fonction `accuracy` doit pouvoir tenir compte du fait que les classes ne sont pas égales à +1 ou -1 comme c'était le cas jusqu'à présent, il peut donc être nécessaire de redéfinir cette méthode dans la classe \n",
    "`ClassifierArbreDecision`: *la classification d'un exemple est correcte, si la fonction `predict`rend sa vraie classe.*\n"
   ]
  },
  {
   "cell_type": "code",
   "execution_count": 29,
   "metadata": {},
   "outputs": [
    {
     "data": {
      "text/plain": [
       "1.0"
      ]
     },
     "execution_count": 29,
     "metadata": {},
     "output_type": "execute_result"
    }
   ],
   "source": [
    "arbre_mushrooms_1.accuracy(mushrooms_1_desc,mushrooms_1_label)"
   ]
  },
  {
   "cell_type": "markdown",
   "metadata": {},
   "source": [
    "<font color=\"RED\" size=\"+1\">**[Q]**</font> Toujours avec le dataset `mushrooms_1` précédent, construire un nouvel arbre de décision en utilisant comme valeur d'epsilon : $0.25$.\n",
    "\n",
    "Que constatez-vous ? "
   ]
  },
  {
   "attachments": {},
   "cell_type": "markdown",
   "metadata": {},
   "source": [
    "L'arbre est beaucoup moins sélectif, donc moins précis.  On a testé avec plusieurs valeurs de epsilon et on trouve que le seuil est entre 0.15 et 0.2"
   ]
  },
  {
   "cell_type": "code",
   "execution_count": 30,
   "metadata": {},
   "outputs": [
    {
     "data": {
      "image/svg+xml": "<?xml version=\"1.0\" encoding=\"UTF-8\" standalone=\"no\"?>\n<!DOCTYPE svg PUBLIC \"-//W3C//DTD SVG 1.1//EN\"\n \"http://www.w3.org/Graphics/SVG/1.1/DTD/svg11.dtd\">\n<!-- Generated by graphviz version 5.0.0 (0)\n -->\n<!-- Pages: 1 -->\n<svg width=\"638pt\" height=\"131pt\"\n viewBox=\"0.00 0.00 638.00 131.00\" xmlns=\"http://www.w3.org/2000/svg\" xmlns:xlink=\"http://www.w3.org/1999/xlink\">\n<g id=\"graph0\" class=\"graph\" transform=\"scale(1 1) rotate(0) translate(4 127)\">\n<polygon fill=\"white\" stroke=\"transparent\" points=\"-4,4 -4,-127 634,-127 634,4 -4,4\"/>\n<!-- A -->\n<g id=\"node1\" class=\"node\">\n<title>A</title>\n<ellipse fill=\"none\" stroke=\"black\" cx=\"315\" cy=\"-105\" rx=\"27\" ry=\"18\"/>\n<text text-anchor=\"middle\" x=\"315\" y=\"-101.3\" font-family=\"Times,serif\" font-size=\"14.00\">odor</text>\n</g>\n<!-- A0 -->\n<g id=\"node2\" class=\"node\">\n<title>A0</title>\n<polygon fill=\"none\" stroke=\"black\" points=\"54,-36 0,-36 0,0 54,0 54,-36\"/>\n<text text-anchor=\"middle\" x=\"27\" y=\"-14.3\" font-family=\"Times,serif\" font-size=\"14.00\">e</text>\n</g>\n<!-- A&#45;&gt;A0 -->\n<g id=\"edge1\" class=\"edge\">\n<title>A&#45;&gt;A0</title>\n<path fill=\"none\" stroke=\"black\" d=\"M289.42,-98.92C244.88,-89.69 150.34,-68.41 63.76,-36.01\"/>\n<polygon fill=\"black\" stroke=\"black\" points=\"64.92,-32.71 54.33,-32.42 62.44,-39.25 64.92,-32.71\"/>\n<text text-anchor=\"middle\" x=\"162.5\" y=\"-57.8\" font-family=\"Times,serif\" font-size=\"14.00\">a</text>\n</g>\n<!-- A1 -->\n<g id=\"node3\" class=\"node\">\n<title>A1</title>\n<polygon fill=\"none\" stroke=\"black\" points=\"126,-36 72,-36 72,0 126,0 126,-36\"/>\n<text text-anchor=\"middle\" x=\"99\" y=\"-14.3\" font-family=\"Times,serif\" font-size=\"14.00\">p</text>\n</g>\n<!-- A&#45;&gt;A1 -->\n<g id=\"edge2\" class=\"edge\">\n<title>A&#45;&gt;A1</title>\n<path fill=\"none\" stroke=\"black\" d=\"M291.46,-95.79C258.55,-84.16 196.77,-61.8 135.46,-36.04\"/>\n<polygon fill=\"black\" stroke=\"black\" points=\"136.6,-32.72 126.02,-32.04 133.87,-39.17 136.6,-32.72\"/>\n<text text-anchor=\"middle\" x=\"217.5\" y=\"-57.8\" font-family=\"Times,serif\" font-size=\"14.00\">c</text>\n</g>\n<!-- A2 -->\n<g id=\"node4\" class=\"node\">\n<title>A2</title>\n<polygon fill=\"none\" stroke=\"black\" points=\"198,-36 144,-36 144,0 198,0 198,-36\"/>\n<text text-anchor=\"middle\" x=\"171\" y=\"-14.3\" font-family=\"Times,serif\" font-size=\"14.00\">p</text>\n</g>\n<!-- A&#45;&gt;A2 -->\n<g id=\"edge3\" class=\"edge\">\n<title>A&#45;&gt;A2</title>\n<path fill=\"none\" stroke=\"black\" d=\"M295.28,-92.36C272.55,-78.94 234.74,-56.63 206.79,-40.12\"/>\n<polygon fill=\"black\" stroke=\"black\" points=\"208.48,-37.06 198.09,-34.99 204.92,-43.09 208.48,-37.06\"/>\n<text text-anchor=\"middle\" x=\"254.5\" y=\"-57.8\" font-family=\"Times,serif\" font-size=\"14.00\">f</text>\n</g>\n<!-- A3 -->\n<g id=\"node5\" class=\"node\">\n<title>A3</title>\n<polygon fill=\"none\" stroke=\"black\" points=\"270,-36 216,-36 216,0 270,0 270,-36\"/>\n<text text-anchor=\"middle\" x=\"243\" y=\"-14.3\" font-family=\"Times,serif\" font-size=\"14.00\">e</text>\n</g>\n<!-- A&#45;&gt;A3 -->\n<g id=\"edge4\" class=\"edge\">\n<title>A&#45;&gt;A3</title>\n<path fill=\"none\" stroke=\"black\" d=\"M302.13,-88.8C291.55,-76.31 276.35,-58.37 264.01,-43.8\"/>\n<polygon fill=\"black\" stroke=\"black\" points=\"266.63,-41.48 257.49,-36.11 261.29,-46 266.63,-41.48\"/>\n<text text-anchor=\"middle\" x=\"286\" y=\"-57.8\" font-family=\"Times,serif\" font-size=\"14.00\">l</text>\n</g>\n<!-- A4 -->\n<g id=\"node6\" class=\"node\">\n<title>A4</title>\n<polygon fill=\"none\" stroke=\"black\" points=\"342,-36 288,-36 288,0 342,0 342,-36\"/>\n<text text-anchor=\"middle\" x=\"315\" y=\"-14.3\" font-family=\"Times,serif\" font-size=\"14.00\">p</text>\n</g>\n<!-- A&#45;&gt;A4 -->\n<g id=\"edge5\" class=\"edge\">\n<title>A&#45;&gt;A4</title>\n<path fill=\"none\" stroke=\"black\" d=\"M315,-86.8C315,-75.16 315,-59.55 315,-46.24\"/>\n<polygon fill=\"black\" stroke=\"black\" points=\"318.5,-46.18 315,-36.18 311.5,-46.18 318.5,-46.18\"/>\n<text text-anchor=\"middle\" x=\"321\" y=\"-57.8\" font-family=\"Times,serif\" font-size=\"14.00\">m</text>\n</g>\n<!-- A5 -->\n<g id=\"node7\" class=\"node\">\n<title>A5</title>\n<polygon fill=\"none\" stroke=\"black\" points=\"414,-36 360,-36 360,0 414,0 414,-36\"/>\n<text text-anchor=\"middle\" x=\"387\" y=\"-14.3\" font-family=\"Times,serif\" font-size=\"14.00\">e</text>\n</g>\n<!-- A&#45;&gt;A5 -->\n<g id=\"edge6\" class=\"edge\">\n<title>A&#45;&gt;A5</title>\n<path fill=\"none\" stroke=\"black\" d=\"M327.87,-88.8C338.45,-76.31 353.65,-58.37 365.99,-43.8\"/>\n<polygon fill=\"black\" stroke=\"black\" points=\"368.71,-46 372.51,-36.11 363.37,-41.48 368.71,-46\"/>\n<text text-anchor=\"middle\" x=\"359.5\" y=\"-57.8\" font-family=\"Times,serif\" font-size=\"14.00\">n</text>\n</g>\n<!-- A6 -->\n<g id=\"node8\" class=\"node\">\n<title>A6</title>\n<polygon fill=\"none\" stroke=\"black\" points=\"486,-36 432,-36 432,0 486,0 486,-36\"/>\n<text text-anchor=\"middle\" x=\"459\" y=\"-14.3\" font-family=\"Times,serif\" font-size=\"14.00\">p</text>\n</g>\n<!-- A&#45;&gt;A6 -->\n<g id=\"edge7\" class=\"edge\">\n<title>A&#45;&gt;A6</title>\n<path fill=\"none\" stroke=\"black\" d=\"M334.72,-92.36C357.45,-78.94 395.26,-56.63 423.21,-40.12\"/>\n<polygon fill=\"black\" stroke=\"black\" points=\"425.08,-43.09 431.91,-34.99 421.52,-37.06 425.08,-43.09\"/>\n<text text-anchor=\"middle\" x=\"398.5\" y=\"-57.8\" font-family=\"Times,serif\" font-size=\"14.00\">p</text>\n</g>\n<!-- A7 -->\n<g id=\"node9\" class=\"node\">\n<title>A7</title>\n<polygon fill=\"none\" stroke=\"black\" points=\"558,-36 504,-36 504,0 558,0 558,-36\"/>\n<text text-anchor=\"middle\" x=\"531\" y=\"-14.3\" font-family=\"Times,serif\" font-size=\"14.00\">p</text>\n</g>\n<!-- A&#45;&gt;A7 -->\n<g id=\"edge8\" class=\"edge\">\n<title>A&#45;&gt;A7</title>\n<path fill=\"none\" stroke=\"black\" d=\"M338.54,-95.79C371.45,-84.16 433.23,-61.8 494.54,-36.04\"/>\n<polygon fill=\"black\" stroke=\"black\" points=\"496.13,-39.17 503.98,-32.04 493.4,-32.72 496.13,-39.17\"/>\n<text text-anchor=\"middle\" x=\"449\" y=\"-57.8\" font-family=\"Times,serif\" font-size=\"14.00\">s</text>\n</g>\n<!-- A8 -->\n<g id=\"node10\" class=\"node\">\n<title>A8</title>\n<polygon fill=\"none\" stroke=\"black\" points=\"630,-36 576,-36 576,0 630,0 630,-36\"/>\n<text text-anchor=\"middle\" x=\"603\" y=\"-14.3\" font-family=\"Times,serif\" font-size=\"14.00\">p</text>\n</g>\n<!-- A&#45;&gt;A8 -->\n<g id=\"edge9\" class=\"edge\">\n<title>A&#45;&gt;A8</title>\n<path fill=\"none\" stroke=\"black\" d=\"M340.58,-98.9C385.1,-89.64 479.62,-68.31 566.24,-36.01\"/>\n<polygon fill=\"black\" stroke=\"black\" points=\"567.56,-39.25 575.67,-32.43 565.08,-32.7 567.56,-39.25\"/>\n<text text-anchor=\"middle\" x=\"516.5\" y=\"-57.8\" font-family=\"Times,serif\" font-size=\"14.00\">y</text>\n</g>\n</g>\n</svg>\n",
      "text/plain": [
       "<graphviz.graphs.Digraph at 0x7f0f81dee880>"
      ]
     },
     "execution_count": 30,
     "metadata": {},
     "output_type": "execute_result"
    }
   ],
   "source": [
    "# construction de l'arbre de décision à partir du dataset Elections:\n",
    "arbre_mushrooms_2 = ClassifierArbreDecision(len(mushrooms_noms), 0.25, mushrooms_noms)\n",
    "####\n",
    "\n",
    "# Construction de l'arbre de décision à partir du dataset Elections\n",
    "arbre_mushrooms_2.train(mushrooms_1_desc,mushrooms_1_label)\n",
    "\n",
    "# Construction de la représentation graphique (affichage)\n",
    "graphe_arbre_champignons_2 = gv.Digraph(format='png')\n",
    "arbre_mushrooms_2.affiche(graphe_arbre_champignons_2)\n",
    "\n",
    "# Affichage du graphe obtenu:\n",
    "graphe_arbre_champignons_2\n",
    "\n",
    "#################################\n",
    "\n",
    "\n",
    "# Affichage du graphe obtenu:\n",
    "graphe_arbre_champignons_2\n"
   ]
  },
  {
   "cell_type": "markdown",
   "metadata": {},
   "source": [
    "<font color=\"RED\" size=\"+1\">**[Q]**</font> Déterminer l'accuracy de ce nouvel arbre.\n"
   ]
  },
  {
   "cell_type": "code",
   "execution_count": 31,
   "metadata": {},
   "outputs": [
    {
     "data": {
      "text/plain": [
       "0.9892857142857143"
      ]
     },
     "execution_count": 31,
     "metadata": {},
     "output_type": "execute_result"
    }
   ],
   "source": [
    "arbre_mushrooms_2.accuracy(mushrooms_1_desc,mushrooms_1_label)"
   ]
  },
  {
   "cell_type": "markdown",
   "metadata": {},
   "source": [
    "<font color=\"RED\" size=\"+1\">**[Q]**</font> D'après ces résultats, de ces 2 arbres, quel est celui qui a sur-appris ? "
   ]
  },
  {
   "attachments": {},
   "cell_type": "markdown",
   "metadata": {},
   "source": [
    "Si un des arbres a sur-appris c'est sans doute le premier, mais on devrait tester avec des données de test.\n",
    "\n",
    "Il a sur-appris parce qu'il fit exactement les données d'entraînement qui ne reflètent pas forcément la même dépendance aux valeurs des attributs.  Il ne crée pas de feuille même quand l'entropie est déjà très faible.\n"
   ]
  },
  {
   "cell_type": "markdown",
   "metadata": {},
   "source": [
    "## Plus d'expérimentations avec la base Mushrooms\n",
    "\n",
    "On décide maintenant d'évaluer plus en détail ce nouvel algorithme. On souhaite:\n",
    "1. construire un arbre avec chaque fichier `mushrooms-1400-*.csv` \n",
    "2. pour chaque arbre construit, évaluer son accuracy:\n",
    "    - sur le dataset d'apprentissage\n",
    "    - sur les 4 autres fichiers `mushrooms-1400-*.csv`\n",
    "    - sur le fichier `mushrooms-1124.csv`\n",
    "    \n",
    "    \n",
    "**Remarque :** normalement, tous ces tests devraient pouvoir se faire dans un temps raisonnable, dans le cas contraire, faites les un par un."
   ]
  },
  {
   "cell_type": "code",
   "execution_count": 32,
   "metadata": {},
   "outputs": [],
   "source": [
    "# Chargement des fichiers mushrooms et apprentissage\n",
    "mushrooms_desc = []\n",
    "mushrooms_label = []\n",
    "arbres_mushrooms = []\n",
    "for j in range(0,5):\n",
    "    mushrooms_df = pd.read_csv(\"data/mushrooms-1400-\"+str(j+1)+\".csv\")\n",
    "    mushrooms_noms = [nom for nom in mushrooms_df.columns if nom != 'class']\n",
    "    # Passer du dataframe à un dataset (2 arrays):\n",
    "    mushrooms_desc.append(np.array(mushrooms_df[mushrooms_noms]))\n",
    "    mushrooms_label.append(np.array(mushrooms_df['class']))\n",
    "    \n",
    "    # Apprentissage\n",
    "    arbres_mushrooms.append(ClassifierArbreDecision(len(mushrooms_noms), 0.0, mushrooms_noms))\n",
    "    arbres_mushrooms[j].train(mushrooms_desc[j],mushrooms_label[j])"
   ]
  },
  {
   "cell_type": "code",
   "execution_count": 33,
   "metadata": {},
   "outputs": [],
   "source": [
    "# Fichier qui va nous servir à tester\n",
    "mushrooms_df = pd.read_csv(\"data/mushrooms-1124.csv\")\n",
    "\n",
    "# Passer du dataframe à un dataset (2 arrays):\n",
    "mushrooms_test_desc = np.array(mushrooms_df[mushrooms_noms])\n",
    "mushrooms_test_label = np.array(mushrooms_df['class'])"
   ]
  },
  {
   "cell_type": "markdown",
   "metadata": {},
   "source": [
    "<font color=\"RED\" size=\"+1\">**[Q]**</font> Donner les instructions permettant d'obtenir le taux de bonne classification (accuracy) de chacun des arbres construits sur les autres bases, sur le modèle suivant:"
   ]
  },
  {
   "cell_type": "code",
   "execution_count": 34,
   "metadata": {},
   "outputs": [
    {
     "name": "stdout",
     "output_type": "stream",
     "text": [
      "Apprentissage avec mushrooms-1400-1\n",
      "\t classification de mushrooms-1400-1 : 1.0\n",
      "\t classification de mushrooms-1400-2 : 1.0\n",
      "\t classification de mushrooms-1400-3 : 0.9964285714285714\n",
      "\t*** Warning: attribut  cap-surface  -> Valeur inconnue:  y\n",
      "\t*** Warning: attribut  cap-surface  -> Valeur inconnue:  y\n",
      "\t*** Warning: attribut  cap-surface  -> Valeur inconnue:  y\n",
      "\t classification de mushrooms-1400-4 : 0.9957142857142857\n",
      "\t classification de mushrooms-1400-5 : 0.9971428571428571\n",
      "\t*** Warning: attribut  cap-surface  -> Valeur inconnue:  y\n",
      "--> classification de mushrooms-1124: 0.9955516014234875\n",
      "Apprentissage avec mushrooms-1400-2\n",
      "\t classification de mushrooms-1400-1 : 0.9985714285714286\n",
      "\t classification de mushrooms-1400-2 : 1.0\n",
      "\t classification de mushrooms-1400-3 : 0.9964285714285714\n",
      "\t classification de mushrooms-1400-4 : 0.9957142857142857\n",
      "\t classification de mushrooms-1400-5 : 0.9964285714285714\n",
      "--> classification de mushrooms-1124: 0.994661921708185\n",
      "Apprentissage avec mushrooms-1400-3\n",
      "\t classification de mushrooms-1400-1 : 0.9964285714285714\n",
      "\t*** Warning: attribut  cap-shape  -> Valeur inconnue:  c\n",
      "\t*** Warning: attribut  cap-shape  -> Valeur inconnue:  c\n",
      "\t classification de mushrooms-1400-2 : 0.9964285714285714\n",
      "\t classification de mushrooms-1400-3 : 1.0\n",
      "\t*** Warning: attribut  cap-shape  -> Valeur inconnue:  c\n",
      "\t classification de mushrooms-1400-4 : 0.9957142857142857\n",
      "\t*** Warning: attribut  cap-shape  -> Valeur inconnue:  c\n",
      "\t classification de mushrooms-1400-5 : 0.9971428571428571\n",
      "--> classification de mushrooms-1124: 1.0\n",
      "Apprentissage avec mushrooms-1400-4\n",
      "\t classification de mushrooms-1400-1 : 1.0\n",
      "\t classification de mushrooms-1400-2 : 1.0\n",
      "\t classification de mushrooms-1400-3 : 1.0\n",
      "\t classification de mushrooms-1400-4 : 1.0\n",
      "\t classification de mushrooms-1400-5 : 1.0\n",
      "--> classification de mushrooms-1124: 1.0\n",
      "Apprentissage avec mushrooms-1400-5\n",
      "\t classification de mushrooms-1400-1 : 0.9964285714285714\n",
      "\t classification de mushrooms-1400-2 : 0.9971428571428571\n",
      "\t classification de mushrooms-1400-3 : 0.9971428571428571\n",
      "\t classification de mushrooms-1400-4 : 0.995\n",
      "\t classification de mushrooms-1400-5 : 1.0\n",
      "--> classification de mushrooms-1124: 0.99644128113879\n"
     ]
    }
   ],
   "source": [
    "for i, arbre in enumerate(arbres_mushrooms):\n",
    "    print(f\"Apprentissage avec mushrooms-1400-{i+1}\")\n",
    "    for j, (desc_set, label_set) in enumerate(zip(mushrooms_desc, mushrooms_label)):\n",
    "        print(f\"\\t classification de mushrooms-1400-{j+1} : {arbre.accuracy(desc_set, label_set)}\")\n",
    "    print(f\"--> classification de mushrooms-1124: {arbre.accuracy(mushrooms_test_desc, mushrooms_test_label)}\")"
   ]
  },
  {
   "cell_type": "code",
   "execution_count": null,
   "metadata": {},
   "outputs": [],
   "source": []
  },
  {
   "cell_type": "markdown",
   "metadata": {},
   "source": [
    "<font color=\"RED\" size=\"+1\">**[Q]**</font> On peut remarquer que pour certains arbres, la classification de certains exemples produit un warning.\n",
    "En étudiant les exemples suivant et leur classification par le premier arbre, expliquez pourquoi un warning se produit.\n",
    "Est-ce normal ? Pourrait-on trouver une solution pour ces cas-là ?\n"
   ]
  },
  {
   "cell_type": "code",
   "execution_count": 35,
   "metadata": {},
   "outputs": [
    {
     "name": "stdout",
     "output_type": "stream",
     "text": [
      "\t*** Warning: attribut  cap-surface  -> Valeur inconnue:  y\n",
      "962  --> pas de prédiction, le label rendu est  0\n",
      "\t*** Warning: attribut  cap-surface  -> Valeur inconnue:  y\n",
      "1219  --> pas de prédiction, le label rendu est  0\n",
      "\t*** Warning: attribut  cap-surface  -> Valeur inconnue:  y\n",
      "1349  --> pas de prédiction, le label rendu est  0\n"
     ]
    }
   ],
   "source": [
    "for i in range(0,1400):\n",
    "    prediction = arbres_mushrooms[0].predict(mushrooms_desc[3][i,:])\n",
    "    if prediction == 0:\n",
    "        print(i,\" --> pas de prédiction, le label rendu est \",prediction)\n"
   ]
  },
  {
   "cell_type": "code",
   "execution_count": 36,
   "metadata": {},
   "outputs": [
    {
     "name": "stdout",
     "output_type": "stream",
     "text": [
      "\t*** Warning: attribut  cap-surface  -> Valeur inconnue:  y\n",
      "962  --> pas de prédiction, le label rendu est  0\n",
      "\t*** Warning: attribut  cap-surface  -> Valeur inconnue:  y\n",
      "1219  --> pas de prédiction, le label rendu est  0\n",
      "\t*** Warning: attribut  cap-surface  -> Valeur inconnue:  y\n",
      "1349  --> pas de prédiction, le label rendu est  0\n"
     ]
    }
   ],
   "source": [
    "for i in range(0,1400):\n",
    "    prediction = arbres_mushrooms[0].predict(mushrooms_desc[3][i,:])\n",
    "    if prediction == 0:\n",
    "        print(i,\" --> pas de prédiction, le label rendu est \",prediction)\n",
    "\n"
   ]
  },
  {
   "cell_type": "code",
   "execution_count": null,
   "metadata": {},
   "outputs": [],
   "source": [
    "mushrooms_sf = pd"
   ]
  },
  {
   "cell_type": "markdown",
   "metadata": {},
   "source": [
    "<font color=\"RED\" size=\"+1\">**[Q]**</font> Réaliser une validation croisée en 10 paquets sur la base mushrooms_1, puis sur la base mushrooms complète."
   ]
  },
  {
   "cell_type": "code",
   "execution_count": 35,
   "metadata": {},
   "outputs": [
    {
     "name": "stdout",
     "output_type": "stream",
     "text": [
      "0 : taille app.=  1261 taille test=  139 Accuracy:  1.0\n",
      "1 : taille app.=  1261 taille test=  139 Accuracy:  1.0\n",
      "2 : taille app.=  1261 taille test=  139 Accuracy:  0.9784172661870504\n",
      "3 : taille app.=  1261 taille test=  139 Accuracy:  1.0\n",
      "4 : taille app.=  1261 taille test=  139 Accuracy:  1.0\n",
      "5 : taille app.=  1261 taille test=  139 Accuracy:  1.0\n",
      "6 : taille app.=  1261 taille test=  139 Accuracy:  1.0\n",
      "7 : taille app.=  1261 taille test=  139 Accuracy:  1.0\n",
      "8 : taille app.=  1261 taille test=  139 Accuracy:  1.0\n",
      "9 : taille app.=  1261 taille test=  139 Accuracy:  1.0\n",
      "Validation croisée sur mushrooms 1\n",
      "Perf obtenues :  [1.0, 1.0, 0.9784172661870504, 1.0, 1.0, 1.0, 1.0, 1.0, 1.0, 1.0]\n",
      "Accuracy moyenne:  0.9978417266187052 \técart type:  0.006474820143884886\n"
     ]
    }
   ],
   "source": [
    "\n",
    "mushrooms_1_df = pd.read_csv(\"data/mushrooms-1400-1.csv\")\n",
    "\n",
    "# Dans ce dataframe, la colonne de classe s'appelle 'class'\n",
    "mushrooms_1_noms = [nom for nom in mushrooms_1_df.columns if nom != 'class']\n",
    "\n",
    "# Passer du dataframe à un dataset (2 arrays desc & labels):\n",
    "mushrooms_1_desc = np.array(mushrooms_1_df[mushrooms_1_noms])\n",
    "mushrooms_1_label = np.array(mushrooms_1_df['class'])\n",
    "\n",
    "###################### A COMPLETER \n",
    "\n",
    "\n",
    "#################################\n",
    "\n",
    "\n",
    "# Remarque: j'ai mis des affichage dans la fonction validation croisée afin de montrer\n",
    "# ce qui se passe:\n",
    "(res_all, res_moy, res_sd) = validation_croisee(arbre, (mushrooms_1_desc, mushrooms_1_label), 10)\n",
    "\n",
    "print(\"Validation croisée sur mushrooms 1\")\n",
    "print(\"Perf obtenues : \",res_all)\n",
    "print(\"Accuracy moyenne: \",res_moy,\"\\técart type: \", res_sd)"
   ]
  },
  {
   "cell_type": "markdown",
   "metadata": {},
   "source": [
    "<font color=\"RED\" size=\"+1\">**[Q]**</font> Regrouper les 6 fichiers mushrooms et réaliser une évaluation de l'algorithme de construction d'arbres par une validation croisée en 10 paquets."
   ]
  },
  {
   "cell_type": "code",
   "execution_count": null,
   "metadata": {},
   "outputs": [],
   "source": []
  },
  {
   "cell_type": "markdown",
   "metadata": {},
   "source": [
    "## Evaluation \"Leave one out\"\n",
    "\n",
    "Nous avons vu 2 approches pour évaluer un algorithme d'apprentissage:\n",
    "- la mesure de l'accuracy sur les données d'apprentissage et sur une base de test\n",
    "- la réalisation d'une validation croisée pour mesurer l'accuracy et l'écart type (pour évaluer la robustesse) mesurées sur les données utilisées pour apprendre le modèle (données d'apprentissage) et sur des données qui n'ont pas été utilisées pour mettre au point le modèle (données test)\n",
    "\n",
    "La première approche est généralement utilisée pour comparer plusieurs modèles en regardant leur accuracy sur les mêmes données de test.\n",
    "La deuxième approche est, elle, utilisée pour aussi obtenir une certaine évaluation de la robustesse du modèle appris et garantir que l'accuracy mesurée n'est pas simplement obtenue sur \"un cas particulier\" de données.\n",
    "\n",
    "Cependant, il existe des cas où le dataset que l'on possède ne contient pas beaucoup d'exemples. Dans ce cas, deux possibilités:\n",
    "- il y a suffisament de données dans le dataset pour réaliser une validation croisée en réduisant le nombre de paquets (ie. prendre 4 paquets au lieu de 10 par exemple);\n",
    "- il y a trop peu d'exemples pour qu'une validation croisée soit réalisable, on utilise alors une autre technique d'évaluation: l'évaluation par **leave one out** (littéralement: \"en mettre un de côté\"). \n"
   ]
  },
  {
   "cell_type": "markdown",
   "metadata": {},
   "source": [
    "<div class=\"alert alert-block alert-warning\">\n",
    "    L'évaluation par <b>leave one out</b> procède ainsi: à partir d'un dataset $DS$ contenant $n$ exemples:\n",
    "    \n",
    "1. sortir un des exemples de $DS$ et le mettre de côté\n",
    "    \n",
    "2. apprendre le modèle sur les $n-1$ exemples non sortis de $DS$\n",
    "    \n",
    "3. tester le modèle appris sur l'exemple mis de côté: il est soit bien classé (on marque 1 pt), soit mal classé (on marque 0 pt)\n",
    "    \n",
    "4. prendre le $DS$ original est choisir un exemple différent à mettre de côté\n",
    "    \n",
    "5. reprendre en 1) \n",
    "\n",
    "Les étapes 4) et 5) sont faites jusqu'à ce que tous les exemples de $DS$ aient été sortis à leur tour de $DS$.\n",
    "A la fin, l'accuracy de test du modèle est alors donnée par le ratio $\\frac{\\mbox{nombre de points marqués}}{n}$.\n",
    "\n",
    "</div>    \n",
    "\n",
    "<i>Remarque</i>: le plus simple dans cette approche, c'est de sortir les exemples en les prenant dans l'ordre dans lequel ils sont dans le dataset.\n",
    "    "
   ]
  },
  {
   "cell_type": "markdown",
   "metadata": {},
   "source": [
    "<font color=\"RED\" size=\"+1\">**[Q]**</font> Ecrire la fonction `leave_one_out` qui prend en argument un algorithme d'apprentissage $C$ et un dataset $DS$ et rend l'accuracy de test de $C$ calculée sur $DS$ en utilisant l'évaluation par leave one out.\n",
    "\n",
    "**Remarque**: il peut être important de copier (correctement) le classifieur pour pouvoir l'entraîner plusieurs fois."
   ]
  },
  {
   "cell_type": "code",
   "execution_count": 36,
   "metadata": {},
   "outputs": [],
   "source": [
    "import copy  # pour utiliser copy.deepcopy() qui permet de faire des copies de C \n",
    "\n",
    "# ------------------------ A COMPLETER :\n",
    "def leave_one_out(C, DS):\n",
    "    \"\"\" Classifieur * tuple[array, array] -> float\n",
    "    \"\"\"\n",
    "    \n",
    "    raise NotImplementedError(\"Please Implement this method\")"
   ]
  },
  {
   "cell_type": "markdown",
   "metadata": {},
   "source": [
    "Tester avec la base sur les élections européennes:"
   ]
  },
  {
   "cell_type": "code",
   "execution_count": 38,
   "metadata": {},
   "outputs": [
    {
     "name": "stdout",
     "output_type": "stream",
     "text": [
      "\t*** Warning: attribut  Nationalite  -> Valeur inconnue:  Italien\n"
     ]
    },
    {
     "data": {
      "text/plain": [
       "0.75"
      ]
     },
     "execution_count": 38,
     "metadata": {},
     "output_type": "execute_result"
    }
   ],
   "source": [
    "# Chargement et préparation du dataset:\n",
    "elections_df = pd.read_csv(\"data/elections.csv\")\n",
    "elections_noms = [nom for nom in elections_df.columns if nom != 'Label']\n",
    "\n",
    "data_desc = np.array(elections_df[elections_noms])\n",
    "data_label = np.array(elections_df['Label'])\n",
    "\n",
    "# Lancement du leave one out\n",
    "leave_one_out(ClassifierArbreDecision(len(elections_noms), 0.1, elections_noms),(data_desc,data_label))"
   ]
  },
  {
   "cell_type": "markdown",
   "metadata": {},
   "source": [
    "## Comparaison avec d'autres algorithmes\n",
    "\n",
    "Afin de pouvoir comparer les autres classifieurs que l'on a vu précédemment avec celui par arbres de décision, il faut les adapter afin qu'ils puissent traiter les données catégorielles.\n",
    "En cours, nous avons vu l'encodage one-hot qui s'implémente en python avec la fonction `get_dummies` de la librairie `pandas` (cf. cours 6).\n"
   ]
  },
  {
   "cell_type": "markdown",
   "metadata": {},
   "source": [
    "### Base des élections"
   ]
  },
  {
   "cell_type": "markdown",
   "metadata": {},
   "source": [
    "<font color=\"RED\" size=\"+1\">**[Q]**</font> En utilisant la fonction `get_dummies` tranformer le dataframe `elections_df` en un dataframe `elections_df_num` qui ne contient que des attributs numériques."
   ]
  },
  {
   "cell_type": "code",
   "execution_count": 39,
   "metadata": {},
   "outputs": [
    {
     "name": "stdout",
     "output_type": "stream",
     "text": [
      "Noms des colonnes :  ['Adresse', 'Majeur?', 'Nationalite']\n"
     ]
    },
    {
     "data": {
      "text/html": [
       "<div>\n",
       "<style scoped>\n",
       "    .dataframe tbody tr th:only-of-type {\n",
       "        vertical-align: middle;\n",
       "    }\n",
       "\n",
       "    .dataframe tbody tr th {\n",
       "        vertical-align: top;\n",
       "    }\n",
       "\n",
       "    .dataframe thead th {\n",
       "        text-align: right;\n",
       "    }\n",
       "</style>\n",
       "<table border=\"1\" class=\"dataframe\">\n",
       "  <thead>\n",
       "    <tr style=\"text-align: right;\">\n",
       "      <th></th>\n",
       "      <th>Adresse</th>\n",
       "      <th>Majeur?</th>\n",
       "      <th>Nationalite</th>\n",
       "      <th>Label</th>\n",
       "    </tr>\n",
       "  </thead>\n",
       "  <tbody>\n",
       "    <tr>\n",
       "      <th>0</th>\n",
       "      <td>Paris</td>\n",
       "      <td>oui</td>\n",
       "      <td>Francais</td>\n",
       "      <td>1</td>\n",
       "    </tr>\n",
       "    <tr>\n",
       "      <th>1</th>\n",
       "      <td>Paris</td>\n",
       "      <td>non</td>\n",
       "      <td>Francais</td>\n",
       "      <td>-1</td>\n",
       "    </tr>\n",
       "    <tr>\n",
       "      <th>2</th>\n",
       "      <td>Montpellier</td>\n",
       "      <td>oui</td>\n",
       "      <td>Italien</td>\n",
       "      <td>1</td>\n",
       "    </tr>\n",
       "    <tr>\n",
       "      <th>3</th>\n",
       "      <td>Paris</td>\n",
       "      <td>oui</td>\n",
       "      <td>Suisse</td>\n",
       "      <td>-1</td>\n",
       "    </tr>\n",
       "    <tr>\n",
       "      <th>4</th>\n",
       "      <td>Strasbourg</td>\n",
       "      <td>non</td>\n",
       "      <td>Italien</td>\n",
       "      <td>-1</td>\n",
       "    </tr>\n",
       "    <tr>\n",
       "      <th>5</th>\n",
       "      <td>Strasbourg</td>\n",
       "      <td>non</td>\n",
       "      <td>Francais</td>\n",
       "      <td>-1</td>\n",
       "    </tr>\n",
       "    <tr>\n",
       "      <th>6</th>\n",
       "      <td>Strasbourg</td>\n",
       "      <td>oui</td>\n",
       "      <td>Francais</td>\n",
       "      <td>1</td>\n",
       "    </tr>\n",
       "    <tr>\n",
       "      <th>7</th>\n",
       "      <td>Montpellier</td>\n",
       "      <td>oui</td>\n",
       "      <td>Suisse</td>\n",
       "      <td>-1</td>\n",
       "    </tr>\n",
       "  </tbody>\n",
       "</table>\n",
       "</div>"
      ],
      "text/plain": [
       "       Adresse Majeur? Nationalite  Label\n",
       "0        Paris     oui    Francais      1\n",
       "1        Paris     non    Francais     -1\n",
       "2  Montpellier     oui     Italien      1\n",
       "3        Paris     oui      Suisse     -1\n",
       "4   Strasbourg     non     Italien     -1\n",
       "5   Strasbourg     non    Francais     -1\n",
       "6   Strasbourg     oui    Francais      1\n",
       "7  Montpellier     oui      Suisse     -1"
      ]
     },
     "execution_count": 39,
     "metadata": {},
     "output_type": "execute_result"
    }
   ],
   "source": [
    "# Rappel :\n",
    "print(\"Noms des colonnes : \", elections_noms)\n",
    "elections_df\n"
   ]
  },
  {
   "cell_type": "code",
   "execution_count": 40,
   "metadata": {},
   "outputs": [
    {
     "data": {
      "text/html": [
       "<div>\n",
       "<style scoped>\n",
       "    .dataframe tbody tr th:only-of-type {\n",
       "        vertical-align: middle;\n",
       "    }\n",
       "\n",
       "    .dataframe tbody tr th {\n",
       "        vertical-align: top;\n",
       "    }\n",
       "\n",
       "    .dataframe thead th {\n",
       "        text-align: right;\n",
       "    }\n",
       "</style>\n",
       "<table border=\"1\" class=\"dataframe\">\n",
       "  <thead>\n",
       "    <tr style=\"text-align: right;\">\n",
       "      <th></th>\n",
       "      <th>Label</th>\n",
       "      <th>Adresse_Montpellier</th>\n",
       "      <th>Adresse_Paris</th>\n",
       "      <th>Adresse_Strasbourg</th>\n",
       "      <th>Majeur?_non</th>\n",
       "      <th>Majeur?_oui</th>\n",
       "      <th>Nationalite_Francais</th>\n",
       "      <th>Nationalite_Italien</th>\n",
       "      <th>Nationalite_Suisse</th>\n",
       "    </tr>\n",
       "  </thead>\n",
       "  <tbody>\n",
       "    <tr>\n",
       "      <th>0</th>\n",
       "      <td>1</td>\n",
       "      <td>0</td>\n",
       "      <td>1</td>\n",
       "      <td>0</td>\n",
       "      <td>0</td>\n",
       "      <td>1</td>\n",
       "      <td>1</td>\n",
       "      <td>0</td>\n",
       "      <td>0</td>\n",
       "    </tr>\n",
       "    <tr>\n",
       "      <th>1</th>\n",
       "      <td>-1</td>\n",
       "      <td>0</td>\n",
       "      <td>1</td>\n",
       "      <td>0</td>\n",
       "      <td>1</td>\n",
       "      <td>0</td>\n",
       "      <td>1</td>\n",
       "      <td>0</td>\n",
       "      <td>0</td>\n",
       "    </tr>\n",
       "    <tr>\n",
       "      <th>2</th>\n",
       "      <td>1</td>\n",
       "      <td>1</td>\n",
       "      <td>0</td>\n",
       "      <td>0</td>\n",
       "      <td>0</td>\n",
       "      <td>1</td>\n",
       "      <td>0</td>\n",
       "      <td>1</td>\n",
       "      <td>0</td>\n",
       "    </tr>\n",
       "    <tr>\n",
       "      <th>3</th>\n",
       "      <td>-1</td>\n",
       "      <td>0</td>\n",
       "      <td>1</td>\n",
       "      <td>0</td>\n",
       "      <td>0</td>\n",
       "      <td>1</td>\n",
       "      <td>0</td>\n",
       "      <td>0</td>\n",
       "      <td>1</td>\n",
       "    </tr>\n",
       "    <tr>\n",
       "      <th>4</th>\n",
       "      <td>-1</td>\n",
       "      <td>0</td>\n",
       "      <td>0</td>\n",
       "      <td>1</td>\n",
       "      <td>1</td>\n",
       "      <td>0</td>\n",
       "      <td>0</td>\n",
       "      <td>1</td>\n",
       "      <td>0</td>\n",
       "    </tr>\n",
       "    <tr>\n",
       "      <th>5</th>\n",
       "      <td>-1</td>\n",
       "      <td>0</td>\n",
       "      <td>0</td>\n",
       "      <td>1</td>\n",
       "      <td>1</td>\n",
       "      <td>0</td>\n",
       "      <td>1</td>\n",
       "      <td>0</td>\n",
       "      <td>0</td>\n",
       "    </tr>\n",
       "    <tr>\n",
       "      <th>6</th>\n",
       "      <td>1</td>\n",
       "      <td>0</td>\n",
       "      <td>0</td>\n",
       "      <td>1</td>\n",
       "      <td>0</td>\n",
       "      <td>1</td>\n",
       "      <td>1</td>\n",
       "      <td>0</td>\n",
       "      <td>0</td>\n",
       "    </tr>\n",
       "    <tr>\n",
       "      <th>7</th>\n",
       "      <td>-1</td>\n",
       "      <td>1</td>\n",
       "      <td>0</td>\n",
       "      <td>0</td>\n",
       "      <td>0</td>\n",
       "      <td>1</td>\n",
       "      <td>0</td>\n",
       "      <td>0</td>\n",
       "      <td>1</td>\n",
       "    </tr>\n",
       "  </tbody>\n",
       "</table>\n",
       "</div>"
      ],
      "text/plain": [
       "   Label  Adresse_Montpellier  Adresse_Paris  Adresse_Strasbourg  Majeur?_non  \\\n",
       "0      1                    0              1                   0            0   \n",
       "1     -1                    0              1                   0            1   \n",
       "2      1                    1              0                   0            0   \n",
       "3     -1                    0              1                   0            0   \n",
       "4     -1                    0              0                   1            1   \n",
       "5     -1                    0              0                   1            1   \n",
       "6      1                    0              0                   1            0   \n",
       "7     -1                    1              0                   0            0   \n",
       "\n",
       "   Majeur?_oui  Nationalite_Francais  Nationalite_Italien  Nationalite_Suisse  \n",
       "0            1                     1                    0                   0  \n",
       "1            0                     1                    0                   0  \n",
       "2            1                     0                    1                   0  \n",
       "3            1                     0                    0                   1  \n",
       "4            0                     0                    1                   0  \n",
       "5            0                     1                    0                   0  \n",
       "6            1                     1                    0                   0  \n",
       "7            1                     0                    0                   1  "
      ]
     },
     "execution_count": 40,
     "metadata": {},
     "output_type": "execute_result"
    }
   ],
   "source": [
    "# ############################### A COMPLETER \n",
    "\n",
    "\n",
    "# ###############################\n",
    "\n",
    "# ------------------------\n",
    "elections_df_num"
   ]
  },
  {
   "cell_type": "code",
   "execution_count": 41,
   "metadata": {},
   "outputs": [
    {
     "name": "stdout",
     "output_type": "stream",
     "text": [
      "Noms des features:  ['Adresse_Montpellier', 'Adresse_Paris', 'Adresse_Strasbourg', 'Majeur?_non', 'Majeur?_oui', 'Nationalite_Francais', 'Nationalite_Italien', 'Nationalite_Suisse']\n"
     ]
    }
   ],
   "source": [
    "# Prétraitement pour pouvoir utiliser un classifieur\n",
    "elections_num_noms = [nom for nom in elections_df_num.columns if nom != 'Label']\n",
    "\n",
    "print(\"Noms des features: \",elections_num_noms)\n",
    "\n",
    "# Passer du dataframe à des arrays:\n",
    "elections_num_desc = np.array(elections_df_num[elections_num_noms])\n",
    "elections_num_label = np.array(elections_df_num['Label'])\n",
    "\n",
    "# Transformer le dataframe en dataset:\n",
    "data_num_desc = np.array(elections_df_num[elections_num_noms])\n",
    "data_num_label = np.array(elections_df_num['Label'])\n"
   ]
  },
  {
   "cell_type": "markdown",
   "metadata": {},
   "source": [
    "<font color=\"RED\" size=\"+1\">**[Q]**</font> Réaliser un `leave_one_out` sur cette base (même paramétrage que celui pour la base catégorielle) et comparer le résultat avec celui obtenu dans le cas catégoriel. Commenter."
   ]
  },
  {
   "cell_type": "code",
   "execution_count": 42,
   "metadata": {},
   "outputs": [
    {
     "data": {
      "text/plain": [
       "0.875"
      ]
     },
     "execution_count": 42,
     "metadata": {},
     "output_type": "execute_result"
    }
   ],
   "source": [
    "le_dataset = (data_num_desc,data_num_label)\n",
    "\n",
    "# ############################### A COMPLETER \n"
   ]
  },
  {
   "cell_type": "markdown",
   "metadata": {},
   "source": [
    "<font color=\"RED\" size=\"+1\">**[Q]**</font> Toujours sur cette base, réaliser un `leave_one_out` avec le classifieur KNN. Tester différentes valeurs de $k$ et tracer le résultat obtenu."
   ]
  },
  {
   "cell_type": "code",
   "execution_count": 43,
   "metadata": {},
   "outputs": [
    {
     "data": {
      "image/png": "[encoded data removed]",
      "text/plain": [
       "<Figure size 432x288 with 1 Axes>"
      ]
     },
     "metadata": {
      "needs_background": "light"
     },
     "output_type": "display_data"
    }
   ],
   "source": []
  },
  {
   "cell_type": "markdown",
   "metadata": {},
   "source": [
    "### Base des champignons"
   ]
  },
  {
   "cell_type": "markdown",
   "metadata": {},
   "source": [
    "<font color=\"RED\" size=\"+1\">**[Q]**</font> Réaliser un ensemble d'expérimentations sur la base mushrooms permettant de comparer les résultats obtenus avec un classifieur par arbres de décision et les classifieurs numériques que l'on a définis dans les séances précédentes.\n",
    "\n",
    "**Remarque**: commencer par une taille de base réduite pour que cela ne prenne pas trop de temps d'exécution..."
   ]
  },
  {
   "cell_type": "code",
   "execution_count": 44,
   "metadata": {},
   "outputs": [],
   "source": [
    "# Rechargement de la base de départ :\n",
    "\n",
    "# On commence par travailler sur un des fichier \"mushrooms-1400\"\n",
    "mushrooms_df = pd.read_csv(\"data/mushrooms-1400-1.csv\")\n",
    "# Dans ce dataframe, la colonne de classe s'appelle 'class'\n",
    "mushrooms_noms = [nom for nom in mushrooms_df.columns if nom != 'class']\n"
   ]
  },
  {
   "cell_type": "code",
   "execution_count": null,
   "metadata": {},
   "outputs": [],
   "source": []
  },
  {
   "cell_type": "code",
   "execution_count": 45,
   "metadata": {},
   "outputs": [
    {
     "data": {
      "text/html": [
       "<div>\n",
       "<style scoped>\n",
       "    .dataframe tbody tr th:only-of-type {\n",
       "        vertical-align: middle;\n",
       "    }\n",
       "\n",
       "    .dataframe tbody tr th {\n",
       "        vertical-align: top;\n",
       "    }\n",
       "\n",
       "    .dataframe thead th {\n",
       "        text-align: right;\n",
       "    }\n",
       "</style>\n",
       "<table border=\"1\" class=\"dataframe\">\n",
       "  <thead>\n",
       "    <tr style=\"text-align: right;\">\n",
       "      <th></th>\n",
       "      <th>class</th>\n",
       "      <th>cap-shape_b</th>\n",
       "      <th>cap-shape_f</th>\n",
       "      <th>cap-shape_k</th>\n",
       "      <th>cap-shape_s</th>\n",
       "      <th>cap-shape_x</th>\n",
       "      <th>cap-surface_f</th>\n",
       "      <th>cap-surface_g</th>\n",
       "      <th>cap-surface_s</th>\n",
       "      <th>cap-surface_y</th>\n",
       "      <th>...</th>\n",
       "      <th>population_s</th>\n",
       "      <th>population_v</th>\n",
       "      <th>population_y</th>\n",
       "      <th>habitat_d</th>\n",
       "      <th>habitat_g</th>\n",
       "      <th>habitat_l</th>\n",
       "      <th>habitat_m</th>\n",
       "      <th>habitat_p</th>\n",
       "      <th>habitat_u</th>\n",
       "      <th>habitat_w</th>\n",
       "    </tr>\n",
       "  </thead>\n",
       "  <tbody>\n",
       "    <tr>\n",
       "      <th>0</th>\n",
       "      <td>p</td>\n",
       "      <td>0</td>\n",
       "      <td>0</td>\n",
       "      <td>0</td>\n",
       "      <td>0</td>\n",
       "      <td>1</td>\n",
       "      <td>0</td>\n",
       "      <td>0</td>\n",
       "      <td>0</td>\n",
       "      <td>1</td>\n",
       "      <td>...</td>\n",
       "      <td>0</td>\n",
       "      <td>1</td>\n",
       "      <td>0</td>\n",
       "      <td>1</td>\n",
       "      <td>0</td>\n",
       "      <td>0</td>\n",
       "      <td>0</td>\n",
       "      <td>0</td>\n",
       "      <td>0</td>\n",
       "      <td>0</td>\n",
       "    </tr>\n",
       "    <tr>\n",
       "      <th>1</th>\n",
       "      <td>p</td>\n",
       "      <td>0</td>\n",
       "      <td>0</td>\n",
       "      <td>0</td>\n",
       "      <td>0</td>\n",
       "      <td>1</td>\n",
       "      <td>0</td>\n",
       "      <td>0</td>\n",
       "      <td>1</td>\n",
       "      <td>0</td>\n",
       "      <td>...</td>\n",
       "      <td>0</td>\n",
       "      <td>1</td>\n",
       "      <td>0</td>\n",
       "      <td>0</td>\n",
       "      <td>0</td>\n",
       "      <td>1</td>\n",
       "      <td>0</td>\n",
       "      <td>0</td>\n",
       "      <td>0</td>\n",
       "      <td>0</td>\n",
       "    </tr>\n",
       "    <tr>\n",
       "      <th>2</th>\n",
       "      <td>p</td>\n",
       "      <td>0</td>\n",
       "      <td>0</td>\n",
       "      <td>0</td>\n",
       "      <td>0</td>\n",
       "      <td>1</td>\n",
       "      <td>1</td>\n",
       "      <td>0</td>\n",
       "      <td>0</td>\n",
       "      <td>0</td>\n",
       "      <td>...</td>\n",
       "      <td>0</td>\n",
       "      <td>1</td>\n",
       "      <td>0</td>\n",
       "      <td>1</td>\n",
       "      <td>0</td>\n",
       "      <td>0</td>\n",
       "      <td>0</td>\n",
       "      <td>0</td>\n",
       "      <td>0</td>\n",
       "      <td>0</td>\n",
       "    </tr>\n",
       "    <tr>\n",
       "      <th>3</th>\n",
       "      <td>p</td>\n",
       "      <td>0</td>\n",
       "      <td>0</td>\n",
       "      <td>0</td>\n",
       "      <td>0</td>\n",
       "      <td>1</td>\n",
       "      <td>1</td>\n",
       "      <td>0</td>\n",
       "      <td>0</td>\n",
       "      <td>0</td>\n",
       "      <td>...</td>\n",
       "      <td>0</td>\n",
       "      <td>0</td>\n",
       "      <td>1</td>\n",
       "      <td>0</td>\n",
       "      <td>1</td>\n",
       "      <td>0</td>\n",
       "      <td>0</td>\n",
       "      <td>0</td>\n",
       "      <td>0</td>\n",
       "      <td>0</td>\n",
       "    </tr>\n",
       "    <tr>\n",
       "      <th>4</th>\n",
       "      <td>p</td>\n",
       "      <td>0</td>\n",
       "      <td>0</td>\n",
       "      <td>0</td>\n",
       "      <td>0</td>\n",
       "      <td>1</td>\n",
       "      <td>1</td>\n",
       "      <td>0</td>\n",
       "      <td>0</td>\n",
       "      <td>0</td>\n",
       "      <td>...</td>\n",
       "      <td>0</td>\n",
       "      <td>0</td>\n",
       "      <td>1</td>\n",
       "      <td>1</td>\n",
       "      <td>0</td>\n",
       "      <td>0</td>\n",
       "      <td>0</td>\n",
       "      <td>0</td>\n",
       "      <td>0</td>\n",
       "      <td>0</td>\n",
       "    </tr>\n",
       "    <tr>\n",
       "      <th>...</th>\n",
       "      <td>...</td>\n",
       "      <td>...</td>\n",
       "      <td>...</td>\n",
       "      <td>...</td>\n",
       "      <td>...</td>\n",
       "      <td>...</td>\n",
       "      <td>...</td>\n",
       "      <td>...</td>\n",
       "      <td>...</td>\n",
       "      <td>...</td>\n",
       "      <td>...</td>\n",
       "      <td>...</td>\n",
       "      <td>...</td>\n",
       "      <td>...</td>\n",
       "      <td>...</td>\n",
       "      <td>...</td>\n",
       "      <td>...</td>\n",
       "      <td>...</td>\n",
       "      <td>...</td>\n",
       "      <td>...</td>\n",
       "      <td>...</td>\n",
       "    </tr>\n",
       "    <tr>\n",
       "      <th>1395</th>\n",
       "      <td>p</td>\n",
       "      <td>0</td>\n",
       "      <td>0</td>\n",
       "      <td>0</td>\n",
       "      <td>0</td>\n",
       "      <td>1</td>\n",
       "      <td>0</td>\n",
       "      <td>0</td>\n",
       "      <td>0</td>\n",
       "      <td>1</td>\n",
       "      <td>...</td>\n",
       "      <td>0</td>\n",
       "      <td>1</td>\n",
       "      <td>0</td>\n",
       "      <td>0</td>\n",
       "      <td>0</td>\n",
       "      <td>0</td>\n",
       "      <td>0</td>\n",
       "      <td>1</td>\n",
       "      <td>0</td>\n",
       "      <td>0</td>\n",
       "    </tr>\n",
       "    <tr>\n",
       "      <th>1396</th>\n",
       "      <td>e</td>\n",
       "      <td>0</td>\n",
       "      <td>1</td>\n",
       "      <td>0</td>\n",
       "      <td>0</td>\n",
       "      <td>0</td>\n",
       "      <td>0</td>\n",
       "      <td>0</td>\n",
       "      <td>0</td>\n",
       "      <td>1</td>\n",
       "      <td>...</td>\n",
       "      <td>0</td>\n",
       "      <td>1</td>\n",
       "      <td>0</td>\n",
       "      <td>1</td>\n",
       "      <td>0</td>\n",
       "      <td>0</td>\n",
       "      <td>0</td>\n",
       "      <td>0</td>\n",
       "      <td>0</td>\n",
       "      <td>0</td>\n",
       "    </tr>\n",
       "    <tr>\n",
       "      <th>1397</th>\n",
       "      <td>e</td>\n",
       "      <td>0</td>\n",
       "      <td>1</td>\n",
       "      <td>0</td>\n",
       "      <td>0</td>\n",
       "      <td>0</td>\n",
       "      <td>1</td>\n",
       "      <td>0</td>\n",
       "      <td>0</td>\n",
       "      <td>0</td>\n",
       "      <td>...</td>\n",
       "      <td>0</td>\n",
       "      <td>0</td>\n",
       "      <td>1</td>\n",
       "      <td>1</td>\n",
       "      <td>0</td>\n",
       "      <td>0</td>\n",
       "      <td>0</td>\n",
       "      <td>0</td>\n",
       "      <td>0</td>\n",
       "      <td>0</td>\n",
       "    </tr>\n",
       "    <tr>\n",
       "      <th>1398</th>\n",
       "      <td>p</td>\n",
       "      <td>0</td>\n",
       "      <td>0</td>\n",
       "      <td>0</td>\n",
       "      <td>0</td>\n",
       "      <td>1</td>\n",
       "      <td>1</td>\n",
       "      <td>0</td>\n",
       "      <td>0</td>\n",
       "      <td>0</td>\n",
       "      <td>...</td>\n",
       "      <td>0</td>\n",
       "      <td>0</td>\n",
       "      <td>1</td>\n",
       "      <td>1</td>\n",
       "      <td>0</td>\n",
       "      <td>0</td>\n",
       "      <td>0</td>\n",
       "      <td>0</td>\n",
       "      <td>0</td>\n",
       "      <td>0</td>\n",
       "    </tr>\n",
       "    <tr>\n",
       "      <th>1399</th>\n",
       "      <td>e</td>\n",
       "      <td>0</td>\n",
       "      <td>1</td>\n",
       "      <td>0</td>\n",
       "      <td>0</td>\n",
       "      <td>0</td>\n",
       "      <td>1</td>\n",
       "      <td>0</td>\n",
       "      <td>0</td>\n",
       "      <td>0</td>\n",
       "      <td>...</td>\n",
       "      <td>0</td>\n",
       "      <td>1</td>\n",
       "      <td>0</td>\n",
       "      <td>1</td>\n",
       "      <td>0</td>\n",
       "      <td>0</td>\n",
       "      <td>0</td>\n",
       "      <td>0</td>\n",
       "      <td>0</td>\n",
       "      <td>0</td>\n",
       "    </tr>\n",
       "  </tbody>\n",
       "</table>\n",
       "<p>1400 rows × 115 columns</p>\n",
       "</div>"
      ],
      "text/plain": [
       "     class  cap-shape_b  cap-shape_f  cap-shape_k  cap-shape_s  cap-shape_x  \\\n",
       "0        p            0            0            0            0            1   \n",
       "1        p            0            0            0            0            1   \n",
       "2        p            0            0            0            0            1   \n",
       "3        p            0            0            0            0            1   \n",
       "4        p            0            0            0            0            1   \n",
       "...    ...          ...          ...          ...          ...          ...   \n",
       "1395     p            0            0            0            0            1   \n",
       "1396     e            0            1            0            0            0   \n",
       "1397     e            0            1            0            0            0   \n",
       "1398     p            0            0            0            0            1   \n",
       "1399     e            0            1            0            0            0   \n",
       "\n",
       "      cap-surface_f  cap-surface_g  cap-surface_s  cap-surface_y  ...  \\\n",
       "0                 0              0              0              1  ...   \n",
       "1                 0              0              1              0  ...   \n",
       "2                 1              0              0              0  ...   \n",
       "3                 1              0              0              0  ...   \n",
       "4                 1              0              0              0  ...   \n",
       "...             ...            ...            ...            ...  ...   \n",
       "1395              0              0              0              1  ...   \n",
       "1396              0              0              0              1  ...   \n",
       "1397              1              0              0              0  ...   \n",
       "1398              1              0              0              0  ...   \n",
       "1399              1              0              0              0  ...   \n",
       "\n",
       "      population_s  population_v  population_y  habitat_d  habitat_g  \\\n",
       "0                0             1             0          1          0   \n",
       "1                0             1             0          0          0   \n",
       "2                0             1             0          1          0   \n",
       "3                0             0             1          0          1   \n",
       "4                0             0             1          1          0   \n",
       "...            ...           ...           ...        ...        ...   \n",
       "1395             0             1             0          0          0   \n",
       "1396             0             1             0          1          0   \n",
       "1397             0             0             1          1          0   \n",
       "1398             0             0             1          1          0   \n",
       "1399             0             1             0          1          0   \n",
       "\n",
       "      habitat_l  habitat_m  habitat_p  habitat_u  habitat_w  \n",
       "0             0          0          0          0          0  \n",
       "1             1          0          0          0          0  \n",
       "2             0          0          0          0          0  \n",
       "3             0          0          0          0          0  \n",
       "4             0          0          0          0          0  \n",
       "...         ...        ...        ...        ...        ...  \n",
       "1395          0          0          1          0          0  \n",
       "1396          0          0          0          0          0  \n",
       "1397          0          0          0          0          0  \n",
       "1398          0          0          0          0          0  \n",
       "1399          0          0          0          0          0  \n",
       "\n",
       "[1400 rows x 115 columns]"
      ]
     },
     "execution_count": 45,
     "metadata": {},
     "output_type": "execute_result"
    }
   ],
   "source": [
    "mushrooms_1_num = pd.get_dummies(mushrooms_df, columns = mushrooms_noms)\n",
    "mushrooms_1_num "
   ]
  },
  {
   "cell_type": "code",
   "execution_count": 46,
   "metadata": {},
   "outputs": [
    {
     "name": "stdout",
     "output_type": "stream",
     "text": [
      "Noms des features:  ['cap-shape_b', 'cap-shape_f', 'cap-shape_k', 'cap-shape_s', 'cap-shape_x', 'cap-surface_f', 'cap-surface_g', 'cap-surface_s', 'cap-surface_y', 'cap-color_b', 'cap-color_c', 'cap-color_e', 'cap-color_g', 'cap-color_n', 'cap-color_p', 'cap-color_r', 'cap-color_u', 'cap-color_w', 'cap-color_y', 'bruises_f', 'bruises_t', 'odor_a', 'odor_c', 'odor_f', 'odor_l', 'odor_m', 'odor_n', 'odor_p', 'odor_s', 'odor_y', 'gill-attachment_a', 'gill-attachment_f', 'gill-spacing_c', 'gill-spacing_w', 'gill-size_b', 'gill-size_n', 'gill-color_b', 'gill-color_e', 'gill-color_g', 'gill-color_h', 'gill-color_k', 'gill-color_n', 'gill-color_o', 'gill-color_p', 'gill-color_r', 'gill-color_u', 'gill-color_w', 'gill-color_y', 'stalk-shape_e', 'stalk-shape_t', 'stalk-root_?', 'stalk-root_b', 'stalk-root_c', 'stalk-root_e', 'stalk-root_r', 'stalk-surface-above-ring_f', 'stalk-surface-above-ring_k', 'stalk-surface-above-ring_s', 'stalk-surface-above-ring_y', 'stalk-surface-below-ring_f', 'stalk-surface-below-ring_k', 'stalk-surface-below-ring_s', 'stalk-surface-below-ring_y', 'stalk-color-above-ring_b', 'stalk-color-above-ring_c', 'stalk-color-above-ring_e', 'stalk-color-above-ring_g', 'stalk-color-above-ring_n', 'stalk-color-above-ring_o', 'stalk-color-above-ring_p', 'stalk-color-above-ring_w', 'stalk-color-below-ring_b', 'stalk-color-below-ring_c', 'stalk-color-below-ring_e', 'stalk-color-below-ring_g', 'stalk-color-below-ring_n', 'stalk-color-below-ring_o', 'stalk-color-below-ring_p', 'stalk-color-below-ring_w', 'stalk-color-below-ring_y', 'veil-type_p', 'veil-color_n', 'veil-color_o', 'veil-color_w', 'ring-number_n', 'ring-number_o', 'ring-number_t', 'ring-type_e', 'ring-type_f', 'ring-type_l', 'ring-type_n', 'ring-type_p', 'spore-print-color_b', 'spore-print-color_h', 'spore-print-color_k', 'spore-print-color_n', 'spore-print-color_o', 'spore-print-color_r', 'spore-print-color_u', 'spore-print-color_w', 'spore-print-color_y', 'population_a', 'population_c', 'population_n', 'population_s', 'population_v', 'population_y', 'habitat_d', 'habitat_g', 'habitat_l', 'habitat_m', 'habitat_p', 'habitat_u', 'habitat_w']\n"
     ]
    }
   ],
   "source": [
    "# Prétraitement pour pouvoir utiliser un classifieur\n",
    "mushrooms_1_num_noms = [nom for nom in mushrooms_1_num.columns if nom != 'class']\n",
    "\n",
    "print(\"Noms des features: \",mushrooms_1_num_noms)\n",
    "\n",
    "# Passer du dataframe à des arrays:\n",
    "mushrooms_1_num_desc = np.array(mushrooms_1_num[mushrooms_1_num_noms])\n",
    "mushrooms_1_num_label = np.array(mushrooms_1_num['class'])\n",
    "\n",
    "# Transformer le dataframe en dataset:\n",
    "data_num_desc = np.array(mushrooms_1_num[mushrooms_1_num_noms])\n",
    "\n",
    "# Remarque : pour utiliser les classifieurs précédents, il faut que la classe soit +1 ou -1\n",
    "# on convertit donc 'e' et 'p'\n",
    "val_class ={'e':1, 'p':-1}\n",
    "data_num_label = np.array([val_class[c] for c in mushrooms_1_num['class']])\n"
   ]
  },
  {
   "cell_type": "code",
   "execution_count": 47,
   "metadata": {},
   "outputs": [
    {
     "name": "stdout",
     "output_type": "stream",
     "text": [
      "Exemple de résultat sur les données numériques: validation croisée avec les arbres de décisions\n",
      "0 : taille app.=  1261 taille test=  139 Accuracy:  1.0\n",
      "1 : taille app.=  1261 taille test=  139 Accuracy:  1.0\n",
      "2 : taille app.=  1261 taille test=  139 Accuracy:  0.9784172661870504\n",
      "3 : taille app.=  1261 taille test=  139 Accuracy:  0.9928057553956835\n",
      "4 : taille app.=  1261 taille test=  139 Accuracy:  1.0\n",
      "5 : taille app.=  1261 taille test=  139 Accuracy:  1.0\n",
      "6 : taille app.=  1261 taille test=  139 Accuracy:  1.0\n",
      "7 : taille app.=  1261 taille test=  139 Accuracy:  1.0\n",
      "8 : taille app.=  1261 taille test=  139 Accuracy:  1.0\n",
      "9 : taille app.=  1261 taille test=  139 Accuracy:  1.0\n",
      "Perf obtenues :  [1.0, 1.0, 0.9784172661870504, 0.9928057553956835, 1.0, 1.0, 1.0, 1.0, 1.0, 1.0]\n",
      "Accuracy moyenne:  0.9971223021582734 \técart type:  0.006593634093461631\n"
     ]
    }
   ],
   "source": [
    "print(\"Exemple de résultat sur les données numériques: validation croisée avec les arbres de décisions\")\n",
    "\n",
    "arbre = ClassifierArbreDecision(len(mushrooms_1_num_noms), 0.1, mushrooms_1_num_noms)\n",
    "\n",
    "# Remarque: j'ai mis des affichage dans la fonction validation croisée afin de montrer\n",
    "# ce qui se passe:\n",
    "(res_all, res_moy, res_sd) = validation_croisee(arbre, (data_num_desc, data_num_label), 10)\n",
    "\n",
    "print(\"Perf obtenues : \",res_all)\n",
    "print(\"Accuracy moyenne: \",res_moy,\"\\técart type: \", res_sd)"
   ]
  },
  {
   "cell_type": "code",
   "execution_count": 48,
   "metadata": {},
   "outputs": [
    {
     "name": "stdout",
     "output_type": "stream",
     "text": [
      "Exemple de résultat: validation croisée avec un knn pour k= 3\n",
      "0 : taille app.=  1261 taille test=  139 Accuracy:  1.0\n",
      "1 : taille app.=  1261 taille test=  139 Accuracy:  1.0\n",
      "2 : taille app.=  1261 taille test=  139 Accuracy:  0.9928057553956835\n",
      "3 : taille app.=  1261 taille test=  139 Accuracy:  0.9928057553956835\n",
      "4 : taille app.=  1261 taille test=  139 Accuracy:  1.0\n",
      "5 : taille app.=  1261 taille test=  139 Accuracy:  1.0\n",
      "6 : taille app.=  1261 taille test=  139 Accuracy:  1.0\n",
      "7 : taille app.=  1261 taille test=  139 Accuracy:  1.0\n",
      "8 : taille app.=  1261 taille test=  139 Accuracy:  1.0\n",
      "9 : taille app.=  1261 taille test=  139 Accuracy:  1.0\n",
      "Perf obtenues :  [1.0, 1.0, 0.9928057553956835, 0.9928057553956835, 1.0, 1.0, 1.0, 1.0, 1.0, 1.0]\n",
      "Accuracy moyenne:  0.9985611510791367 \técart type:  0.002877697841726601\n"
     ]
    }
   ],
   "source": [
    "k=3\n",
    "print(\"Exemple de résultat: validation croisée avec un knn pour k=\",k)\n",
    "\n",
    "# ############################### A COMPLETER \n"
   ]
  },
  {
   "cell_type": "code",
   "execution_count": 49,
   "metadata": {},
   "outputs": [
    {
     "name": "stdout",
     "output_type": "stream",
     "text": [
      "Exemple de résultat: validation croisée avec un perceptron biais\n",
      "0 : taille app.=  1261 taille test=  139 Accuracy:  1.0\n",
      "1 : taille app.=  1261 taille test=  139 Accuracy:  1.0\n",
      "2 : taille app.=  1261 taille test=  139 Accuracy:  0.9928057553956835\n",
      "3 : taille app.=  1261 taille test=  139 Accuracy:  0.9928057553956835\n",
      "4 : taille app.=  1261 taille test=  139 Accuracy:  1.0\n",
      "5 : taille app.=  1261 taille test=  139 Accuracy:  1.0\n",
      "6 : taille app.=  1261 taille test=  139 Accuracy:  1.0\n",
      "7 : taille app.=  1261 taille test=  139 Accuracy:  1.0\n",
      "8 : taille app.=  1261 taille test=  139 Accuracy:  1.0\n",
      "9 : taille app.=  1261 taille test=  139 Accuracy:  1.0\n",
      "Perf obtenues :  [1.0, 1.0, 0.9928057553956835, 0.9928057553956835, 1.0, 1.0, 1.0, 1.0, 1.0, 1.0]\n",
      "Accuracy moyenne:  0.9985611510791367 \técart type:  0.002877697841726601\n"
     ]
    }
   ],
   "source": [
    "print(\"Exemple de résultat: validation croisée avec un perceptron biais\")\n",
    "\n",
    "# ############################### A COMPLETER \n"
   ]
  },
  {
   "cell_type": "markdown",
   "metadata": {},
   "source": [
    "<font color=\"RED\" size=\"+1\">**[Q]**</font> *Toujours plus...*  \n",
    "\n",
    "Réaliser les mêmes expérimentations avec la base mushrooms complète."
   ]
  },
  {
   "cell_type": "code",
   "execution_count": null,
   "metadata": {},
   "outputs": [],
   "source": []
  }
 ],
 "metadata": {
  "kernelspec": {
   "display_name": "Python 3",
   "language": "python",
   "name": "python3"
  },
  "language_info": {
   "codemirror_mode": {
    "name": "ipython",
    "version": 3
   },
   "file_extension": ".py",
   "mimetype": "text/x-python",
   "name": "python",
   "nbconvert_exporter": "python",
   "pygments_lexer": "ipython3",
   "version": "3.9.13"
  }
 },
 "nbformat": 4,
 "nbformat_minor": 1
}
